{
 "cells": [
  {
   "cell_type": "code",
   "execution_count": 421,
   "id": "6b354883",
   "metadata": {},
   "outputs": [],
   "source": [
    "import pandas as pd\n",
    "import matplotlib.pyplot as plt\n",
    "import numpy as np\n",
    "import seaborn as sns"
   ]
  },
  {
   "cell_type": "code",
   "execution_count": 422,
   "id": "adbd2920",
   "metadata": {},
   "outputs": [],
   "source": [
    "#import pyforest"
   ]
  },
  {
   "cell_type": "code",
   "execution_count": 423,
   "id": "de07311a",
   "metadata": {},
   "outputs": [],
   "source": [
    "# EDA (Exploratory Data Analysis)\n"
   ]
  },
  {
   "cell_type": "code",
   "execution_count": 424,
   "id": "b35457c0",
   "metadata": {},
   "outputs": [],
   "source": [
    "df = pd.read_csv(\"Copy of Sample_DATA.csv\")"
   ]
  },
  {
   "cell_type": "code",
   "execution_count": 425,
   "id": "5ae6f359",
   "metadata": {},
   "outputs": [
    {
     "data": {
      "text/html": [
       "<div>\n",
       "<style scoped>\n",
       "    .dataframe tbody tr th:only-of-type {\n",
       "        vertical-align: middle;\n",
       "    }\n",
       "\n",
       "    .dataframe tbody tr th {\n",
       "        vertical-align: top;\n",
       "    }\n",
       "\n",
       "    .dataframe thead th {\n",
       "        text-align: right;\n",
       "    }\n",
       "</style>\n",
       "<table border=\"1\" class=\"dataframe\">\n",
       "  <thead>\n",
       "    <tr style=\"text-align: right;\">\n",
       "      <th></th>\n",
       "      <th>Transaction_ID</th>\n",
       "      <th>Date</th>\n",
       "      <th>Time</th>\n",
       "      <th>Merchant_ID</th>\n",
       "      <th>Customer_ID</th>\n",
       "      <th>Device_ID</th>\n",
       "      <th>Transaction_Type</th>\n",
       "      <th>Payment_Gateway</th>\n",
       "      <th>Transaction_City</th>\n",
       "      <th>Transaction_State</th>\n",
       "      <th>IP_Address</th>\n",
       "      <th>Transaction_Status</th>\n",
       "      <th>Device_OS</th>\n",
       "      <th>Transaction_Frequency</th>\n",
       "      <th>Merchant_Category</th>\n",
       "      <th>Transaction_Channel</th>\n",
       "      <th>Transaction_Amount_Deviation</th>\n",
       "      <th>Days_Since_Last_Transaction</th>\n",
       "      <th>amount</th>\n",
       "      <th>fraud</th>\n",
       "    </tr>\n",
       "  </thead>\n",
       "  <tbody>\n",
       "    <tr>\n",
       "      <th>0</th>\n",
       "      <td>T00022452</td>\n",
       "      <td>20/04/23</td>\n",
       "      <td>4:50:22 AM</td>\n",
       "      <td>f65a902b-2396-40cc-9593-97e103f1bc15</td>\n",
       "      <td>89aaeceb-21f5-46c8-9de3-89dde6a10a75</td>\n",
       "      <td>c1e0deb4-7c97-4178-a838-38f4a2f0b57c</td>\n",
       "      <td>Refund</td>\n",
       "      <td>SamplePay</td>\n",
       "      <td>Durgapur</td>\n",
       "      <td>Chhattisgarh</td>\n",
       "      <td>140.213.7.48</td>\n",
       "      <td>Completed</td>\n",
       "      <td>MacOS</td>\n",
       "      <td>1</td>\n",
       "      <td>Brand Vouchers and OTT</td>\n",
       "      <td>In-store</td>\n",
       "      <td>25.02</td>\n",
       "      <td>5</td>\n",
       "      <td>396.62</td>\n",
       "      <td>1</td>\n",
       "    </tr>\n",
       "    <tr>\n",
       "      <th>1</th>\n",
       "      <td>T00032233</td>\n",
       "      <td>08/08/23</td>\n",
       "      <td>8:09:21 AM</td>\n",
       "      <td>d4a5efcb-4eb6-4d3a-8132-07bb3e6e13a4</td>\n",
       "      <td>8a8962f9-e84a-4573-ab0b-187311978a21</td>\n",
       "      <td>62e14f64-b0ba-4284-889a-51ac05baf33e</td>\n",
       "      <td>Bank Transfer</td>\n",
       "      <td>SamplePay</td>\n",
       "      <td>Rajpur Sonarpur</td>\n",
       "      <td>Himachal Pradesh</td>\n",
       "      <td>184.108.177.45</td>\n",
       "      <td>Pending</td>\n",
       "      <td>Windows</td>\n",
       "      <td>30</td>\n",
       "      <td>Home delivery</td>\n",
       "      <td>Mobile</td>\n",
       "      <td>-36.64</td>\n",
       "      <td>20</td>\n",
       "      <td>121.94</td>\n",
       "      <td>1</td>\n",
       "    </tr>\n",
       "    <tr>\n",
       "      <th>2</th>\n",
       "      <td>T00037364</td>\n",
       "      <td>25/06/23</td>\n",
       "      <td>7:49:01 AM</td>\n",
       "      <td>759ad138-9473-4729-8699-3d72c7ffb983</td>\n",
       "      <td>c3f53ce6-e305-4460-a71d-93bde26043ab</td>\n",
       "      <td>4281c542-ac77-4269-b4bb-1de93ac12677</td>\n",
       "      <td>Bank Transfer</td>\n",
       "      <td>Other</td>\n",
       "      <td>New Delhi</td>\n",
       "      <td>Himachal Pradesh</td>\n",
       "      <td>16.106.248.163</td>\n",
       "      <td>Failed</td>\n",
       "      <td>Android</td>\n",
       "      <td>2</td>\n",
       "      <td>Utilities</td>\n",
       "      <td>Online</td>\n",
       "      <td>44.19</td>\n",
       "      <td>22</td>\n",
       "      <td>106.69</td>\n",
       "      <td>1</td>\n",
       "    </tr>\n",
       "    <tr>\n",
       "      <th>3</th>\n",
       "      <td>T00015924</td>\n",
       "      <td>28/01/24</td>\n",
       "      <td>5:44:12 AM</td>\n",
       "      <td>d8f561e4-bded-4ef0-bcd8-5494b2e31a94</td>\n",
       "      <td>9f0c5613-7d4c-4454-bee1-c47fbba406a1</td>\n",
       "      <td>058b6488-2469-42f2-bc7f-707921d35cad</td>\n",
       "      <td>Subscription</td>\n",
       "      <td>UPI Pay</td>\n",
       "      <td>Bharatpur</td>\n",
       "      <td>Chhattisgarh</td>\n",
       "      <td>65.245.160.212</td>\n",
       "      <td>Failed</td>\n",
       "      <td>Android</td>\n",
       "      <td>0</td>\n",
       "      <td>Purchases</td>\n",
       "      <td>Online</td>\n",
       "      <td>-54.34</td>\n",
       "      <td>28</td>\n",
       "      <td>3611.11</td>\n",
       "      <td>1</td>\n",
       "    </tr>\n",
       "    <tr>\n",
       "      <th>4</th>\n",
       "      <td>T00021805</td>\n",
       "      <td>21/06/23</td>\n",
       "      <td>9:40:59 AM</td>\n",
       "      <td>26fdd7a1-8537-4dfe-bcf7-f5a127b36682</td>\n",
       "      <td>bf9aa6d5-7d3d-43f9-8631-31336720a383</td>\n",
       "      <td>068ff12c-127a-4cfb-9899-ddde37060b28</td>\n",
       "      <td>Investment</td>\n",
       "      <td>Dummy Bank</td>\n",
       "      <td>Sagar</td>\n",
       "      <td>Mizoram</td>\n",
       "      <td>33.172.152.38</td>\n",
       "      <td>Completed</td>\n",
       "      <td>MacOS</td>\n",
       "      <td>1</td>\n",
       "      <td>Other</td>\n",
       "      <td>Online</td>\n",
       "      <td>12.38</td>\n",
       "      <td>25</td>\n",
       "      <td>374.89</td>\n",
       "      <td>1</td>\n",
       "    </tr>\n",
       "  </tbody>\n",
       "</table>\n",
       "</div>"
      ],
      "text/plain": [
       "  Transaction_ID      Date        Time                           Merchant_ID  \\\n",
       "0      T00022452  20/04/23  4:50:22 AM  f65a902b-2396-40cc-9593-97e103f1bc15   \n",
       "1      T00032233  08/08/23  8:09:21 AM  d4a5efcb-4eb6-4d3a-8132-07bb3e6e13a4   \n",
       "2      T00037364  25/06/23  7:49:01 AM  759ad138-9473-4729-8699-3d72c7ffb983   \n",
       "3      T00015924  28/01/24  5:44:12 AM  d8f561e4-bded-4ef0-bcd8-5494b2e31a94   \n",
       "4      T00021805  21/06/23  9:40:59 AM  26fdd7a1-8537-4dfe-bcf7-f5a127b36682   \n",
       "\n",
       "                            Customer_ID                             Device_ID  \\\n",
       "0  89aaeceb-21f5-46c8-9de3-89dde6a10a75  c1e0deb4-7c97-4178-a838-38f4a2f0b57c   \n",
       "1  8a8962f9-e84a-4573-ab0b-187311978a21  62e14f64-b0ba-4284-889a-51ac05baf33e   \n",
       "2  c3f53ce6-e305-4460-a71d-93bde26043ab  4281c542-ac77-4269-b4bb-1de93ac12677   \n",
       "3  9f0c5613-7d4c-4454-bee1-c47fbba406a1  058b6488-2469-42f2-bc7f-707921d35cad   \n",
       "4  bf9aa6d5-7d3d-43f9-8631-31336720a383  068ff12c-127a-4cfb-9899-ddde37060b28   \n",
       "\n",
       "  Transaction_Type Payment_Gateway Transaction_City Transaction_State  \\\n",
       "0           Refund       SamplePay         Durgapur      Chhattisgarh   \n",
       "1    Bank Transfer       SamplePay  Rajpur Sonarpur  Himachal Pradesh   \n",
       "2    Bank Transfer           Other        New Delhi  Himachal Pradesh   \n",
       "3     Subscription         UPI Pay        Bharatpur      Chhattisgarh   \n",
       "4       Investment      Dummy Bank            Sagar           Mizoram   \n",
       "\n",
       "       IP_Address Transaction_Status Device_OS  Transaction_Frequency  \\\n",
       "0    140.213.7.48          Completed     MacOS                      1   \n",
       "1  184.108.177.45            Pending   Windows                     30   \n",
       "2  16.106.248.163             Failed   Android                      2   \n",
       "3  65.245.160.212             Failed   Android                      0   \n",
       "4   33.172.152.38          Completed     MacOS                      1   \n",
       "\n",
       "        Merchant_Category Transaction_Channel  Transaction_Amount_Deviation  \\\n",
       "0  Brand Vouchers and OTT            In-store                         25.02   \n",
       "1           Home delivery              Mobile                        -36.64   \n",
       "2               Utilities              Online                         44.19   \n",
       "3               Purchases              Online                        -54.34   \n",
       "4                   Other              Online                         12.38   \n",
       "\n",
       "   Days_Since_Last_Transaction   amount  fraud  \n",
       "0                            5   396.62      1  \n",
       "1                           20   121.94      1  \n",
       "2                           22   106.69      1  \n",
       "3                           28  3611.11      1  \n",
       "4                           25   374.89      1  "
      ]
     },
     "execution_count": 425,
     "metadata": {},
     "output_type": "execute_result"
    }
   ],
   "source": [
    "df.head(5)"
   ]
  },
  {
   "cell_type": "code",
   "execution_count": 426,
   "id": "e1a5633b",
   "metadata": {},
   "outputs": [
    {
     "data": {
      "text/plain": [
       "(647, 20)"
      ]
     },
     "execution_count": 426,
     "metadata": {},
     "output_type": "execute_result"
    }
   ],
   "source": [
    "df.shape"
   ]
  },
  {
   "cell_type": "code",
   "execution_count": 427,
   "id": "4f0f42b7",
   "metadata": {},
   "outputs": [
    {
     "name": "stdout",
     "output_type": "stream",
     "text": [
      "<class 'pandas.core.frame.DataFrame'>\n",
      "RangeIndex: 647 entries, 0 to 646\n",
      "Data columns (total 20 columns):\n",
      " #   Column                        Non-Null Count  Dtype  \n",
      "---  ------                        --------------  -----  \n",
      " 0   Transaction_ID                647 non-null    object \n",
      " 1   Date                          647 non-null    object \n",
      " 2   Time                          647 non-null    object \n",
      " 3   Merchant_ID                   647 non-null    object \n",
      " 4   Customer_ID                   647 non-null    object \n",
      " 5   Device_ID                     647 non-null    object \n",
      " 6   Transaction_Type              647 non-null    object \n",
      " 7   Payment_Gateway               647 non-null    object \n",
      " 8   Transaction_City              647 non-null    object \n",
      " 9   Transaction_State             647 non-null    object \n",
      " 10  IP_Address                    647 non-null    object \n",
      " 11  Transaction_Status            647 non-null    object \n",
      " 12  Device_OS                     647 non-null    object \n",
      " 13  Transaction_Frequency         647 non-null    int64  \n",
      " 14  Merchant_Category             647 non-null    object \n",
      " 15  Transaction_Channel           647 non-null    object \n",
      " 16  Transaction_Amount_Deviation  647 non-null    float64\n",
      " 17  Days_Since_Last_Transaction   647 non-null    int64  \n",
      " 18  amount                        647 non-null    float64\n",
      " 19  fraud                         647 non-null    int64  \n",
      "dtypes: float64(2), int64(3), object(15)\n",
      "memory usage: 101.2+ KB\n"
     ]
    }
   ],
   "source": [
    "df.info()"
   ]
  },
  {
   "cell_type": "code",
   "execution_count": 428,
   "id": "c0a8988b",
   "metadata": {},
   "outputs": [],
   "source": [
    "int_df = df.select_dtypes(include=['int64', 'float64'])"
   ]
  },
  {
   "cell_type": "code",
   "execution_count": 429,
   "id": "33713702",
   "metadata": {},
   "outputs": [
    {
     "data": {
      "text/html": [
       "<div>\n",
       "<style scoped>\n",
       "    .dataframe tbody tr th:only-of-type {\n",
       "        vertical-align: middle;\n",
       "    }\n",
       "\n",
       "    .dataframe tbody tr th {\n",
       "        vertical-align: top;\n",
       "    }\n",
       "\n",
       "    .dataframe thead th {\n",
       "        text-align: right;\n",
       "    }\n",
       "</style>\n",
       "<table border=\"1\" class=\"dataframe\">\n",
       "  <thead>\n",
       "    <tr style=\"text-align: right;\">\n",
       "      <th></th>\n",
       "      <th>Transaction_Frequency</th>\n",
       "      <th>Transaction_Amount_Deviation</th>\n",
       "      <th>Days_Since_Last_Transaction</th>\n",
       "      <th>amount</th>\n",
       "      <th>fraud</th>\n",
       "    </tr>\n",
       "  </thead>\n",
       "  <tbody>\n",
       "    <tr>\n",
       "      <th>count</th>\n",
       "      <td>647.000000</td>\n",
       "      <td>647.000000</td>\n",
       "      <td>647.000000</td>\n",
       "      <td>647.000000</td>\n",
       "      <td>647.000000</td>\n",
       "    </tr>\n",
       "    <tr>\n",
       "      <th>mean</th>\n",
       "      <td>3.564142</td>\n",
       "      <td>5.014668</td>\n",
       "      <td>15.717156</td>\n",
       "      <td>128.839753</td>\n",
       "      <td>0.239567</td>\n",
       "    </tr>\n",
       "    <tr>\n",
       "      <th>std</th>\n",
       "      <td>6.454543</td>\n",
       "      <td>56.375914</td>\n",
       "      <td>8.218122</td>\n",
       "      <td>364.995747</td>\n",
       "      <td>0.427150</td>\n",
       "    </tr>\n",
       "    <tr>\n",
       "      <th>min</th>\n",
       "      <td>0.000000</td>\n",
       "      <td>-99.470000</td>\n",
       "      <td>1.000000</td>\n",
       "      <td>0.120000</td>\n",
       "      <td>0.000000</td>\n",
       "    </tr>\n",
       "    <tr>\n",
       "      <th>25%</th>\n",
       "      <td>1.000000</td>\n",
       "      <td>-42.355000</td>\n",
       "      <td>8.500000</td>\n",
       "      <td>17.155000</td>\n",
       "      <td>0.000000</td>\n",
       "    </tr>\n",
       "    <tr>\n",
       "      <th>50%</th>\n",
       "      <td>2.000000</td>\n",
       "      <td>8.380000</td>\n",
       "      <td>16.000000</td>\n",
       "      <td>35.000000</td>\n",
       "      <td>0.000000</td>\n",
       "    </tr>\n",
       "    <tr>\n",
       "      <th>75%</th>\n",
       "      <td>3.000000</td>\n",
       "      <td>52.290000</td>\n",
       "      <td>23.000000</td>\n",
       "      <td>74.770000</td>\n",
       "      <td>0.000000</td>\n",
       "    </tr>\n",
       "    <tr>\n",
       "      <th>max</th>\n",
       "      <td>50.000000</td>\n",
       "      <td>99.450000</td>\n",
       "      <td>29.000000</td>\n",
       "      <td>4883.620000</td>\n",
       "      <td>1.000000</td>\n",
       "    </tr>\n",
       "  </tbody>\n",
       "</table>\n",
       "</div>"
      ],
      "text/plain": [
       "       Transaction_Frequency  Transaction_Amount_Deviation  \\\n",
       "count             647.000000                    647.000000   \n",
       "mean                3.564142                      5.014668   \n",
       "std                 6.454543                     56.375914   \n",
       "min                 0.000000                    -99.470000   \n",
       "25%                 1.000000                    -42.355000   \n",
       "50%                 2.000000                      8.380000   \n",
       "75%                 3.000000                     52.290000   \n",
       "max                50.000000                     99.450000   \n",
       "\n",
       "       Days_Since_Last_Transaction       amount       fraud  \n",
       "count                   647.000000   647.000000  647.000000  \n",
       "mean                     15.717156   128.839753    0.239567  \n",
       "std                       8.218122   364.995747    0.427150  \n",
       "min                       1.000000     0.120000    0.000000  \n",
       "25%                       8.500000    17.155000    0.000000  \n",
       "50%                      16.000000    35.000000    0.000000  \n",
       "75%                      23.000000    74.770000    0.000000  \n",
       "max                      29.000000  4883.620000    1.000000  "
      ]
     },
     "execution_count": 429,
     "metadata": {},
     "output_type": "execute_result"
    }
   ],
   "source": [
    "int_df.describe()"
   ]
  },
  {
   "cell_type": "code",
   "execution_count": 430,
   "id": "70201eb7",
   "metadata": {},
   "outputs": [
    {
     "name": "stdout",
     "output_type": "stream",
     "text": [
      "<class 'pandas.core.frame.DataFrame'>\n",
      "RangeIndex: 647 entries, 0 to 646\n",
      "Data columns (total 5 columns):\n",
      " #   Column                        Non-Null Count  Dtype  \n",
      "---  ------                        --------------  -----  \n",
      " 0   Transaction_Frequency         647 non-null    int64  \n",
      " 1   Transaction_Amount_Deviation  647 non-null    float64\n",
      " 2   Days_Since_Last_Transaction   647 non-null    int64  \n",
      " 3   amount                        647 non-null    float64\n",
      " 4   fraud                         647 non-null    int64  \n",
      "dtypes: float64(2), int64(3)\n",
      "memory usage: 25.4 KB\n"
     ]
    }
   ],
   "source": [
    "int_df.info()"
   ]
  },
  {
   "cell_type": "code",
   "execution_count": 431,
   "id": "b4255415",
   "metadata": {},
   "outputs": [
    {
     "data": {
      "text/plain": [
       "Transaction_ID                  0\n",
       "Date                            0\n",
       "Time                            0\n",
       "Merchant_ID                     0\n",
       "Customer_ID                     0\n",
       "Device_ID                       0\n",
       "Transaction_Type                0\n",
       "Payment_Gateway                 0\n",
       "Transaction_City                0\n",
       "Transaction_State               0\n",
       "IP_Address                      0\n",
       "Transaction_Status              0\n",
       "Device_OS                       0\n",
       "Transaction_Frequency           0\n",
       "Merchant_Category               0\n",
       "Transaction_Channel             0\n",
       "Transaction_Amount_Deviation    0\n",
       "Days_Since_Last_Transaction     0\n",
       "amount                          0\n",
       "fraud                           0\n",
       "dtype: int64"
      ]
     },
     "execution_count": 431,
     "metadata": {},
     "output_type": "execute_result"
    }
   ],
   "source": [
    "#find null values\n",
    "df.isnull().sum()"
   ]
  },
  {
   "cell_type": "code",
   "execution_count": 432,
   "id": "1ef9f36c",
   "metadata": {},
   "outputs": [
    {
     "data": {
      "text/plain": [
       "Transaction_Frequency           0\n",
       "Transaction_Amount_Deviation    0\n",
       "Days_Since_Last_Transaction     0\n",
       "amount                          0\n",
       "fraud                           0\n",
       "dtype: int64"
      ]
     },
     "execution_count": 432,
     "metadata": {},
     "output_type": "execute_result"
    }
   ],
   "source": [
    "int_df.isnull().sum()"
   ]
  },
  {
   "cell_type": "code",
   "execution_count": 433,
   "id": "109dd7de",
   "metadata": {},
   "outputs": [
    {
     "data": {
      "text/plain": [
       "(647, 20)"
      ]
     },
     "execution_count": 433,
     "metadata": {},
     "output_type": "execute_result"
    }
   ],
   "source": [
    "df.shape"
   ]
  },
  {
   "cell_type": "code",
   "execution_count": 434,
   "id": "dcd79238",
   "metadata": {},
   "outputs": [
    {
     "data": {
      "text/plain": [
       "Transaction_ID                  647\n",
       "Date                            302\n",
       "Time                            641\n",
       "Merchant_ID                     647\n",
       "Customer_ID                     647\n",
       "Device_ID                       647\n",
       "Transaction_Type                  7\n",
       "Payment_Gateway                   9\n",
       "Transaction_City                281\n",
       "Transaction_State                28\n",
       "IP_Address                      647\n",
       "Transaction_Status                3\n",
       "Device_OS                         4\n",
       "Transaction_Frequency            14\n",
       "Merchant_Category                10\n",
       "Transaction_Channel               3\n",
       "Transaction_Amount_Deviation    635\n",
       "Days_Since_Last_Transaction      29\n",
       "amount                          633\n",
       "fraud                             2\n",
       "dtype: int64"
      ]
     },
     "execution_count": 434,
     "metadata": {},
     "output_type": "execute_result"
    }
   ],
   "source": [
    "df.nunique()"
   ]
  },
  {
   "cell_type": "code",
   "execution_count": 435,
   "id": "3512ce97",
   "metadata": {},
   "outputs": [],
   "source": [
    "df=df.drop(['Transaction_ID','Merchant_ID'] , axis=1)"
   ]
  },
  {
   "cell_type": "code",
   "execution_count": 436,
   "id": "d68b20b5",
   "metadata": {},
   "outputs": [
    {
     "data": {
      "text/plain": [
       "Index(['Date', 'Time', 'Customer_ID', 'Device_ID', 'Transaction_Type',\n",
       "       'Payment_Gateway', 'Transaction_City', 'Transaction_State',\n",
       "       'IP_Address', 'Transaction_Status', 'Device_OS',\n",
       "       'Transaction_Frequency', 'Merchant_Category', 'Transaction_Channel',\n",
       "       'Transaction_Amount_Deviation', 'Days_Since_Last_Transaction', 'amount',\n",
       "       'fraud'],\n",
       "      dtype='object')"
      ]
     },
     "execution_count": 436,
     "metadata": {},
     "output_type": "execute_result"
    }
   ],
   "source": [
    "df.columns"
   ]
  },
  {
   "cell_type": "code",
   "execution_count": 437,
   "id": "097a2d38",
   "metadata": {},
   "outputs": [],
   "source": [
    "df.drop(['Customer_ID', 'Device_ID',  'IP_Address'] ,axis=1, inplace=True)"
   ]
  },
  {
   "cell_type": "code",
   "execution_count": 438,
   "id": "c332d79a",
   "metadata": {},
   "outputs": [
    {
     "data": {
      "text/plain": [
       "Index(['Date', 'Time', 'Transaction_Type', 'Payment_Gateway',\n",
       "       'Transaction_City', 'Transaction_State', 'Transaction_Status',\n",
       "       'Device_OS', 'Transaction_Frequency', 'Merchant_Category',\n",
       "       'Transaction_Channel', 'Transaction_Amount_Deviation',\n",
       "       'Days_Since_Last_Transaction', 'amount', 'fraud'],\n",
       "      dtype='object')"
      ]
     },
     "execution_count": 438,
     "metadata": {},
     "output_type": "execute_result"
    }
   ],
   "source": [
    "df.columns"
   ]
  },
  {
   "cell_type": "code",
   "execution_count": 439,
   "id": "0c19fdb3",
   "metadata": {},
   "outputs": [
    {
     "data": {
      "text/plain": [
       "Date                            1\n",
       "Time                            1\n",
       "Transaction_Type                1\n",
       "Payment_Gateway                 1\n",
       "Transaction_City                1\n",
       "Transaction_State               1\n",
       "Transaction_Status              1\n",
       "Device_OS                       1\n",
       "Transaction_Frequency           1\n",
       "Merchant_Category               1\n",
       "Transaction_Channel             1\n",
       "Transaction_Amount_Deviation    1\n",
       "Days_Since_Last_Transaction     1\n",
       "amount                          1\n",
       "fraud                           1\n",
       "Name: count, dtype: int64"
      ]
     },
     "execution_count": 439,
     "metadata": {},
     "output_type": "execute_result"
    }
   ],
   "source": [
    "df.columns.value_counts()"
   ]
  },
  {
   "cell_type": "markdown",
   "id": "d9953b1d",
   "metadata": {},
   "source": [
    "**data cleaning and preprocessing**\n"
   ]
  },
  {
   "cell_type": "code",
   "execution_count": 440,
   "id": "2b4860a2",
   "metadata": {},
   "outputs": [
    {
     "data": {
      "text/html": [
       "<div>\n",
       "<style scoped>\n",
       "    .dataframe tbody tr th:only-of-type {\n",
       "        vertical-align: middle;\n",
       "    }\n",
       "\n",
       "    .dataframe tbody tr th {\n",
       "        vertical-align: top;\n",
       "    }\n",
       "\n",
       "    .dataframe thead th {\n",
       "        text-align: right;\n",
       "    }\n",
       "</style>\n",
       "<table border=\"1\" class=\"dataframe\">\n",
       "  <thead>\n",
       "    <tr style=\"text-align: right;\">\n",
       "      <th></th>\n",
       "      <th>Date</th>\n",
       "      <th>Time</th>\n",
       "    </tr>\n",
       "  </thead>\n",
       "  <tbody>\n",
       "    <tr>\n",
       "      <th>0</th>\n",
       "      <td>20/04/23</td>\n",
       "      <td>4:50:22 AM</td>\n",
       "    </tr>\n",
       "    <tr>\n",
       "      <th>1</th>\n",
       "      <td>08/08/23</td>\n",
       "      <td>8:09:21 AM</td>\n",
       "    </tr>\n",
       "    <tr>\n",
       "      <th>2</th>\n",
       "      <td>25/06/23</td>\n",
       "      <td>7:49:01 AM</td>\n",
       "    </tr>\n",
       "    <tr>\n",
       "      <th>3</th>\n",
       "      <td>28/01/24</td>\n",
       "      <td>5:44:12 AM</td>\n",
       "    </tr>\n",
       "    <tr>\n",
       "      <th>4</th>\n",
       "      <td>21/06/23</td>\n",
       "      <td>9:40:59 AM</td>\n",
       "    </tr>\n",
       "    <tr>\n",
       "      <th>...</th>\n",
       "      <td>...</td>\n",
       "      <td>...</td>\n",
       "    </tr>\n",
       "    <tr>\n",
       "      <th>642</th>\n",
       "      <td>24/07/23</td>\n",
       "      <td>3:12:04 AM</td>\n",
       "    </tr>\n",
       "    <tr>\n",
       "      <th>643</th>\n",
       "      <td>05/07/23</td>\n",
       "      <td>6:21:18 AM</td>\n",
       "    </tr>\n",
       "    <tr>\n",
       "      <th>644</th>\n",
       "      <td>16/04/23</td>\n",
       "      <td>8:32:41 AM</td>\n",
       "    </tr>\n",
       "    <tr>\n",
       "      <th>645</th>\n",
       "      <td>28/10/23</td>\n",
       "      <td>9:33:42 AM</td>\n",
       "    </tr>\n",
       "    <tr>\n",
       "      <th>646</th>\n",
       "      <td>11/04/24</td>\n",
       "      <td>10:48:14 AM</td>\n",
       "    </tr>\n",
       "  </tbody>\n",
       "</table>\n",
       "<p>647 rows × 2 columns</p>\n",
       "</div>"
      ],
      "text/plain": [
       "         Date         Time\n",
       "0    20/04/23   4:50:22 AM\n",
       "1    08/08/23   8:09:21 AM\n",
       "2    25/06/23   7:49:01 AM\n",
       "3    28/01/24   5:44:12 AM\n",
       "4    21/06/23   9:40:59 AM\n",
       "..        ...          ...\n",
       "642  24/07/23   3:12:04 AM\n",
       "643  05/07/23   6:21:18 AM\n",
       "644  16/04/23   8:32:41 AM\n",
       "645  28/10/23   9:33:42 AM\n",
       "646  11/04/24  10:48:14 AM\n",
       "\n",
       "[647 rows x 2 columns]"
      ]
     },
     "execution_count": 440,
     "metadata": {},
     "output_type": "execute_result"
    }
   ],
   "source": [
    "df[['Date' , 'Time']]"
   ]
  },
  {
   "cell_type": "code",
   "execution_count": 441,
   "id": "faf1e0fb",
   "metadata": {},
   "outputs": [
    {
     "data": {
      "text/html": [
       "<div>\n",
       "<style scoped>\n",
       "    .dataframe tbody tr th:only-of-type {\n",
       "        vertical-align: middle;\n",
       "    }\n",
       "\n",
       "    .dataframe tbody tr th {\n",
       "        vertical-align: top;\n",
       "    }\n",
       "\n",
       "    .dataframe thead th {\n",
       "        text-align: right;\n",
       "    }\n",
       "</style>\n",
       "<table border=\"1\" class=\"dataframe\">\n",
       "  <thead>\n",
       "    <tr style=\"text-align: right;\">\n",
       "      <th></th>\n",
       "      <th>Date</th>\n",
       "      <th>Time</th>\n",
       "      <th>Transaction_Type</th>\n",
       "      <th>Payment_Gateway</th>\n",
       "      <th>Transaction_City</th>\n",
       "      <th>Transaction_State</th>\n",
       "      <th>Transaction_Status</th>\n",
       "      <th>Device_OS</th>\n",
       "      <th>Transaction_Frequency</th>\n",
       "      <th>Merchant_Category</th>\n",
       "      <th>Transaction_Channel</th>\n",
       "      <th>Transaction_Amount_Deviation</th>\n",
       "      <th>Days_Since_Last_Transaction</th>\n",
       "      <th>amount</th>\n",
       "      <th>fraud</th>\n",
       "    </tr>\n",
       "  </thead>\n",
       "  <tbody>\n",
       "    <tr>\n",
       "      <th>0</th>\n",
       "      <td>20/04/23</td>\n",
       "      <td>4:50:22 AM</td>\n",
       "      <td>Refund</td>\n",
       "      <td>SamplePay</td>\n",
       "      <td>Durgapur</td>\n",
       "      <td>Chhattisgarh</td>\n",
       "      <td>Completed</td>\n",
       "      <td>MacOS</td>\n",
       "      <td>1</td>\n",
       "      <td>Brand Vouchers and OTT</td>\n",
       "      <td>In-store</td>\n",
       "      <td>25.02</td>\n",
       "      <td>5</td>\n",
       "      <td>396.62</td>\n",
       "      <td>1</td>\n",
       "    </tr>\n",
       "    <tr>\n",
       "      <th>1</th>\n",
       "      <td>08/08/23</td>\n",
       "      <td>8:09:21 AM</td>\n",
       "      <td>Bank Transfer</td>\n",
       "      <td>SamplePay</td>\n",
       "      <td>Rajpur Sonarpur</td>\n",
       "      <td>Himachal Pradesh</td>\n",
       "      <td>Pending</td>\n",
       "      <td>Windows</td>\n",
       "      <td>30</td>\n",
       "      <td>Home delivery</td>\n",
       "      <td>Mobile</td>\n",
       "      <td>-36.64</td>\n",
       "      <td>20</td>\n",
       "      <td>121.94</td>\n",
       "      <td>1</td>\n",
       "    </tr>\n",
       "    <tr>\n",
       "      <th>2</th>\n",
       "      <td>25/06/23</td>\n",
       "      <td>7:49:01 AM</td>\n",
       "      <td>Bank Transfer</td>\n",
       "      <td>Other</td>\n",
       "      <td>New Delhi</td>\n",
       "      <td>Himachal Pradesh</td>\n",
       "      <td>Failed</td>\n",
       "      <td>Android</td>\n",
       "      <td>2</td>\n",
       "      <td>Utilities</td>\n",
       "      <td>Online</td>\n",
       "      <td>44.19</td>\n",
       "      <td>22</td>\n",
       "      <td>106.69</td>\n",
       "      <td>1</td>\n",
       "    </tr>\n",
       "    <tr>\n",
       "      <th>3</th>\n",
       "      <td>28/01/24</td>\n",
       "      <td>5:44:12 AM</td>\n",
       "      <td>Subscription</td>\n",
       "      <td>UPI Pay</td>\n",
       "      <td>Bharatpur</td>\n",
       "      <td>Chhattisgarh</td>\n",
       "      <td>Failed</td>\n",
       "      <td>Android</td>\n",
       "      <td>0</td>\n",
       "      <td>Purchases</td>\n",
       "      <td>Online</td>\n",
       "      <td>-54.34</td>\n",
       "      <td>28</td>\n",
       "      <td>3611.11</td>\n",
       "      <td>1</td>\n",
       "    </tr>\n",
       "    <tr>\n",
       "      <th>4</th>\n",
       "      <td>21/06/23</td>\n",
       "      <td>9:40:59 AM</td>\n",
       "      <td>Investment</td>\n",
       "      <td>Dummy Bank</td>\n",
       "      <td>Sagar</td>\n",
       "      <td>Mizoram</td>\n",
       "      <td>Completed</td>\n",
       "      <td>MacOS</td>\n",
       "      <td>1</td>\n",
       "      <td>Other</td>\n",
       "      <td>Online</td>\n",
       "      <td>12.38</td>\n",
       "      <td>25</td>\n",
       "      <td>374.89</td>\n",
       "      <td>1</td>\n",
       "    </tr>\n",
       "  </tbody>\n",
       "</table>\n",
       "</div>"
      ],
      "text/plain": [
       "       Date        Time Transaction_Type Payment_Gateway Transaction_City  \\\n",
       "0  20/04/23  4:50:22 AM           Refund       SamplePay         Durgapur   \n",
       "1  08/08/23  8:09:21 AM    Bank Transfer       SamplePay  Rajpur Sonarpur   \n",
       "2  25/06/23  7:49:01 AM    Bank Transfer           Other        New Delhi   \n",
       "3  28/01/24  5:44:12 AM     Subscription         UPI Pay        Bharatpur   \n",
       "4  21/06/23  9:40:59 AM       Investment      Dummy Bank            Sagar   \n",
       "\n",
       "  Transaction_State Transaction_Status Device_OS  Transaction_Frequency  \\\n",
       "0      Chhattisgarh          Completed     MacOS                      1   \n",
       "1  Himachal Pradesh            Pending   Windows                     30   \n",
       "2  Himachal Pradesh             Failed   Android                      2   \n",
       "3      Chhattisgarh             Failed   Android                      0   \n",
       "4           Mizoram          Completed     MacOS                      1   \n",
       "\n",
       "        Merchant_Category Transaction_Channel  Transaction_Amount_Deviation  \\\n",
       "0  Brand Vouchers and OTT            In-store                         25.02   \n",
       "1           Home delivery              Mobile                        -36.64   \n",
       "2               Utilities              Online                         44.19   \n",
       "3               Purchases              Online                        -54.34   \n",
       "4                   Other              Online                         12.38   \n",
       "\n",
       "   Days_Since_Last_Transaction   amount  fraud  \n",
       "0                            5   396.62      1  \n",
       "1                           20   121.94      1  \n",
       "2                           22   106.69      1  \n",
       "3                           28  3611.11      1  \n",
       "4                           25   374.89      1  "
      ]
     },
     "execution_count": 441,
     "metadata": {},
     "output_type": "execute_result"
    }
   ],
   "source": [
    "df.head()"
   ]
  },
  {
   "cell_type": "code",
   "execution_count": 442,
   "id": "3c697516",
   "metadata": {},
   "outputs": [
    {
     "data": {
      "text/plain": [
       "Index(['Date', 'Time', 'Transaction_Type', 'Payment_Gateway',\n",
       "       'Transaction_City', 'Transaction_State', 'Transaction_Status',\n",
       "       'Device_OS', 'Transaction_Frequency', 'Merchant_Category',\n",
       "       'Transaction_Channel', 'Transaction_Amount_Deviation',\n",
       "       'Days_Since_Last_Transaction', 'amount', 'fraud'],\n",
       "      dtype='object')"
      ]
     },
     "execution_count": 442,
     "metadata": {},
     "output_type": "execute_result"
    }
   ],
   "source": [
    "df.columns"
   ]
  },
  {
   "cell_type": "code",
   "execution_count": 443,
   "id": "daea9079",
   "metadata": {},
   "outputs": [],
   "source": [
    "#importing data time module\n",
    "from datetime import datetime\n",
    "df['Date'] = pd.to_datetime(df['Date'], format='%d/%m/%y')\n",
    "\n",
    "\n"
   ]
  },
  {
   "cell_type": "code",
   "execution_count": 444,
   "id": "68117bf0",
   "metadata": {},
   "outputs": [],
   "source": [
    "df['year'] =df['Date'].dt.year"
   ]
  },
  {
   "cell_type": "code",
   "execution_count": 445,
   "id": "22846267",
   "metadata": {},
   "outputs": [
    {
     "data": {
      "text/html": [
       "<div>\n",
       "<style scoped>\n",
       "    .dataframe tbody tr th:only-of-type {\n",
       "        vertical-align: middle;\n",
       "    }\n",
       "\n",
       "    .dataframe tbody tr th {\n",
       "        vertical-align: top;\n",
       "    }\n",
       "\n",
       "    .dataframe thead th {\n",
       "        text-align: right;\n",
       "    }\n",
       "</style>\n",
       "<table border=\"1\" class=\"dataframe\">\n",
       "  <thead>\n",
       "    <tr style=\"text-align: right;\">\n",
       "      <th></th>\n",
       "      <th>Date</th>\n",
       "      <th>Time</th>\n",
       "      <th>Transaction_Type</th>\n",
       "      <th>Payment_Gateway</th>\n",
       "      <th>Transaction_City</th>\n",
       "      <th>Transaction_State</th>\n",
       "      <th>Transaction_Status</th>\n",
       "      <th>Device_OS</th>\n",
       "      <th>Transaction_Frequency</th>\n",
       "      <th>Merchant_Category</th>\n",
       "      <th>Transaction_Channel</th>\n",
       "      <th>Transaction_Amount_Deviation</th>\n",
       "      <th>Days_Since_Last_Transaction</th>\n",
       "      <th>amount</th>\n",
       "      <th>fraud</th>\n",
       "      <th>year</th>\n",
       "    </tr>\n",
       "  </thead>\n",
       "  <tbody>\n",
       "    <tr>\n",
       "      <th>0</th>\n",
       "      <td>2023-04-20</td>\n",
       "      <td>4:50:22 AM</td>\n",
       "      <td>Refund</td>\n",
       "      <td>SamplePay</td>\n",
       "      <td>Durgapur</td>\n",
       "      <td>Chhattisgarh</td>\n",
       "      <td>Completed</td>\n",
       "      <td>MacOS</td>\n",
       "      <td>1</td>\n",
       "      <td>Brand Vouchers and OTT</td>\n",
       "      <td>In-store</td>\n",
       "      <td>25.02</td>\n",
       "      <td>5</td>\n",
       "      <td>396.62</td>\n",
       "      <td>1</td>\n",
       "      <td>2023</td>\n",
       "    </tr>\n",
       "    <tr>\n",
       "      <th>1</th>\n",
       "      <td>2023-08-08</td>\n",
       "      <td>8:09:21 AM</td>\n",
       "      <td>Bank Transfer</td>\n",
       "      <td>SamplePay</td>\n",
       "      <td>Rajpur Sonarpur</td>\n",
       "      <td>Himachal Pradesh</td>\n",
       "      <td>Pending</td>\n",
       "      <td>Windows</td>\n",
       "      <td>30</td>\n",
       "      <td>Home delivery</td>\n",
       "      <td>Mobile</td>\n",
       "      <td>-36.64</td>\n",
       "      <td>20</td>\n",
       "      <td>121.94</td>\n",
       "      <td>1</td>\n",
       "      <td>2023</td>\n",
       "    </tr>\n",
       "    <tr>\n",
       "      <th>2</th>\n",
       "      <td>2023-06-25</td>\n",
       "      <td>7:49:01 AM</td>\n",
       "      <td>Bank Transfer</td>\n",
       "      <td>Other</td>\n",
       "      <td>New Delhi</td>\n",
       "      <td>Himachal Pradesh</td>\n",
       "      <td>Failed</td>\n",
       "      <td>Android</td>\n",
       "      <td>2</td>\n",
       "      <td>Utilities</td>\n",
       "      <td>Online</td>\n",
       "      <td>44.19</td>\n",
       "      <td>22</td>\n",
       "      <td>106.69</td>\n",
       "      <td>1</td>\n",
       "      <td>2023</td>\n",
       "    </tr>\n",
       "    <tr>\n",
       "      <th>3</th>\n",
       "      <td>2024-01-28</td>\n",
       "      <td>5:44:12 AM</td>\n",
       "      <td>Subscription</td>\n",
       "      <td>UPI Pay</td>\n",
       "      <td>Bharatpur</td>\n",
       "      <td>Chhattisgarh</td>\n",
       "      <td>Failed</td>\n",
       "      <td>Android</td>\n",
       "      <td>0</td>\n",
       "      <td>Purchases</td>\n",
       "      <td>Online</td>\n",
       "      <td>-54.34</td>\n",
       "      <td>28</td>\n",
       "      <td>3611.11</td>\n",
       "      <td>1</td>\n",
       "      <td>2024</td>\n",
       "    </tr>\n",
       "    <tr>\n",
       "      <th>4</th>\n",
       "      <td>2023-06-21</td>\n",
       "      <td>9:40:59 AM</td>\n",
       "      <td>Investment</td>\n",
       "      <td>Dummy Bank</td>\n",
       "      <td>Sagar</td>\n",
       "      <td>Mizoram</td>\n",
       "      <td>Completed</td>\n",
       "      <td>MacOS</td>\n",
       "      <td>1</td>\n",
       "      <td>Other</td>\n",
       "      <td>Online</td>\n",
       "      <td>12.38</td>\n",
       "      <td>25</td>\n",
       "      <td>374.89</td>\n",
       "      <td>1</td>\n",
       "      <td>2023</td>\n",
       "    </tr>\n",
       "  </tbody>\n",
       "</table>\n",
       "</div>"
      ],
      "text/plain": [
       "        Date        Time Transaction_Type Payment_Gateway Transaction_City  \\\n",
       "0 2023-04-20  4:50:22 AM           Refund       SamplePay         Durgapur   \n",
       "1 2023-08-08  8:09:21 AM    Bank Transfer       SamplePay  Rajpur Sonarpur   \n",
       "2 2023-06-25  7:49:01 AM    Bank Transfer           Other        New Delhi   \n",
       "3 2024-01-28  5:44:12 AM     Subscription         UPI Pay        Bharatpur   \n",
       "4 2023-06-21  9:40:59 AM       Investment      Dummy Bank            Sagar   \n",
       "\n",
       "  Transaction_State Transaction_Status Device_OS  Transaction_Frequency  \\\n",
       "0      Chhattisgarh          Completed     MacOS                      1   \n",
       "1  Himachal Pradesh            Pending   Windows                     30   \n",
       "2  Himachal Pradesh             Failed   Android                      2   \n",
       "3      Chhattisgarh             Failed   Android                      0   \n",
       "4           Mizoram          Completed     MacOS                      1   \n",
       "\n",
       "        Merchant_Category Transaction_Channel  Transaction_Amount_Deviation  \\\n",
       "0  Brand Vouchers and OTT            In-store                         25.02   \n",
       "1           Home delivery              Mobile                        -36.64   \n",
       "2               Utilities              Online                         44.19   \n",
       "3               Purchases              Online                        -54.34   \n",
       "4                   Other              Online                         12.38   \n",
       "\n",
       "   Days_Since_Last_Transaction   amount  fraud  year  \n",
       "0                            5   396.62      1  2023  \n",
       "1                           20   121.94      1  2023  \n",
       "2                           22   106.69      1  2023  \n",
       "3                           28  3611.11      1  2024  \n",
       "4                           25   374.89      1  2023  "
      ]
     },
     "execution_count": 445,
     "metadata": {},
     "output_type": "execute_result"
    }
   ],
   "source": [
    "df.head()"
   ]
  },
  {
   "cell_type": "markdown",
   "id": "14320b9d",
   "metadata": {},
   "source": [
    "###create a month columns with month transaction~"
   ]
  },
  {
   "cell_type": "code",
   "execution_count": 446,
   "id": "68a0fe11",
   "metadata": {},
   "outputs": [],
   "source": [
    "df['month'] = df['Date'].dt.month"
   ]
  },
  {
   "cell_type": "code",
   "execution_count": 447,
   "id": "59e87950",
   "metadata": {},
   "outputs": [
    {
     "data": {
      "text/html": [
       "<div>\n",
       "<style scoped>\n",
       "    .dataframe tbody tr th:only-of-type {\n",
       "        vertical-align: middle;\n",
       "    }\n",
       "\n",
       "    .dataframe tbody tr th {\n",
       "        vertical-align: top;\n",
       "    }\n",
       "\n",
       "    .dataframe thead th {\n",
       "        text-align: right;\n",
       "    }\n",
       "</style>\n",
       "<table border=\"1\" class=\"dataframe\">\n",
       "  <thead>\n",
       "    <tr style=\"text-align: right;\">\n",
       "      <th></th>\n",
       "      <th>Date</th>\n",
       "      <th>Time</th>\n",
       "      <th>Transaction_Type</th>\n",
       "      <th>Payment_Gateway</th>\n",
       "      <th>Transaction_City</th>\n",
       "      <th>Transaction_State</th>\n",
       "      <th>Transaction_Status</th>\n",
       "      <th>Device_OS</th>\n",
       "      <th>Transaction_Frequency</th>\n",
       "      <th>Merchant_Category</th>\n",
       "      <th>Transaction_Channel</th>\n",
       "      <th>Transaction_Amount_Deviation</th>\n",
       "      <th>Days_Since_Last_Transaction</th>\n",
       "      <th>amount</th>\n",
       "      <th>fraud</th>\n",
       "      <th>year</th>\n",
       "      <th>month</th>\n",
       "    </tr>\n",
       "  </thead>\n",
       "  <tbody>\n",
       "    <tr>\n",
       "      <th>0</th>\n",
       "      <td>2023-04-20</td>\n",
       "      <td>4:50:22 AM</td>\n",
       "      <td>Refund</td>\n",
       "      <td>SamplePay</td>\n",
       "      <td>Durgapur</td>\n",
       "      <td>Chhattisgarh</td>\n",
       "      <td>Completed</td>\n",
       "      <td>MacOS</td>\n",
       "      <td>1</td>\n",
       "      <td>Brand Vouchers and OTT</td>\n",
       "      <td>In-store</td>\n",
       "      <td>25.02</td>\n",
       "      <td>5</td>\n",
       "      <td>396.62</td>\n",
       "      <td>1</td>\n",
       "      <td>2023</td>\n",
       "      <td>4</td>\n",
       "    </tr>\n",
       "    <tr>\n",
       "      <th>1</th>\n",
       "      <td>2023-08-08</td>\n",
       "      <td>8:09:21 AM</td>\n",
       "      <td>Bank Transfer</td>\n",
       "      <td>SamplePay</td>\n",
       "      <td>Rajpur Sonarpur</td>\n",
       "      <td>Himachal Pradesh</td>\n",
       "      <td>Pending</td>\n",
       "      <td>Windows</td>\n",
       "      <td>30</td>\n",
       "      <td>Home delivery</td>\n",
       "      <td>Mobile</td>\n",
       "      <td>-36.64</td>\n",
       "      <td>20</td>\n",
       "      <td>121.94</td>\n",
       "      <td>1</td>\n",
       "      <td>2023</td>\n",
       "      <td>8</td>\n",
       "    </tr>\n",
       "    <tr>\n",
       "      <th>2</th>\n",
       "      <td>2023-06-25</td>\n",
       "      <td>7:49:01 AM</td>\n",
       "      <td>Bank Transfer</td>\n",
       "      <td>Other</td>\n",
       "      <td>New Delhi</td>\n",
       "      <td>Himachal Pradesh</td>\n",
       "      <td>Failed</td>\n",
       "      <td>Android</td>\n",
       "      <td>2</td>\n",
       "      <td>Utilities</td>\n",
       "      <td>Online</td>\n",
       "      <td>44.19</td>\n",
       "      <td>22</td>\n",
       "      <td>106.69</td>\n",
       "      <td>1</td>\n",
       "      <td>2023</td>\n",
       "      <td>6</td>\n",
       "    </tr>\n",
       "    <tr>\n",
       "      <th>3</th>\n",
       "      <td>2024-01-28</td>\n",
       "      <td>5:44:12 AM</td>\n",
       "      <td>Subscription</td>\n",
       "      <td>UPI Pay</td>\n",
       "      <td>Bharatpur</td>\n",
       "      <td>Chhattisgarh</td>\n",
       "      <td>Failed</td>\n",
       "      <td>Android</td>\n",
       "      <td>0</td>\n",
       "      <td>Purchases</td>\n",
       "      <td>Online</td>\n",
       "      <td>-54.34</td>\n",
       "      <td>28</td>\n",
       "      <td>3611.11</td>\n",
       "      <td>1</td>\n",
       "      <td>2024</td>\n",
       "      <td>1</td>\n",
       "    </tr>\n",
       "    <tr>\n",
       "      <th>4</th>\n",
       "      <td>2023-06-21</td>\n",
       "      <td>9:40:59 AM</td>\n",
       "      <td>Investment</td>\n",
       "      <td>Dummy Bank</td>\n",
       "      <td>Sagar</td>\n",
       "      <td>Mizoram</td>\n",
       "      <td>Completed</td>\n",
       "      <td>MacOS</td>\n",
       "      <td>1</td>\n",
       "      <td>Other</td>\n",
       "      <td>Online</td>\n",
       "      <td>12.38</td>\n",
       "      <td>25</td>\n",
       "      <td>374.89</td>\n",
       "      <td>1</td>\n",
       "      <td>2023</td>\n",
       "      <td>6</td>\n",
       "    </tr>\n",
       "  </tbody>\n",
       "</table>\n",
       "</div>"
      ],
      "text/plain": [
       "        Date        Time Transaction_Type Payment_Gateway Transaction_City  \\\n",
       "0 2023-04-20  4:50:22 AM           Refund       SamplePay         Durgapur   \n",
       "1 2023-08-08  8:09:21 AM    Bank Transfer       SamplePay  Rajpur Sonarpur   \n",
       "2 2023-06-25  7:49:01 AM    Bank Transfer           Other        New Delhi   \n",
       "3 2024-01-28  5:44:12 AM     Subscription         UPI Pay        Bharatpur   \n",
       "4 2023-06-21  9:40:59 AM       Investment      Dummy Bank            Sagar   \n",
       "\n",
       "  Transaction_State Transaction_Status Device_OS  Transaction_Frequency  \\\n",
       "0      Chhattisgarh          Completed     MacOS                      1   \n",
       "1  Himachal Pradesh            Pending   Windows                     30   \n",
       "2  Himachal Pradesh             Failed   Android                      2   \n",
       "3      Chhattisgarh             Failed   Android                      0   \n",
       "4           Mizoram          Completed     MacOS                      1   \n",
       "\n",
       "        Merchant_Category Transaction_Channel  Transaction_Amount_Deviation  \\\n",
       "0  Brand Vouchers and OTT            In-store                         25.02   \n",
       "1           Home delivery              Mobile                        -36.64   \n",
       "2               Utilities              Online                         44.19   \n",
       "3               Purchases              Online                        -54.34   \n",
       "4                   Other              Online                         12.38   \n",
       "\n",
       "   Days_Since_Last_Transaction   amount  fraud  year  month  \n",
       "0                            5   396.62      1  2023      4  \n",
       "1                           20   121.94      1  2023      8  \n",
       "2                           22   106.69      1  2023      6  \n",
       "3                           28  3611.11      1  2024      1  \n",
       "4                           25   374.89      1  2023      6  "
      ]
     },
     "execution_count": 447,
     "metadata": {},
     "output_type": "execute_result"
    }
   ],
   "source": [
    "df.head()"
   ]
  },
  {
   "cell_type": "code",
   "execution_count": 448,
   "id": "3ddb1f74",
   "metadata": {},
   "outputs": [
    {
     "data": {
      "text/plain": [
       "array([ 1,  2,  3,  4,  5,  6,  7,  8,  9, 10, 11, 12])"
      ]
     },
     "execution_count": 448,
     "metadata": {},
     "output_type": "execute_result"
    }
   ],
   "source": [
    "df['month'].sort_values(ascending=True).unique()"
   ]
  },
  {
   "cell_type": "markdown",
   "id": "d68a9637",
   "metadata": {},
   "source": [
    "Months columns have format \"MMM\" as compared to number 1 -12"
   ]
  },
  {
   "cell_type": "code",
   "execution_count": 449,
   "id": "380b80b6",
   "metadata": {},
   "outputs": [],
   "source": [
    "month_dict = {\n",
    "    1: \"Jan\",\n",
    "    2: \"Feb\",\n",
    "    3: \"Mar\",\n",
    "    4: \"Apr\",\n",
    "    5: \"May\",\n",
    "    6: \"Jun\",   \n",
    "    7: \"Jul\",\n",
    "    8: \"Aug\",\n",
    "    9: \"Sep\",\n",
    "    10: \"Oct\",\n",
    "    11: \"Nov\",\n",
    "    12: \"Dec\"\n",
    "}"
   ]
  },
  {
   "cell_type": "code",
   "execution_count": 450,
   "id": "5132768f",
   "metadata": {},
   "outputs": [
    {
     "data": {
      "text/plain": [
       "{1: 'Jan',\n",
       " 2: 'Feb',\n",
       " 3: 'Mar',\n",
       " 4: 'Apr',\n",
       " 5: 'May',\n",
       " 6: 'Jun',\n",
       " 7: 'Jul',\n",
       " 8: 'Aug',\n",
       " 9: 'Sep',\n",
       " 10: 'Oct',\n",
       " 11: 'Nov',\n",
       " 12: 'Dec'}"
      ]
     },
     "execution_count": 450,
     "metadata": {},
     "output_type": "execute_result"
    }
   ],
   "source": [
    "month_dict"
   ]
  },
  {
   "cell_type": "code",
   "execution_count": 451,
   "id": "83ecc45f",
   "metadata": {},
   "outputs": [],
   "source": [
    "df['month'] =df['month'].map(month_dict)"
   ]
  },
  {
   "cell_type": "code",
   "execution_count": 452,
   "id": "1f063798",
   "metadata": {},
   "outputs": [
    {
     "data": {
      "text/plain": [
       "0      Apr\n",
       "1      Aug\n",
       "2      Jun\n",
       "3      Jan\n",
       "4      Jun\n",
       "      ... \n",
       "642    Jul\n",
       "643    Jul\n",
       "644    Apr\n",
       "645    Oct\n",
       "646    Apr\n",
       "Name: month, Length: 647, dtype: object"
      ]
     },
     "execution_count": 452,
     "metadata": {},
     "output_type": "execute_result"
    }
   ],
   "source": [
    "df.month"
   ]
  },
  {
   "cell_type": "code",
   "execution_count": 453,
   "id": "c2810c67",
   "metadata": {},
   "outputs": [
    {
     "data": {
      "text/html": [
       "<div>\n",
       "<style scoped>\n",
       "    .dataframe tbody tr th:only-of-type {\n",
       "        vertical-align: middle;\n",
       "    }\n",
       "\n",
       "    .dataframe tbody tr th {\n",
       "        vertical-align: top;\n",
       "    }\n",
       "\n",
       "    .dataframe thead th {\n",
       "        text-align: right;\n",
       "    }\n",
       "</style>\n",
       "<table border=\"1\" class=\"dataframe\">\n",
       "  <thead>\n",
       "    <tr style=\"text-align: right;\">\n",
       "      <th></th>\n",
       "      <th>Date</th>\n",
       "      <th>Time</th>\n",
       "      <th>Transaction_Type</th>\n",
       "      <th>Payment_Gateway</th>\n",
       "      <th>Transaction_City</th>\n",
       "      <th>Transaction_State</th>\n",
       "      <th>Transaction_Status</th>\n",
       "      <th>Device_OS</th>\n",
       "      <th>Transaction_Frequency</th>\n",
       "      <th>Merchant_Category</th>\n",
       "      <th>Transaction_Channel</th>\n",
       "      <th>Transaction_Amount_Deviation</th>\n",
       "      <th>Days_Since_Last_Transaction</th>\n",
       "      <th>amount</th>\n",
       "      <th>fraud</th>\n",
       "      <th>year</th>\n",
       "      <th>month</th>\n",
       "    </tr>\n",
       "  </thead>\n",
       "  <tbody>\n",
       "    <tr>\n",
       "      <th>0</th>\n",
       "      <td>2023-04-20</td>\n",
       "      <td>4:50:22 AM</td>\n",
       "      <td>Refund</td>\n",
       "      <td>SamplePay</td>\n",
       "      <td>Durgapur</td>\n",
       "      <td>Chhattisgarh</td>\n",
       "      <td>Completed</td>\n",
       "      <td>MacOS</td>\n",
       "      <td>1</td>\n",
       "      <td>Brand Vouchers and OTT</td>\n",
       "      <td>In-store</td>\n",
       "      <td>25.02</td>\n",
       "      <td>5</td>\n",
       "      <td>396.62</td>\n",
       "      <td>1</td>\n",
       "      <td>2023</td>\n",
       "      <td>Apr</td>\n",
       "    </tr>\n",
       "    <tr>\n",
       "      <th>1</th>\n",
       "      <td>2023-08-08</td>\n",
       "      <td>8:09:21 AM</td>\n",
       "      <td>Bank Transfer</td>\n",
       "      <td>SamplePay</td>\n",
       "      <td>Rajpur Sonarpur</td>\n",
       "      <td>Himachal Pradesh</td>\n",
       "      <td>Pending</td>\n",
       "      <td>Windows</td>\n",
       "      <td>30</td>\n",
       "      <td>Home delivery</td>\n",
       "      <td>Mobile</td>\n",
       "      <td>-36.64</td>\n",
       "      <td>20</td>\n",
       "      <td>121.94</td>\n",
       "      <td>1</td>\n",
       "      <td>2023</td>\n",
       "      <td>Aug</td>\n",
       "    </tr>\n",
       "    <tr>\n",
       "      <th>2</th>\n",
       "      <td>2023-06-25</td>\n",
       "      <td>7:49:01 AM</td>\n",
       "      <td>Bank Transfer</td>\n",
       "      <td>Other</td>\n",
       "      <td>New Delhi</td>\n",
       "      <td>Himachal Pradesh</td>\n",
       "      <td>Failed</td>\n",
       "      <td>Android</td>\n",
       "      <td>2</td>\n",
       "      <td>Utilities</td>\n",
       "      <td>Online</td>\n",
       "      <td>44.19</td>\n",
       "      <td>22</td>\n",
       "      <td>106.69</td>\n",
       "      <td>1</td>\n",
       "      <td>2023</td>\n",
       "      <td>Jun</td>\n",
       "    </tr>\n",
       "    <tr>\n",
       "      <th>3</th>\n",
       "      <td>2024-01-28</td>\n",
       "      <td>5:44:12 AM</td>\n",
       "      <td>Subscription</td>\n",
       "      <td>UPI Pay</td>\n",
       "      <td>Bharatpur</td>\n",
       "      <td>Chhattisgarh</td>\n",
       "      <td>Failed</td>\n",
       "      <td>Android</td>\n",
       "      <td>0</td>\n",
       "      <td>Purchases</td>\n",
       "      <td>Online</td>\n",
       "      <td>-54.34</td>\n",
       "      <td>28</td>\n",
       "      <td>3611.11</td>\n",
       "      <td>1</td>\n",
       "      <td>2024</td>\n",
       "      <td>Jan</td>\n",
       "    </tr>\n",
       "    <tr>\n",
       "      <th>4</th>\n",
       "      <td>2023-06-21</td>\n",
       "      <td>9:40:59 AM</td>\n",
       "      <td>Investment</td>\n",
       "      <td>Dummy Bank</td>\n",
       "      <td>Sagar</td>\n",
       "      <td>Mizoram</td>\n",
       "      <td>Completed</td>\n",
       "      <td>MacOS</td>\n",
       "      <td>1</td>\n",
       "      <td>Other</td>\n",
       "      <td>Online</td>\n",
       "      <td>12.38</td>\n",
       "      <td>25</td>\n",
       "      <td>374.89</td>\n",
       "      <td>1</td>\n",
       "      <td>2023</td>\n",
       "      <td>Jun</td>\n",
       "    </tr>\n",
       "  </tbody>\n",
       "</table>\n",
       "</div>"
      ],
      "text/plain": [
       "        Date        Time Transaction_Type Payment_Gateway Transaction_City  \\\n",
       "0 2023-04-20  4:50:22 AM           Refund       SamplePay         Durgapur   \n",
       "1 2023-08-08  8:09:21 AM    Bank Transfer       SamplePay  Rajpur Sonarpur   \n",
       "2 2023-06-25  7:49:01 AM    Bank Transfer           Other        New Delhi   \n",
       "3 2024-01-28  5:44:12 AM     Subscription         UPI Pay        Bharatpur   \n",
       "4 2023-06-21  9:40:59 AM       Investment      Dummy Bank            Sagar   \n",
       "\n",
       "  Transaction_State Transaction_Status Device_OS  Transaction_Frequency  \\\n",
       "0      Chhattisgarh          Completed     MacOS                      1   \n",
       "1  Himachal Pradesh            Pending   Windows                     30   \n",
       "2  Himachal Pradesh             Failed   Android                      2   \n",
       "3      Chhattisgarh             Failed   Android                      0   \n",
       "4           Mizoram          Completed     MacOS                      1   \n",
       "\n",
       "        Merchant_Category Transaction_Channel  Transaction_Amount_Deviation  \\\n",
       "0  Brand Vouchers and OTT            In-store                         25.02   \n",
       "1           Home delivery              Mobile                        -36.64   \n",
       "2               Utilities              Online                         44.19   \n",
       "3               Purchases              Online                        -54.34   \n",
       "4                   Other              Online                         12.38   \n",
       "\n",
       "   Days_Since_Last_Transaction   amount  fraud  year month  \n",
       "0                            5   396.62      1  2023   Apr  \n",
       "1                           20   121.94      1  2023   Aug  \n",
       "2                           22   106.69      1  2023   Jun  \n",
       "3                           28  3611.11      1  2024   Jan  \n",
       "4                           25   374.89      1  2023   Jun  "
      ]
     },
     "execution_count": 453,
     "metadata": {},
     "output_type": "execute_result"
    }
   ],
   "source": [
    "df.head()"
   ]
  },
  {
   "cell_type": "code",
   "execution_count": 454,
   "id": "023baae5",
   "metadata": {},
   "outputs": [
    {
     "data": {
      "text/plain": [
       "Index(['Date', 'Time', 'Transaction_Type', 'Payment_Gateway',\n",
       "       'Transaction_City', 'Transaction_State', 'Transaction_Status',\n",
       "       'Device_OS', 'Transaction_Frequency', 'Merchant_Category',\n",
       "       'Transaction_Channel', 'Transaction_Amount_Deviation',\n",
       "       'Days_Since_Last_Transaction', 'amount', 'fraud', 'year', 'month'],\n",
       "      dtype='object')"
      ]
     },
     "execution_count": 454,
     "metadata": {},
     "output_type": "execute_result"
    }
   ],
   "source": [
    "df.columns"
   ]
  },
  {
   "cell_type": "code",
   "execution_count": 455,
   "id": "721d8ebb",
   "metadata": {},
   "outputs": [
    {
     "data": {
      "text/plain": [
       "<bound method Series.drop of 0     2023-04-20\n",
       "1     2023-08-08\n",
       "2     2023-06-25\n",
       "3     2024-01-28\n",
       "4     2023-06-21\n",
       "         ...    \n",
       "642   2023-07-24\n",
       "643   2023-07-05\n",
       "644   2023-04-16\n",
       "645   2023-10-28\n",
       "646   2024-04-11\n",
       "Name: Date, Length: 647, dtype: datetime64[ns]>"
      ]
     },
     "execution_count": 455,
     "metadata": {},
     "output_type": "execute_result"
    }
   ],
   "source": [
    "df['Date'].drop"
   ]
  },
  {
   "cell_type": "code",
   "execution_count": 456,
   "id": "31b82b51",
   "metadata": {},
   "outputs": [],
   "source": [
    "df = df.drop(['Date', 'Time'] , axis=1)"
   ]
  },
  {
   "cell_type": "code",
   "execution_count": 457,
   "id": "bcbd5c47",
   "metadata": {},
   "outputs": [
    {
     "data": {
      "text/html": [
       "<div>\n",
       "<style scoped>\n",
       "    .dataframe tbody tr th:only-of-type {\n",
       "        vertical-align: middle;\n",
       "    }\n",
       "\n",
       "    .dataframe tbody tr th {\n",
       "        vertical-align: top;\n",
       "    }\n",
       "\n",
       "    .dataframe thead th {\n",
       "        text-align: right;\n",
       "    }\n",
       "</style>\n",
       "<table border=\"1\" class=\"dataframe\">\n",
       "  <thead>\n",
       "    <tr style=\"text-align: right;\">\n",
       "      <th></th>\n",
       "      <th>Transaction_Type</th>\n",
       "      <th>Payment_Gateway</th>\n",
       "      <th>Transaction_City</th>\n",
       "      <th>Transaction_State</th>\n",
       "      <th>Transaction_Status</th>\n",
       "      <th>Device_OS</th>\n",
       "      <th>Transaction_Frequency</th>\n",
       "      <th>Merchant_Category</th>\n",
       "      <th>Transaction_Channel</th>\n",
       "      <th>Transaction_Amount_Deviation</th>\n",
       "      <th>Days_Since_Last_Transaction</th>\n",
       "      <th>amount</th>\n",
       "      <th>fraud</th>\n",
       "      <th>year</th>\n",
       "      <th>month</th>\n",
       "    </tr>\n",
       "  </thead>\n",
       "  <tbody>\n",
       "    <tr>\n",
       "      <th>0</th>\n",
       "      <td>Refund</td>\n",
       "      <td>SamplePay</td>\n",
       "      <td>Durgapur</td>\n",
       "      <td>Chhattisgarh</td>\n",
       "      <td>Completed</td>\n",
       "      <td>MacOS</td>\n",
       "      <td>1</td>\n",
       "      <td>Brand Vouchers and OTT</td>\n",
       "      <td>In-store</td>\n",
       "      <td>25.02</td>\n",
       "      <td>5</td>\n",
       "      <td>396.62</td>\n",
       "      <td>1</td>\n",
       "      <td>2023</td>\n",
       "      <td>Apr</td>\n",
       "    </tr>\n",
       "    <tr>\n",
       "      <th>1</th>\n",
       "      <td>Bank Transfer</td>\n",
       "      <td>SamplePay</td>\n",
       "      <td>Rajpur Sonarpur</td>\n",
       "      <td>Himachal Pradesh</td>\n",
       "      <td>Pending</td>\n",
       "      <td>Windows</td>\n",
       "      <td>30</td>\n",
       "      <td>Home delivery</td>\n",
       "      <td>Mobile</td>\n",
       "      <td>-36.64</td>\n",
       "      <td>20</td>\n",
       "      <td>121.94</td>\n",
       "      <td>1</td>\n",
       "      <td>2023</td>\n",
       "      <td>Aug</td>\n",
       "    </tr>\n",
       "    <tr>\n",
       "      <th>2</th>\n",
       "      <td>Bank Transfer</td>\n",
       "      <td>Other</td>\n",
       "      <td>New Delhi</td>\n",
       "      <td>Himachal Pradesh</td>\n",
       "      <td>Failed</td>\n",
       "      <td>Android</td>\n",
       "      <td>2</td>\n",
       "      <td>Utilities</td>\n",
       "      <td>Online</td>\n",
       "      <td>44.19</td>\n",
       "      <td>22</td>\n",
       "      <td>106.69</td>\n",
       "      <td>1</td>\n",
       "      <td>2023</td>\n",
       "      <td>Jun</td>\n",
       "    </tr>\n",
       "    <tr>\n",
       "      <th>3</th>\n",
       "      <td>Subscription</td>\n",
       "      <td>UPI Pay</td>\n",
       "      <td>Bharatpur</td>\n",
       "      <td>Chhattisgarh</td>\n",
       "      <td>Failed</td>\n",
       "      <td>Android</td>\n",
       "      <td>0</td>\n",
       "      <td>Purchases</td>\n",
       "      <td>Online</td>\n",
       "      <td>-54.34</td>\n",
       "      <td>28</td>\n",
       "      <td>3611.11</td>\n",
       "      <td>1</td>\n",
       "      <td>2024</td>\n",
       "      <td>Jan</td>\n",
       "    </tr>\n",
       "    <tr>\n",
       "      <th>4</th>\n",
       "      <td>Investment</td>\n",
       "      <td>Dummy Bank</td>\n",
       "      <td>Sagar</td>\n",
       "      <td>Mizoram</td>\n",
       "      <td>Completed</td>\n",
       "      <td>MacOS</td>\n",
       "      <td>1</td>\n",
       "      <td>Other</td>\n",
       "      <td>Online</td>\n",
       "      <td>12.38</td>\n",
       "      <td>25</td>\n",
       "      <td>374.89</td>\n",
       "      <td>1</td>\n",
       "      <td>2023</td>\n",
       "      <td>Jun</td>\n",
       "    </tr>\n",
       "  </tbody>\n",
       "</table>\n",
       "</div>"
      ],
      "text/plain": [
       "  Transaction_Type Payment_Gateway Transaction_City Transaction_State  \\\n",
       "0           Refund       SamplePay         Durgapur      Chhattisgarh   \n",
       "1    Bank Transfer       SamplePay  Rajpur Sonarpur  Himachal Pradesh   \n",
       "2    Bank Transfer           Other        New Delhi  Himachal Pradesh   \n",
       "3     Subscription         UPI Pay        Bharatpur      Chhattisgarh   \n",
       "4       Investment      Dummy Bank            Sagar           Mizoram   \n",
       "\n",
       "  Transaction_Status Device_OS  Transaction_Frequency       Merchant_Category  \\\n",
       "0          Completed     MacOS                      1  Brand Vouchers and OTT   \n",
       "1            Pending   Windows                     30           Home delivery   \n",
       "2             Failed   Android                      2               Utilities   \n",
       "3             Failed   Android                      0               Purchases   \n",
       "4          Completed     MacOS                      1                   Other   \n",
       "\n",
       "  Transaction_Channel  Transaction_Amount_Deviation  \\\n",
       "0            In-store                         25.02   \n",
       "1              Mobile                        -36.64   \n",
       "2              Online                         44.19   \n",
       "3              Online                        -54.34   \n",
       "4              Online                         12.38   \n",
       "\n",
       "   Days_Since_Last_Transaction   amount  fraud  year month  \n",
       "0                            5   396.62      1  2023   Apr  \n",
       "1                           20   121.94      1  2023   Aug  \n",
       "2                           22   106.69      1  2023   Jun  \n",
       "3                           28  3611.11      1  2024   Jan  \n",
       "4                           25   374.89      1  2023   Jun  "
      ]
     },
     "execution_count": 457,
     "metadata": {},
     "output_type": "execute_result"
    }
   ],
   "source": [
    "df.head()"
   ]
  },
  {
   "cell_type": "code",
   "execution_count": 458,
   "id": "64be4761",
   "metadata": {},
   "outputs": [
    {
     "data": {
      "text/plain": [
       "fraud\n",
       "0    76.043277\n",
       "1    23.956723\n",
       "Name: proportion, dtype: float64"
      ]
     },
     "execution_count": 458,
     "metadata": {},
     "output_type": "execute_result"
    }
   ],
   "source": [
    "df['fraud'].value_counts(normalize=True)*100"
   ]
  },
  {
   "cell_type": "code",
   "execution_count": 459,
   "id": "81385b6b",
   "metadata": {},
   "outputs": [
    {
     "data": {
      "image/png": "[encoded data removed]",
      "text/plain": [
       "<Figure size 640x480 with 1 Axes>"
      ]
     },
     "metadata": {},
     "output_type": "display_data"
    }
   ],
   "source": [
    "sns.countplot(x='fraud', data=df , color='red')\n",
    "plt.show()"
   ]
  },
  {
   "cell_type": "markdown",
   "id": "1f3181cd",
   "metadata": {},
   "source": [
    "create dataset for normal transaction and fraud transaction"
   ]
  },
  {
   "cell_type": "code",
   "execution_count": 460,
   "id": "078b3210",
   "metadata": {},
   "outputs": [
    {
     "data": {
      "text/html": [
       "<div>\n",
       "<style scoped>\n",
       "    .dataframe tbody tr th:only-of-type {\n",
       "        vertical-align: middle;\n",
       "    }\n",
       "\n",
       "    .dataframe tbody tr th {\n",
       "        vertical-align: top;\n",
       "    }\n",
       "\n",
       "    .dataframe thead th {\n",
       "        text-align: right;\n",
       "    }\n",
       "</style>\n",
       "<table border=\"1\" class=\"dataframe\">\n",
       "  <thead>\n",
       "    <tr style=\"text-align: right;\">\n",
       "      <th></th>\n",
       "      <th>Transaction_Type</th>\n",
       "      <th>Payment_Gateway</th>\n",
       "      <th>Transaction_City</th>\n",
       "      <th>Transaction_State</th>\n",
       "      <th>Transaction_Status</th>\n",
       "      <th>Device_OS</th>\n",
       "      <th>Transaction_Frequency</th>\n",
       "      <th>Merchant_Category</th>\n",
       "      <th>Transaction_Channel</th>\n",
       "      <th>Transaction_Amount_Deviation</th>\n",
       "      <th>Days_Since_Last_Transaction</th>\n",
       "      <th>amount</th>\n",
       "      <th>fraud</th>\n",
       "      <th>year</th>\n",
       "      <th>month</th>\n",
       "    </tr>\n",
       "  </thead>\n",
       "  <tbody>\n",
       "    <tr>\n",
       "      <th>0</th>\n",
       "      <td>Refund</td>\n",
       "      <td>SamplePay</td>\n",
       "      <td>Durgapur</td>\n",
       "      <td>Chhattisgarh</td>\n",
       "      <td>Completed</td>\n",
       "      <td>MacOS</td>\n",
       "      <td>1</td>\n",
       "      <td>Brand Vouchers and OTT</td>\n",
       "      <td>In-store</td>\n",
       "      <td>25.02</td>\n",
       "      <td>5</td>\n",
       "      <td>396.62</td>\n",
       "      <td>1</td>\n",
       "      <td>2023</td>\n",
       "      <td>Apr</td>\n",
       "    </tr>\n",
       "    <tr>\n",
       "      <th>1</th>\n",
       "      <td>Bank Transfer</td>\n",
       "      <td>SamplePay</td>\n",
       "      <td>Rajpur Sonarpur</td>\n",
       "      <td>Himachal Pradesh</td>\n",
       "      <td>Pending</td>\n",
       "      <td>Windows</td>\n",
       "      <td>30</td>\n",
       "      <td>Home delivery</td>\n",
       "      <td>Mobile</td>\n",
       "      <td>-36.64</td>\n",
       "      <td>20</td>\n",
       "      <td>121.94</td>\n",
       "      <td>1</td>\n",
       "      <td>2023</td>\n",
       "      <td>Aug</td>\n",
       "    </tr>\n",
       "    <tr>\n",
       "      <th>2</th>\n",
       "      <td>Bank Transfer</td>\n",
       "      <td>Other</td>\n",
       "      <td>New Delhi</td>\n",
       "      <td>Himachal Pradesh</td>\n",
       "      <td>Failed</td>\n",
       "      <td>Android</td>\n",
       "      <td>2</td>\n",
       "      <td>Utilities</td>\n",
       "      <td>Online</td>\n",
       "      <td>44.19</td>\n",
       "      <td>22</td>\n",
       "      <td>106.69</td>\n",
       "      <td>1</td>\n",
       "      <td>2023</td>\n",
       "      <td>Jun</td>\n",
       "    </tr>\n",
       "    <tr>\n",
       "      <th>3</th>\n",
       "      <td>Subscription</td>\n",
       "      <td>UPI Pay</td>\n",
       "      <td>Bharatpur</td>\n",
       "      <td>Chhattisgarh</td>\n",
       "      <td>Failed</td>\n",
       "      <td>Android</td>\n",
       "      <td>0</td>\n",
       "      <td>Purchases</td>\n",
       "      <td>Online</td>\n",
       "      <td>-54.34</td>\n",
       "      <td>28</td>\n",
       "      <td>3611.11</td>\n",
       "      <td>1</td>\n",
       "      <td>2024</td>\n",
       "      <td>Jan</td>\n",
       "    </tr>\n",
       "    <tr>\n",
       "      <th>4</th>\n",
       "      <td>Investment</td>\n",
       "      <td>Dummy Bank</td>\n",
       "      <td>Sagar</td>\n",
       "      <td>Mizoram</td>\n",
       "      <td>Completed</td>\n",
       "      <td>MacOS</td>\n",
       "      <td>1</td>\n",
       "      <td>Other</td>\n",
       "      <td>Online</td>\n",
       "      <td>12.38</td>\n",
       "      <td>25</td>\n",
       "      <td>374.89</td>\n",
       "      <td>1</td>\n",
       "      <td>2023</td>\n",
       "      <td>Jun</td>\n",
       "    </tr>\n",
       "  </tbody>\n",
       "</table>\n",
       "</div>"
      ],
      "text/plain": [
       "  Transaction_Type Payment_Gateway Transaction_City Transaction_State  \\\n",
       "0           Refund       SamplePay         Durgapur      Chhattisgarh   \n",
       "1    Bank Transfer       SamplePay  Rajpur Sonarpur  Himachal Pradesh   \n",
       "2    Bank Transfer           Other        New Delhi  Himachal Pradesh   \n",
       "3     Subscription         UPI Pay        Bharatpur      Chhattisgarh   \n",
       "4       Investment      Dummy Bank            Sagar           Mizoram   \n",
       "\n",
       "  Transaction_Status Device_OS  Transaction_Frequency       Merchant_Category  \\\n",
       "0          Completed     MacOS                      1  Brand Vouchers and OTT   \n",
       "1            Pending   Windows                     30           Home delivery   \n",
       "2             Failed   Android                      2               Utilities   \n",
       "3             Failed   Android                      0               Purchases   \n",
       "4          Completed     MacOS                      1                   Other   \n",
       "\n",
       "  Transaction_Channel  Transaction_Amount_Deviation  \\\n",
       "0            In-store                         25.02   \n",
       "1              Mobile                        -36.64   \n",
       "2              Online                         44.19   \n",
       "3              Online                        -54.34   \n",
       "4              Online                         12.38   \n",
       "\n",
       "   Days_Since_Last_Transaction   amount  fraud  year month  \n",
       "0                            5   396.62      1  2023   Apr  \n",
       "1                           20   121.94      1  2023   Aug  \n",
       "2                           22   106.69      1  2023   Jun  \n",
       "3                           28  3611.11      1  2024   Jan  \n",
       "4                           25   374.89      1  2023   Jun  "
      ]
     },
     "execution_count": 460,
     "metadata": {},
     "output_type": "execute_result"
    }
   ],
   "source": [
    "df.head()"
   ]
  },
  {
   "cell_type": "code",
   "execution_count": 461,
   "id": "54f708bd",
   "metadata": {},
   "outputs": [
    {
     "data": {
      "text/plain": [
       "Index(['Transaction_Type', 'Payment_Gateway', 'Transaction_City',\n",
       "       'Transaction_State', 'Transaction_Status', 'Device_OS',\n",
       "       'Transaction_Frequency', 'Merchant_Category', 'Transaction_Channel',\n",
       "       'Transaction_Amount_Deviation', 'Days_Since_Last_Transaction', 'amount',\n",
       "       'fraud', 'year', 'month'],\n",
       "      dtype='object')"
      ]
     },
     "execution_count": 461,
     "metadata": {},
     "output_type": "execute_result"
    }
   ],
   "source": [
    "df.columns"
   ]
  },
  {
   "cell_type": "code",
   "execution_count": 462,
   "id": "30d81843",
   "metadata": {},
   "outputs": [],
   "source": [
    "fraud = df[df['fraud']==1] "
   ]
  },
  {
   "cell_type": "code",
   "execution_count": 463,
   "id": "caec4622",
   "metadata": {},
   "outputs": [
    {
     "data": {
      "text/html": [
       "<div>\n",
       "<style scoped>\n",
       "    .dataframe tbody tr th:only-of-type {\n",
       "        vertical-align: middle;\n",
       "    }\n",
       "\n",
       "    .dataframe tbody tr th {\n",
       "        vertical-align: top;\n",
       "    }\n",
       "\n",
       "    .dataframe thead th {\n",
       "        text-align: right;\n",
       "    }\n",
       "</style>\n",
       "<table border=\"1\" class=\"dataframe\">\n",
       "  <thead>\n",
       "    <tr style=\"text-align: right;\">\n",
       "      <th></th>\n",
       "      <th>Transaction_Type</th>\n",
       "      <th>Payment_Gateway</th>\n",
       "      <th>Transaction_City</th>\n",
       "      <th>Transaction_State</th>\n",
       "      <th>Transaction_Status</th>\n",
       "      <th>Device_OS</th>\n",
       "      <th>Transaction_Frequency</th>\n",
       "      <th>Merchant_Category</th>\n",
       "      <th>Transaction_Channel</th>\n",
       "      <th>Transaction_Amount_Deviation</th>\n",
       "      <th>Days_Since_Last_Transaction</th>\n",
       "      <th>amount</th>\n",
       "      <th>fraud</th>\n",
       "      <th>year</th>\n",
       "      <th>month</th>\n",
       "    </tr>\n",
       "  </thead>\n",
       "  <tbody>\n",
       "    <tr>\n",
       "      <th>0</th>\n",
       "      <td>Refund</td>\n",
       "      <td>SamplePay</td>\n",
       "      <td>Durgapur</td>\n",
       "      <td>Chhattisgarh</td>\n",
       "      <td>Completed</td>\n",
       "      <td>MacOS</td>\n",
       "      <td>1</td>\n",
       "      <td>Brand Vouchers and OTT</td>\n",
       "      <td>In-store</td>\n",
       "      <td>25.02</td>\n",
       "      <td>5</td>\n",
       "      <td>396.62</td>\n",
       "      <td>1</td>\n",
       "      <td>2023</td>\n",
       "      <td>Apr</td>\n",
       "    </tr>\n",
       "    <tr>\n",
       "      <th>1</th>\n",
       "      <td>Bank Transfer</td>\n",
       "      <td>SamplePay</td>\n",
       "      <td>Rajpur Sonarpur</td>\n",
       "      <td>Himachal Pradesh</td>\n",
       "      <td>Pending</td>\n",
       "      <td>Windows</td>\n",
       "      <td>30</td>\n",
       "      <td>Home delivery</td>\n",
       "      <td>Mobile</td>\n",
       "      <td>-36.64</td>\n",
       "      <td>20</td>\n",
       "      <td>121.94</td>\n",
       "      <td>1</td>\n",
       "      <td>2023</td>\n",
       "      <td>Aug</td>\n",
       "    </tr>\n",
       "    <tr>\n",
       "      <th>2</th>\n",
       "      <td>Bank Transfer</td>\n",
       "      <td>Other</td>\n",
       "      <td>New Delhi</td>\n",
       "      <td>Himachal Pradesh</td>\n",
       "      <td>Failed</td>\n",
       "      <td>Android</td>\n",
       "      <td>2</td>\n",
       "      <td>Utilities</td>\n",
       "      <td>Online</td>\n",
       "      <td>44.19</td>\n",
       "      <td>22</td>\n",
       "      <td>106.69</td>\n",
       "      <td>1</td>\n",
       "      <td>2023</td>\n",
       "      <td>Jun</td>\n",
       "    </tr>\n",
       "    <tr>\n",
       "      <th>3</th>\n",
       "      <td>Subscription</td>\n",
       "      <td>UPI Pay</td>\n",
       "      <td>Bharatpur</td>\n",
       "      <td>Chhattisgarh</td>\n",
       "      <td>Failed</td>\n",
       "      <td>Android</td>\n",
       "      <td>0</td>\n",
       "      <td>Purchases</td>\n",
       "      <td>Online</td>\n",
       "      <td>-54.34</td>\n",
       "      <td>28</td>\n",
       "      <td>3611.11</td>\n",
       "      <td>1</td>\n",
       "      <td>2024</td>\n",
       "      <td>Jan</td>\n",
       "    </tr>\n",
       "    <tr>\n",
       "      <th>4</th>\n",
       "      <td>Investment</td>\n",
       "      <td>Dummy Bank</td>\n",
       "      <td>Sagar</td>\n",
       "      <td>Mizoram</td>\n",
       "      <td>Completed</td>\n",
       "      <td>MacOS</td>\n",
       "      <td>1</td>\n",
       "      <td>Other</td>\n",
       "      <td>Online</td>\n",
       "      <td>12.38</td>\n",
       "      <td>25</td>\n",
       "      <td>374.89</td>\n",
       "      <td>1</td>\n",
       "      <td>2023</td>\n",
       "      <td>Jun</td>\n",
       "    </tr>\n",
       "  </tbody>\n",
       "</table>\n",
       "</div>"
      ],
      "text/plain": [
       "  Transaction_Type Payment_Gateway Transaction_City Transaction_State  \\\n",
       "0           Refund       SamplePay         Durgapur      Chhattisgarh   \n",
       "1    Bank Transfer       SamplePay  Rajpur Sonarpur  Himachal Pradesh   \n",
       "2    Bank Transfer           Other        New Delhi  Himachal Pradesh   \n",
       "3     Subscription         UPI Pay        Bharatpur      Chhattisgarh   \n",
       "4       Investment      Dummy Bank            Sagar           Mizoram   \n",
       "\n",
       "  Transaction_Status Device_OS  Transaction_Frequency       Merchant_Category  \\\n",
       "0          Completed     MacOS                      1  Brand Vouchers and OTT   \n",
       "1            Pending   Windows                     30           Home delivery   \n",
       "2             Failed   Android                      2               Utilities   \n",
       "3             Failed   Android                      0               Purchases   \n",
       "4          Completed     MacOS                      1                   Other   \n",
       "\n",
       "  Transaction_Channel  Transaction_Amount_Deviation  \\\n",
       "0            In-store                         25.02   \n",
       "1              Mobile                        -36.64   \n",
       "2              Online                         44.19   \n",
       "3              Online                        -54.34   \n",
       "4              Online                         12.38   \n",
       "\n",
       "   Days_Since_Last_Transaction   amount  fraud  year month  \n",
       "0                            5   396.62      1  2023   Apr  \n",
       "1                           20   121.94      1  2023   Aug  \n",
       "2                           22   106.69      1  2023   Jun  \n",
       "3                           28  3611.11      1  2024   Jan  \n",
       "4                           25   374.89      1  2023   Jun  "
      ]
     },
     "execution_count": 463,
     "metadata": {},
     "output_type": "execute_result"
    }
   ],
   "source": [
    "fraud.head()"
   ]
  },
  {
   "cell_type": "code",
   "execution_count": 464,
   "id": "cb49602f",
   "metadata": {},
   "outputs": [
    {
     "data": {
      "text/plain": [
       "(155, 15)"
      ]
     },
     "execution_count": 464,
     "metadata": {},
     "output_type": "execute_result"
    }
   ],
   "source": [
    "fraud.shape"
   ]
  },
  {
   "cell_type": "code",
   "execution_count": 465,
   "id": "5b25e369",
   "metadata": {},
   "outputs": [
    {
     "data": {
      "text/plain": [
       "(647, 15)"
      ]
     },
     "execution_count": 465,
     "metadata": {},
     "output_type": "execute_result"
    }
   ],
   "source": [
    "df.shape"
   ]
  },
  {
   "cell_type": "code",
   "execution_count": 466,
   "id": "c1ff7a2d",
   "metadata": {},
   "outputs": [
    {
     "data": {
      "text/plain": [
       "fraud\n",
       "0    492\n",
       "1    155\n",
       "Name: count, dtype: int64"
      ]
     },
     "execution_count": 466,
     "metadata": {},
     "output_type": "execute_result"
    }
   ],
   "source": [
    "df.fraud.value_counts()"
   ]
  },
  {
   "cell_type": "code",
   "execution_count": 467,
   "id": "007fbef3",
   "metadata": {},
   "outputs": [],
   "source": [
    "#extracting normal data transactions\n",
    "normal = df[df['fraud']==0]"
   ]
  },
  {
   "cell_type": "code",
   "execution_count": 468,
   "id": "86298870",
   "metadata": {},
   "outputs": [
    {
     "data": {
      "text/plain": [
       "(492, 15)"
      ]
     },
     "execution_count": 468,
     "metadata": {},
     "output_type": "execute_result"
    }
   ],
   "source": [
    "normal.shape"
   ]
  },
  {
   "cell_type": "markdown",
   "id": "8206dfec",
   "metadata": {},
   "source": [
    "Analyzing fraud dataset"
   ]
  },
  {
   "cell_type": "code",
   "execution_count": 469,
   "id": "c4e4fb81",
   "metadata": {},
   "outputs": [
    {
     "data": {
      "text/html": [
       "<div>\n",
       "<style scoped>\n",
       "    .dataframe tbody tr th:only-of-type {\n",
       "        vertical-align: middle;\n",
       "    }\n",
       "\n",
       "    .dataframe tbody tr th {\n",
       "        vertical-align: top;\n",
       "    }\n",
       "\n",
       "    .dataframe thead th {\n",
       "        text-align: right;\n",
       "    }\n",
       "</style>\n",
       "<table border=\"1\" class=\"dataframe\">\n",
       "  <thead>\n",
       "    <tr style=\"text-align: right;\">\n",
       "      <th></th>\n",
       "      <th>Transaction_Type</th>\n",
       "      <th>Payment_Gateway</th>\n",
       "      <th>Transaction_City</th>\n",
       "      <th>Transaction_State</th>\n",
       "      <th>Transaction_Status</th>\n",
       "      <th>Device_OS</th>\n",
       "      <th>Transaction_Frequency</th>\n",
       "      <th>Merchant_Category</th>\n",
       "      <th>Transaction_Channel</th>\n",
       "      <th>Transaction_Amount_Deviation</th>\n",
       "      <th>Days_Since_Last_Transaction</th>\n",
       "      <th>amount</th>\n",
       "      <th>fraud</th>\n",
       "      <th>year</th>\n",
       "      <th>month</th>\n",
       "    </tr>\n",
       "  </thead>\n",
       "  <tbody>\n",
       "    <tr>\n",
       "      <th>0</th>\n",
       "      <td>Refund</td>\n",
       "      <td>SamplePay</td>\n",
       "      <td>Durgapur</td>\n",
       "      <td>Chhattisgarh</td>\n",
       "      <td>Completed</td>\n",
       "      <td>MacOS</td>\n",
       "      <td>1</td>\n",
       "      <td>Brand Vouchers and OTT</td>\n",
       "      <td>In-store</td>\n",
       "      <td>25.02</td>\n",
       "      <td>5</td>\n",
       "      <td>396.62</td>\n",
       "      <td>1</td>\n",
       "      <td>2023</td>\n",
       "      <td>Apr</td>\n",
       "    </tr>\n",
       "    <tr>\n",
       "      <th>1</th>\n",
       "      <td>Bank Transfer</td>\n",
       "      <td>SamplePay</td>\n",
       "      <td>Rajpur Sonarpur</td>\n",
       "      <td>Himachal Pradesh</td>\n",
       "      <td>Pending</td>\n",
       "      <td>Windows</td>\n",
       "      <td>30</td>\n",
       "      <td>Home delivery</td>\n",
       "      <td>Mobile</td>\n",
       "      <td>-36.64</td>\n",
       "      <td>20</td>\n",
       "      <td>121.94</td>\n",
       "      <td>1</td>\n",
       "      <td>2023</td>\n",
       "      <td>Aug</td>\n",
       "    </tr>\n",
       "    <tr>\n",
       "      <th>2</th>\n",
       "      <td>Bank Transfer</td>\n",
       "      <td>Other</td>\n",
       "      <td>New Delhi</td>\n",
       "      <td>Himachal Pradesh</td>\n",
       "      <td>Failed</td>\n",
       "      <td>Android</td>\n",
       "      <td>2</td>\n",
       "      <td>Utilities</td>\n",
       "      <td>Online</td>\n",
       "      <td>44.19</td>\n",
       "      <td>22</td>\n",
       "      <td>106.69</td>\n",
       "      <td>1</td>\n",
       "      <td>2023</td>\n",
       "      <td>Jun</td>\n",
       "    </tr>\n",
       "    <tr>\n",
       "      <th>3</th>\n",
       "      <td>Subscription</td>\n",
       "      <td>UPI Pay</td>\n",
       "      <td>Bharatpur</td>\n",
       "      <td>Chhattisgarh</td>\n",
       "      <td>Failed</td>\n",
       "      <td>Android</td>\n",
       "      <td>0</td>\n",
       "      <td>Purchases</td>\n",
       "      <td>Online</td>\n",
       "      <td>-54.34</td>\n",
       "      <td>28</td>\n",
       "      <td>3611.11</td>\n",
       "      <td>1</td>\n",
       "      <td>2024</td>\n",
       "      <td>Jan</td>\n",
       "    </tr>\n",
       "    <tr>\n",
       "      <th>4</th>\n",
       "      <td>Investment</td>\n",
       "      <td>Dummy Bank</td>\n",
       "      <td>Sagar</td>\n",
       "      <td>Mizoram</td>\n",
       "      <td>Completed</td>\n",
       "      <td>MacOS</td>\n",
       "      <td>1</td>\n",
       "      <td>Other</td>\n",
       "      <td>Online</td>\n",
       "      <td>12.38</td>\n",
       "      <td>25</td>\n",
       "      <td>374.89</td>\n",
       "      <td>1</td>\n",
       "      <td>2023</td>\n",
       "      <td>Jun</td>\n",
       "    </tr>\n",
       "  </tbody>\n",
       "</table>\n",
       "</div>"
      ],
      "text/plain": [
       "  Transaction_Type Payment_Gateway Transaction_City Transaction_State  \\\n",
       "0           Refund       SamplePay         Durgapur      Chhattisgarh   \n",
       "1    Bank Transfer       SamplePay  Rajpur Sonarpur  Himachal Pradesh   \n",
       "2    Bank Transfer           Other        New Delhi  Himachal Pradesh   \n",
       "3     Subscription         UPI Pay        Bharatpur      Chhattisgarh   \n",
       "4       Investment      Dummy Bank            Sagar           Mizoram   \n",
       "\n",
       "  Transaction_Status Device_OS  Transaction_Frequency       Merchant_Category  \\\n",
       "0          Completed     MacOS                      1  Brand Vouchers and OTT   \n",
       "1            Pending   Windows                     30           Home delivery   \n",
       "2             Failed   Android                      2               Utilities   \n",
       "3             Failed   Android                      0               Purchases   \n",
       "4          Completed     MacOS                      1                   Other   \n",
       "\n",
       "  Transaction_Channel  Transaction_Amount_Deviation  \\\n",
       "0            In-store                         25.02   \n",
       "1              Mobile                        -36.64   \n",
       "2              Online                         44.19   \n",
       "3              Online                        -54.34   \n",
       "4              Online                         12.38   \n",
       "\n",
       "   Days_Since_Last_Transaction   amount  fraud  year month  \n",
       "0                            5   396.62      1  2023   Apr  \n",
       "1                           20   121.94      1  2023   Aug  \n",
       "2                           22   106.69      1  2023   Jun  \n",
       "3                           28  3611.11      1  2024   Jan  \n",
       "4                           25   374.89      1  2023   Jun  "
      ]
     },
     "execution_count": 469,
     "metadata": {},
     "output_type": "execute_result"
    }
   ],
   "source": [
    "fraud.head()\n"
   ]
  },
  {
   "cell_type": "code",
   "execution_count": 470,
   "id": "8391f456",
   "metadata": {},
   "outputs": [
    {
     "data": {
      "text/plain": [
       "Transaction_Type                 object\n",
       "Payment_Gateway                  object\n",
       "Transaction_City                 object\n",
       "Transaction_State                object\n",
       "Transaction_Status               object\n",
       "Device_OS                        object\n",
       "Transaction_Frequency             int64\n",
       "Merchant_Category                object\n",
       "Transaction_Channel              object\n",
       "Transaction_Amount_Deviation    float64\n",
       "Days_Since_Last_Transaction       int64\n",
       "amount                          float64\n",
       "fraud                             int64\n",
       "year                              int32\n",
       "month                            object\n",
       "dtype: object"
      ]
     },
     "execution_count": 470,
     "metadata": {},
     "output_type": "execute_result"
    }
   ],
   "source": [
    "fraud.dtypes"
   ]
  },
  {
   "cell_type": "code",
   "execution_count": 471,
   "id": "09dc47a0",
   "metadata": {},
   "outputs": [],
   "source": [
    "fraud_dtypes = df.select_dtypes(exclude=['float']).dtypes"
   ]
  },
  {
   "cell_type": "code",
   "execution_count": 472,
   "id": "986e663a",
   "metadata": {},
   "outputs": [
    {
     "data": {
      "text/plain": [
       "13"
      ]
     },
     "execution_count": 472,
     "metadata": {},
     "output_type": "execute_result"
    }
   ],
   "source": [
    "fraud_dtypes.count()"
   ]
  },
  {
   "cell_type": "code",
   "execution_count": 473,
   "id": "77030fe2",
   "metadata": {},
   "outputs": [
    {
     "data": {
      "text/html": [
       "<div>\n",
       "<style scoped>\n",
       "    .dataframe tbody tr th:only-of-type {\n",
       "        vertical-align: middle;\n",
       "    }\n",
       "\n",
       "    .dataframe tbody tr th {\n",
       "        vertical-align: top;\n",
       "    }\n",
       "\n",
       "    .dataframe thead th {\n",
       "        text-align: right;\n",
       "    }\n",
       "</style>\n",
       "<table border=\"1\" class=\"dataframe\">\n",
       "  <thead>\n",
       "    <tr style=\"text-align: right;\">\n",
       "      <th></th>\n",
       "      <th>Transaction_Frequency</th>\n",
       "      <th>Transaction_Amount_Deviation</th>\n",
       "      <th>Days_Since_Last_Transaction</th>\n",
       "      <th>amount</th>\n",
       "      <th>fraud</th>\n",
       "    </tr>\n",
       "  </thead>\n",
       "  <tbody>\n",
       "    <tr>\n",
       "      <th>0</th>\n",
       "      <td>1</td>\n",
       "      <td>25.02</td>\n",
       "      <td>5</td>\n",
       "      <td>396.62</td>\n",
       "      <td>1</td>\n",
       "    </tr>\n",
       "    <tr>\n",
       "      <th>1</th>\n",
       "      <td>30</td>\n",
       "      <td>-36.64</td>\n",
       "      <td>20</td>\n",
       "      <td>121.94</td>\n",
       "      <td>1</td>\n",
       "    </tr>\n",
       "    <tr>\n",
       "      <th>2</th>\n",
       "      <td>2</td>\n",
       "      <td>44.19</td>\n",
       "      <td>22</td>\n",
       "      <td>106.69</td>\n",
       "      <td>1</td>\n",
       "    </tr>\n",
       "    <tr>\n",
       "      <th>3</th>\n",
       "      <td>0</td>\n",
       "      <td>-54.34</td>\n",
       "      <td>28</td>\n",
       "      <td>3611.11</td>\n",
       "      <td>1</td>\n",
       "    </tr>\n",
       "    <tr>\n",
       "      <th>4</th>\n",
       "      <td>1</td>\n",
       "      <td>12.38</td>\n",
       "      <td>25</td>\n",
       "      <td>374.89</td>\n",
       "      <td>1</td>\n",
       "    </tr>\n",
       "    <tr>\n",
       "      <th>...</th>\n",
       "      <td>...</td>\n",
       "      <td>...</td>\n",
       "      <td>...</td>\n",
       "      <td>...</td>\n",
       "      <td>...</td>\n",
       "    </tr>\n",
       "    <tr>\n",
       "      <th>150</th>\n",
       "      <td>1</td>\n",
       "      <td>1.97</td>\n",
       "      <td>10</td>\n",
       "      <td>95.03</td>\n",
       "      <td>1</td>\n",
       "    </tr>\n",
       "    <tr>\n",
       "      <th>151</th>\n",
       "      <td>1</td>\n",
       "      <td>94.99</td>\n",
       "      <td>17</td>\n",
       "      <td>339.76</td>\n",
       "      <td>1</td>\n",
       "    </tr>\n",
       "    <tr>\n",
       "      <th>152</th>\n",
       "      <td>3</td>\n",
       "      <td>-80.25</td>\n",
       "      <td>6</td>\n",
       "      <td>112.55</td>\n",
       "      <td>1</td>\n",
       "    </tr>\n",
       "    <tr>\n",
       "      <th>153</th>\n",
       "      <td>10</td>\n",
       "      <td>35.57</td>\n",
       "      <td>13</td>\n",
       "      <td>3999.35</td>\n",
       "      <td>1</td>\n",
       "    </tr>\n",
       "    <tr>\n",
       "      <th>154</th>\n",
       "      <td>2</td>\n",
       "      <td>-12.59</td>\n",
       "      <td>22</td>\n",
       "      <td>5.69</td>\n",
       "      <td>1</td>\n",
       "    </tr>\n",
       "  </tbody>\n",
       "</table>\n",
       "<p>155 rows × 5 columns</p>\n",
       "</div>"
      ],
      "text/plain": [
       "     Transaction_Frequency  Transaction_Amount_Deviation  \\\n",
       "0                        1                         25.02   \n",
       "1                       30                        -36.64   \n",
       "2                        2                         44.19   \n",
       "3                        0                        -54.34   \n",
       "4                        1                         12.38   \n",
       "..                     ...                           ...   \n",
       "150                      1                          1.97   \n",
       "151                      1                         94.99   \n",
       "152                      3                        -80.25   \n",
       "153                     10                         35.57   \n",
       "154                      2                        -12.59   \n",
       "\n",
       "     Days_Since_Last_Transaction   amount  fraud  \n",
       "0                              5   396.62      1  \n",
       "1                             20   121.94      1  \n",
       "2                             22   106.69      1  \n",
       "3                             28  3611.11      1  \n",
       "4                             25   374.89      1  \n",
       "..                           ...      ...    ...  \n",
       "150                           10    95.03      1  \n",
       "151                           17   339.76      1  \n",
       "152                            6   112.55      1  \n",
       "153                           13  3999.35      1  \n",
       "154                           22     5.69      1  \n",
       "\n",
       "[155 rows x 5 columns]"
      ]
     },
     "execution_count": 473,
     "metadata": {},
     "output_type": "execute_result"
    }
   ],
   "source": [
    "numeric_columns = fraud.select_dtypes(include=['int64', 'float64'])\n",
    "numeric_columns"
   ]
  },
  {
   "cell_type": "code",
   "execution_count": 474,
   "id": "45451404",
   "metadata": {},
   "outputs": [
    {
     "data": {
      "text/html": [
       "<div>\n",
       "<style scoped>\n",
       "    .dataframe tbody tr th:only-of-type {\n",
       "        vertical-align: middle;\n",
       "    }\n",
       "\n",
       "    .dataframe tbody tr th {\n",
       "        vertical-align: top;\n",
       "    }\n",
       "\n",
       "    .dataframe thead th {\n",
       "        text-align: right;\n",
       "    }\n",
       "</style>\n",
       "<table border=\"1\" class=\"dataframe\">\n",
       "  <thead>\n",
       "    <tr style=\"text-align: right;\">\n",
       "      <th></th>\n",
       "      <th>Transaction_Type</th>\n",
       "      <th>Payment_Gateway</th>\n",
       "      <th>Transaction_City</th>\n",
       "      <th>Transaction_State</th>\n",
       "      <th>Transaction_Status</th>\n",
       "      <th>Device_OS</th>\n",
       "      <th>Merchant_Category</th>\n",
       "      <th>Transaction_Channel</th>\n",
       "      <th>month</th>\n",
       "    </tr>\n",
       "  </thead>\n",
       "  <tbody>\n",
       "    <tr>\n",
       "      <th>0</th>\n",
       "      <td>Refund</td>\n",
       "      <td>SamplePay</td>\n",
       "      <td>Durgapur</td>\n",
       "      <td>Chhattisgarh</td>\n",
       "      <td>Completed</td>\n",
       "      <td>MacOS</td>\n",
       "      <td>Brand Vouchers and OTT</td>\n",
       "      <td>In-store</td>\n",
       "      <td>Apr</td>\n",
       "    </tr>\n",
       "    <tr>\n",
       "      <th>1</th>\n",
       "      <td>Bank Transfer</td>\n",
       "      <td>SamplePay</td>\n",
       "      <td>Rajpur Sonarpur</td>\n",
       "      <td>Himachal Pradesh</td>\n",
       "      <td>Pending</td>\n",
       "      <td>Windows</td>\n",
       "      <td>Home delivery</td>\n",
       "      <td>Mobile</td>\n",
       "      <td>Aug</td>\n",
       "    </tr>\n",
       "    <tr>\n",
       "      <th>2</th>\n",
       "      <td>Bank Transfer</td>\n",
       "      <td>Other</td>\n",
       "      <td>New Delhi</td>\n",
       "      <td>Himachal Pradesh</td>\n",
       "      <td>Failed</td>\n",
       "      <td>Android</td>\n",
       "      <td>Utilities</td>\n",
       "      <td>Online</td>\n",
       "      <td>Jun</td>\n",
       "    </tr>\n",
       "    <tr>\n",
       "      <th>3</th>\n",
       "      <td>Subscription</td>\n",
       "      <td>UPI Pay</td>\n",
       "      <td>Bharatpur</td>\n",
       "      <td>Chhattisgarh</td>\n",
       "      <td>Failed</td>\n",
       "      <td>Android</td>\n",
       "      <td>Purchases</td>\n",
       "      <td>Online</td>\n",
       "      <td>Jan</td>\n",
       "    </tr>\n",
       "    <tr>\n",
       "      <th>4</th>\n",
       "      <td>Investment</td>\n",
       "      <td>Dummy Bank</td>\n",
       "      <td>Sagar</td>\n",
       "      <td>Mizoram</td>\n",
       "      <td>Completed</td>\n",
       "      <td>MacOS</td>\n",
       "      <td>Other</td>\n",
       "      <td>Online</td>\n",
       "      <td>Jun</td>\n",
       "    </tr>\n",
       "    <tr>\n",
       "      <th>...</th>\n",
       "      <td>...</td>\n",
       "      <td>...</td>\n",
       "      <td>...</td>\n",
       "      <td>...</td>\n",
       "      <td>...</td>\n",
       "      <td>...</td>\n",
       "      <td>...</td>\n",
       "      <td>...</td>\n",
       "      <td>...</td>\n",
       "    </tr>\n",
       "    <tr>\n",
       "      <th>150</th>\n",
       "      <td>Subscription</td>\n",
       "      <td>Sigma Bank</td>\n",
       "      <td>Mumbai</td>\n",
       "      <td>Maharashtra</td>\n",
       "      <td>Failed</td>\n",
       "      <td>Android</td>\n",
       "      <td>Home delivery</td>\n",
       "      <td>Mobile</td>\n",
       "      <td>Dec</td>\n",
       "    </tr>\n",
       "    <tr>\n",
       "      <th>151</th>\n",
       "      <td>Subscription</td>\n",
       "      <td>Other</td>\n",
       "      <td>Sasaram</td>\n",
       "      <td>Uttar Pradesh</td>\n",
       "      <td>Failed</td>\n",
       "      <td>Windows</td>\n",
       "      <td>More Services</td>\n",
       "      <td>Online</td>\n",
       "      <td>Mar</td>\n",
       "    </tr>\n",
       "    <tr>\n",
       "      <th>152</th>\n",
       "      <td>Bill Payment</td>\n",
       "      <td>UPI Pay</td>\n",
       "      <td>Solapur</td>\n",
       "      <td>Arunachal Pradesh</td>\n",
       "      <td>Failed</td>\n",
       "      <td>Windows</td>\n",
       "      <td>Utilities</td>\n",
       "      <td>In-store</td>\n",
       "      <td>Nov</td>\n",
       "    </tr>\n",
       "    <tr>\n",
       "      <th>153</th>\n",
       "      <td>Subscription</td>\n",
       "      <td>Gamma Bank</td>\n",
       "      <td>Shivpuri</td>\n",
       "      <td>Andhra Pradesh</td>\n",
       "      <td>Failed</td>\n",
       "      <td>Android</td>\n",
       "      <td>Brand Vouchers and OTT</td>\n",
       "      <td>In-store</td>\n",
       "      <td>Mar</td>\n",
       "    </tr>\n",
       "    <tr>\n",
       "      <th>154</th>\n",
       "      <td>Purchase</td>\n",
       "      <td>Sigma Bank</td>\n",
       "      <td>Tirunelveli</td>\n",
       "      <td>Meghalaya</td>\n",
       "      <td>Failed</td>\n",
       "      <td>MacOS</td>\n",
       "      <td>Travel bookings</td>\n",
       "      <td>In-store</td>\n",
       "      <td>Mar</td>\n",
       "    </tr>\n",
       "  </tbody>\n",
       "</table>\n",
       "<p>155 rows × 9 columns</p>\n",
       "</div>"
      ],
      "text/plain": [
       "    Transaction_Type Payment_Gateway Transaction_City  Transaction_State  \\\n",
       "0             Refund       SamplePay         Durgapur       Chhattisgarh   \n",
       "1      Bank Transfer       SamplePay  Rajpur Sonarpur   Himachal Pradesh   \n",
       "2      Bank Transfer           Other        New Delhi   Himachal Pradesh   \n",
       "3       Subscription         UPI Pay        Bharatpur       Chhattisgarh   \n",
       "4         Investment      Dummy Bank            Sagar            Mizoram   \n",
       "..               ...             ...              ...                ...   \n",
       "150     Subscription      Sigma Bank           Mumbai        Maharashtra   \n",
       "151     Subscription           Other          Sasaram      Uttar Pradesh   \n",
       "152     Bill Payment         UPI Pay          Solapur  Arunachal Pradesh   \n",
       "153     Subscription      Gamma Bank         Shivpuri     Andhra Pradesh   \n",
       "154         Purchase      Sigma Bank      Tirunelveli          Meghalaya   \n",
       "\n",
       "    Transaction_Status Device_OS       Merchant_Category Transaction_Channel  \\\n",
       "0            Completed     MacOS  Brand Vouchers and OTT            In-store   \n",
       "1              Pending   Windows           Home delivery              Mobile   \n",
       "2               Failed   Android               Utilities              Online   \n",
       "3               Failed   Android               Purchases              Online   \n",
       "4            Completed     MacOS                   Other              Online   \n",
       "..                 ...       ...                     ...                 ...   \n",
       "150             Failed   Android           Home delivery              Mobile   \n",
       "151             Failed   Windows           More Services              Online   \n",
       "152             Failed   Windows               Utilities            In-store   \n",
       "153             Failed   Android  Brand Vouchers and OTT            In-store   \n",
       "154             Failed     MacOS         Travel bookings            In-store   \n",
       "\n",
       "    month  \n",
       "0     Apr  \n",
       "1     Aug  \n",
       "2     Jun  \n",
       "3     Jan  \n",
       "4     Jun  \n",
       "..    ...  \n",
       "150   Dec  \n",
       "151   Mar  \n",
       "152   Nov  \n",
       "153   Mar  \n",
       "154   Mar  \n",
       "\n",
       "[155 rows x 9 columns]"
      ]
     },
     "execution_count": 474,
     "metadata": {},
     "output_type": "execute_result"
    }
   ],
   "source": [
    "cat_columns = fraud.select_dtypes(include=['object'])\n",
    "cat_columns"
   ]
  },
  {
   "cell_type": "code",
   "execution_count": 475,
   "id": "f14b0d72",
   "metadata": {},
   "outputs": [
    {
     "data": {
      "text/html": [
       "<div>\n",
       "<style scoped>\n",
       "    .dataframe tbody tr th:only-of-type {\n",
       "        vertical-align: middle;\n",
       "    }\n",
       "\n",
       "    .dataframe tbody tr th {\n",
       "        vertical-align: top;\n",
       "    }\n",
       "\n",
       "    .dataframe thead th {\n",
       "        text-align: right;\n",
       "    }\n",
       "</style>\n",
       "<table border=\"1\" class=\"dataframe\">\n",
       "  <thead>\n",
       "    <tr style=\"text-align: right;\">\n",
       "      <th></th>\n",
       "      <th>Transaction_Frequency</th>\n",
       "      <th>Transaction_Amount_Deviation</th>\n",
       "      <th>Days_Since_Last_Transaction</th>\n",
       "      <th>amount</th>\n",
       "      <th>fraud</th>\n",
       "    </tr>\n",
       "  </thead>\n",
       "  <tbody>\n",
       "    <tr>\n",
       "      <th>Transaction_Frequency</th>\n",
       "      <td>1.000000</td>\n",
       "      <td>0.112079</td>\n",
       "      <td>0.048399</td>\n",
       "      <td>-0.047628</td>\n",
       "      <td>NaN</td>\n",
       "    </tr>\n",
       "    <tr>\n",
       "      <th>Transaction_Amount_Deviation</th>\n",
       "      <td>0.112079</td>\n",
       "      <td>1.000000</td>\n",
       "      <td>-0.057579</td>\n",
       "      <td>-0.034097</td>\n",
       "      <td>NaN</td>\n",
       "    </tr>\n",
       "    <tr>\n",
       "      <th>Days_Since_Last_Transaction</th>\n",
       "      <td>0.048399</td>\n",
       "      <td>-0.057579</td>\n",
       "      <td>1.000000</td>\n",
       "      <td>0.078918</td>\n",
       "      <td>NaN</td>\n",
       "    </tr>\n",
       "    <tr>\n",
       "      <th>amount</th>\n",
       "      <td>-0.047628</td>\n",
       "      <td>-0.034097</td>\n",
       "      <td>0.078918</td>\n",
       "      <td>1.000000</td>\n",
       "      <td>NaN</td>\n",
       "    </tr>\n",
       "    <tr>\n",
       "      <th>fraud</th>\n",
       "      <td>NaN</td>\n",
       "      <td>NaN</td>\n",
       "      <td>NaN</td>\n",
       "      <td>NaN</td>\n",
       "      <td>NaN</td>\n",
       "    </tr>\n",
       "  </tbody>\n",
       "</table>\n",
       "</div>"
      ],
      "text/plain": [
       "                              Transaction_Frequency  \\\n",
       "Transaction_Frequency                      1.000000   \n",
       "Transaction_Amount_Deviation               0.112079   \n",
       "Days_Since_Last_Transaction                0.048399   \n",
       "amount                                    -0.047628   \n",
       "fraud                                           NaN   \n",
       "\n",
       "                              Transaction_Amount_Deviation  \\\n",
       "Transaction_Frequency                             0.112079   \n",
       "Transaction_Amount_Deviation                      1.000000   \n",
       "Days_Since_Last_Transaction                      -0.057579   \n",
       "amount                                           -0.034097   \n",
       "fraud                                                  NaN   \n",
       "\n",
       "                              Days_Since_Last_Transaction    amount  fraud  \n",
       "Transaction_Frequency                            0.048399 -0.047628    NaN  \n",
       "Transaction_Amount_Deviation                    -0.057579 -0.034097    NaN  \n",
       "Days_Since_Last_Transaction                      1.000000  0.078918    NaN  \n",
       "amount                                           0.078918  1.000000    NaN  \n",
       "fraud                                                 NaN       NaN    NaN  "
      ]
     },
     "execution_count": 475,
     "metadata": {},
     "output_type": "execute_result"
    }
   ],
   "source": [
    "numeric_columns.corr()"
   ]
  },
  {
   "cell_type": "code",
   "execution_count": 476,
   "id": "16c89654",
   "metadata": {},
   "outputs": [
    {
     "data": {
      "image/png": "[encoded data removed]",
      "text/plain": [
       "<Figure size 800x600 with 2 Axes>"
      ]
     },
     "metadata": {},
     "output_type": "display_data"
    }
   ],
   "source": [
    "corr = df.corr(numeric_only=True)  # fraud categorical h to ignore ho jayega\n",
    "\n",
    "# Plot heatmap\n",
    "plt.figure(figsize=(8,6))\n",
    "sns.heatmap(corr, annot=True, cmap=\"coolwarm\", center=0)\n",
    "plt.title(\"Correlation Heatmap\")\n",
    "plt.show()"
   ]
  },
  {
   "cell_type": "code",
   "execution_count": 477,
   "id": "85304557",
   "metadata": {},
   "outputs": [],
   "source": [
    "import seaborn as sns"
   ]
  },
  {
   "cell_type": "code",
   "execution_count": 478,
   "id": "a47adc13",
   "metadata": {},
   "outputs": [
    {
     "data": {
      "text/plain": [
       "<seaborn.axisgrid.PairGrid at 0x1ccdb8055e0>"
      ]
     },
     "execution_count": 478,
     "metadata": {},
     "output_type": "execute_result"
    },
    {
     "data": {
      "image/png": "[encoded data removed]",
      "text/plain": [
       "<Figure size 1308.88x1250 with 25 Axes>"
      ]
     },
     "metadata": {},
     "output_type": "display_data"
    }
   ],
   "source": [
    "#visulization the different features basis of fraud occurence as a subplots\n",
    "sns.pairplot(data=df , hue='fraud',palette='pastel' ,diag_kind='dist') "
   ]
  },
  {
   "cell_type": "markdown",
   "id": "e88e8c51",
   "metadata": {},
   "source": [
    "-visuliazing different features basis the fraud occurence as a subplots"
   ]
  },
  {
   "cell_type": "code",
   "execution_count": 479,
   "id": "a1f09440",
   "metadata": {},
   "outputs": [],
   "source": [
    "import plotly.express as px"
   ]
  },
  {
   "cell_type": "code",
   "execution_count": 480,
   "id": "a129a41c",
   "metadata": {},
   "outputs": [
    {
     "data": {
      "application/vnd.plotly.v1+json": {
       "config": {
        "plotlyServerURL": "https://plot.ly"
       },
       "data": [
        {
         "alignmentgroup": "True",
         "hovertemplate": "color=Bank Transfer<br>Transaction Type=%{x}<br>Fraud Count=%{y}<extra></extra>",
         "legendgroup": "Bank Transfer",
         "marker": {
          "color": "rgb(102, 197, 204)",
          "pattern": {
           "shape": ""
          }
         },
         "name": "Bank Transfer",
         "offsetgroup": "Bank Transfer",
         "orientation": "v",
         "showlegend": true,
         "textposition": "auto",
         "type": "bar",
         "x": [
          "Bank Transfer"
         ],
         "xaxis": "x",
         "y": [
          27
         ],
         "yaxis": "y"
        },
        {
         "alignmentgroup": "True",
         "hovertemplate": "color=Subscription<br>Transaction Type=%{x}<br>Fraud Count=%{y}<extra></extra>",
         "legendgroup": "Subscription",
         "marker": {
          "color": "rgb(246, 207, 113)",
          "pattern": {
           "shape": ""
          }
         },
         "name": "Subscription",
         "offsetgroup": "Subscription",
         "orientation": "v",
         "showlegend": true,
         "textposition": "auto",
         "type": "bar",
         "x": [
          "Subscription"
         ],
         "xaxis": "x",
         "y": [
          25
         ],
         "yaxis": "y"
        },
        {
         "alignmentgroup": "True",
         "hovertemplate": "color=Investment<br>Transaction Type=%{x}<br>Fraud Count=%{y}<extra></extra>",
         "legendgroup": "Investment",
         "marker": {
          "color": "rgb(248, 156, 116)",
          "pattern": {
           "shape": ""
          }
         },
         "name": "Investment",
         "offsetgroup": "Investment",
         "orientation": "v",
         "showlegend": true,
         "textposition": "auto",
         "type": "bar",
         "x": [
          "Investment"
         ],
         "xaxis": "x",
         "y": [
          23
         ],
         "yaxis": "y"
        },
        {
         "alignmentgroup": "True",
         "hovertemplate": "color=Refund<br>Transaction Type=%{x}<br>Fraud Count=%{y}<extra></extra>",
         "legendgroup": "Refund",
         "marker": {
          "color": "rgb(220, 176, 242)",
          "pattern": {
           "shape": ""
          }
         },
         "name": "Refund",
         "offsetgroup": "Refund",
         "orientation": "v",
         "showlegend": true,
         "textposition": "auto",
         "type": "bar",
         "x": [
          "Refund"
         ],
         "xaxis": "x",
         "y": [
          22
         ],
         "yaxis": "y"
        },
        {
         "alignmentgroup": "True",
         "hovertemplate": "color=Other<br>Transaction Type=%{x}<br>Fraud Count=%{y}<extra></extra>",
         "legendgroup": "Other",
         "marker": {
          "color": "rgb(135, 197, 95)",
          "pattern": {
           "shape": ""
          }
         },
         "name": "Other",
         "offsetgroup": "Other",
         "orientation": "v",
         "showlegend": true,
         "textposition": "auto",
         "type": "bar",
         "x": [
          "Other"
         ],
         "xaxis": "x",
         "y": [
          21
         ],
         "yaxis": "y"
        },
        {
         "alignmentgroup": "True",
         "hovertemplate": "color=Bill Payment<br>Transaction Type=%{x}<br>Fraud Count=%{y}<extra></extra>",
         "legendgroup": "Bill Payment",
         "marker": {
          "color": "rgb(158, 185, 243)",
          "pattern": {
           "shape": ""
          }
         },
         "name": "Bill Payment",
         "offsetgroup": "Bill Payment",
         "orientation": "v",
         "showlegend": true,
         "textposition": "auto",
         "type": "bar",
         "x": [
          "Bill Payment"
         ],
         "xaxis": "x",
         "y": [
          21
         ],
         "yaxis": "y"
        },
        {
         "alignmentgroup": "True",
         "hovertemplate": "color=Purchase<br>Transaction Type=%{x}<br>Fraud Count=%{y}<extra></extra>",
         "legendgroup": "Purchase",
         "marker": {
          "color": "rgb(254, 136, 177)",
          "pattern": {
           "shape": ""
          }
         },
         "name": "Purchase",
         "offsetgroup": "Purchase",
         "orientation": "v",
         "showlegend": true,
         "textposition": "auto",
         "type": "bar",
         "x": [
          "Purchase"
         ],
         "xaxis": "x",
         "y": [
          16
         ],
         "yaxis": "y"
        }
       ],
       "layout": {
        "barmode": "relative",
        "legend": {
         "title": {
          "text": "color"
         },
         "tracegroupgap": 0
        },
        "template": {
         "data": {
          "bar": [
           {
            "error_x": {
             "color": "#2a3f5f"
            },
            "error_y": {
             "color": "#2a3f5f"
            },
            "marker": {
             "line": {
              "color": "#E5ECF6",
              "width": 0.5
             },
             "pattern": {
              "fillmode": "overlay",
              "size": 10,
              "solidity": 0.2
             }
            },
            "type": "bar"
           }
          ],
          "barpolar": [
           {
            "marker": {
             "line": {
              "color": "#E5ECF6",
              "width": 0.5
             },
             "pattern": {
              "fillmode": "overlay",
              "size": 10,
              "solidity": 0.2
             }
            },
            "type": "barpolar"
           }
          ],
          "carpet": [
           {
            "aaxis": {
             "endlinecolor": "#2a3f5f",
             "gridcolor": "white",
             "linecolor": "white",
             "minorgridcolor": "white",
             "startlinecolor": "#2a3f5f"
            },
            "baxis": {
             "endlinecolor": "#2a3f5f",
             "gridcolor": "white",
             "linecolor": "white",
             "minorgridcolor": "white",
             "startlinecolor": "#2a3f5f"
            },
            "type": "carpet"
           }
          ],
          "choropleth": [
           {
            "colorbar": {
             "outlinewidth": 0,
             "ticks": ""
            },
            "type": "choropleth"
           }
          ],
          "contour": [
           {
            "colorbar": {
             "outlinewidth": 0,
             "ticks": ""
            },
            "colorscale": [
             [
              0,
              "#0d0887"
             ],
             [
              0.1111111111111111,
              "#46039f"
             ],
             [
              0.2222222222222222,
              "#7201a8"
             ],
             [
              0.3333333333333333,
              "#9c179e"
             ],
             [
              0.4444444444444444,
              "#bd3786"
             ],
             [
              0.5555555555555556,
              "#d8576b"
             ],
             [
              0.6666666666666666,
              "#ed7953"
             ],
             [
              0.7777777777777778,
              "#fb9f3a"
             ],
             [
              0.8888888888888888,
              "#fdca26"
             ],
             [
              1,
              "#f0f921"
             ]
            ],
            "type": "contour"
           }
          ],
          "contourcarpet": [
           {
            "colorbar": {
             "outlinewidth": 0,
             "ticks": ""
            },
            "type": "contourcarpet"
           }
          ],
          "heatmap": [
           {
            "colorbar": {
             "outlinewidth": 0,
             "ticks": ""
            },
            "colorscale": [
             [
              0,
              "#0d0887"
             ],
             [
              0.1111111111111111,
              "#46039f"
             ],
             [
              0.2222222222222222,
              "#7201a8"
             ],
             [
              0.3333333333333333,
              "#9c179e"
             ],
             [
              0.4444444444444444,
              "#bd3786"
             ],
             [
              0.5555555555555556,
              "#d8576b"
             ],
             [
              0.6666666666666666,
              "#ed7953"
             ],
             [
              0.7777777777777778,
              "#fb9f3a"
             ],
             [
              0.8888888888888888,
              "#fdca26"
             ],
             [
              1,
              "#f0f921"
             ]
            ],
            "type": "heatmap"
           }
          ],
          "heatmapgl": [
           {
            "colorbar": {
             "outlinewidth": 0,
             "ticks": ""
            },
            "colorscale": [
             [
              0,
              "#0d0887"
             ],
             [
              0.1111111111111111,
              "#46039f"
             ],
             [
              0.2222222222222222,
              "#7201a8"
             ],
             [
              0.3333333333333333,
              "#9c179e"
             ],
             [
              0.4444444444444444,
              "#bd3786"
             ],
             [
              0.5555555555555556,
              "#d8576b"
             ],
             [
              0.6666666666666666,
              "#ed7953"
             ],
             [
              0.7777777777777778,
              "#fb9f3a"
             ],
             [
              0.8888888888888888,
              "#fdca26"
             ],
             [
              1,
              "#f0f921"
             ]
            ],
            "type": "heatmapgl"
           }
          ],
          "histogram": [
           {
            "marker": {
             "pattern": {
              "fillmode": "overlay",
              "size": 10,
              "solidity": 0.2
             }
            },
            "type": "histogram"
           }
          ],
          "histogram2d": [
           {
            "colorbar": {
             "outlinewidth": 0,
             "ticks": ""
            },
            "colorscale": [
             [
              0,
              "#0d0887"
             ],
             [
              0.1111111111111111,
              "#46039f"
             ],
             [
              0.2222222222222222,
              "#7201a8"
             ],
             [
              0.3333333333333333,
              "#9c179e"
             ],
             [
              0.4444444444444444,
              "#bd3786"
             ],
             [
              0.5555555555555556,
              "#d8576b"
             ],
             [
              0.6666666666666666,
              "#ed7953"
             ],
             [
              0.7777777777777778,
              "#fb9f3a"
             ],
             [
              0.8888888888888888,
              "#fdca26"
             ],
             [
              1,
              "#f0f921"
             ]
            ],
            "type": "histogram2d"
           }
          ],
          "histogram2dcontour": [
           {
            "colorbar": {
             "outlinewidth": 0,
             "ticks": ""
            },
            "colorscale": [
             [
              0,
              "#0d0887"
             ],
             [
              0.1111111111111111,
              "#46039f"
             ],
             [
              0.2222222222222222,
              "#7201a8"
             ],
             [
              0.3333333333333333,
              "#9c179e"
             ],
             [
              0.4444444444444444,
              "#bd3786"
             ],
             [
              0.5555555555555556,
              "#d8576b"
             ],
             [
              0.6666666666666666,
              "#ed7953"
             ],
             [
              0.7777777777777778,
              "#fb9f3a"
             ],
             [
              0.8888888888888888,
              "#fdca26"
             ],
             [
              1,
              "#f0f921"
             ]
            ],
            "type": "histogram2dcontour"
           }
          ],
          "mesh3d": [
           {
            "colorbar": {
             "outlinewidth": 0,
             "ticks": ""
            },
            "type": "mesh3d"
           }
          ],
          "parcoords": [
           {
            "line": {
             "colorbar": {
              "outlinewidth": 0,
              "ticks": ""
             }
            },
            "type": "parcoords"
           }
          ],
          "pie": [
           {
            "automargin": true,
            "type": "pie"
           }
          ],
          "scatter": [
           {
            "fillpattern": {
             "fillmode": "overlay",
             "size": 10,
             "solidity": 0.2
            },
            "type": "scatter"
           }
          ],
          "scatter3d": [
           {
            "line": {
             "colorbar": {
              "outlinewidth": 0,
              "ticks": ""
             }
            },
            "marker": {
             "colorbar": {
              "outlinewidth": 0,
              "ticks": ""
             }
            },
            "type": "scatter3d"
           }
          ],
          "scattercarpet": [
           {
            "marker": {
             "colorbar": {
              "outlinewidth": 0,
              "ticks": ""
             }
            },
            "type": "scattercarpet"
           }
          ],
          "scattergeo": [
           {
            "marker": {
             "colorbar": {
              "outlinewidth": 0,
              "ticks": ""
             }
            },
            "type": "scattergeo"
           }
          ],
          "scattergl": [
           {
            "marker": {
             "colorbar": {
              "outlinewidth": 0,
              "ticks": ""
             }
            },
            "type": "scattergl"
           }
          ],
          "scattermapbox": [
           {
            "marker": {
             "colorbar": {
              "outlinewidth": 0,
              "ticks": ""
             }
            },
            "type": "scattermapbox"
           }
          ],
          "scatterpolar": [
           {
            "marker": {
             "colorbar": {
              "outlinewidth": 0,
              "ticks": ""
             }
            },
            "type": "scatterpolar"
           }
          ],
          "scatterpolargl": [
           {
            "marker": {
             "colorbar": {
              "outlinewidth": 0,
              "ticks": ""
             }
            },
            "type": "scatterpolargl"
           }
          ],
          "scatterternary": [
           {
            "marker": {
             "colorbar": {
              "outlinewidth": 0,
              "ticks": ""
             }
            },
            "type": "scatterternary"
           }
          ],
          "surface": [
           {
            "colorbar": {
             "outlinewidth": 0,
             "ticks": ""
            },
            "colorscale": [
             [
              0,
              "#0d0887"
             ],
             [
              0.1111111111111111,
              "#46039f"
             ],
             [
              0.2222222222222222,
              "#7201a8"
             ],
             [
              0.3333333333333333,
              "#9c179e"
             ],
             [
              0.4444444444444444,
              "#bd3786"
             ],
             [
              0.5555555555555556,
              "#d8576b"
             ],
             [
              0.6666666666666666,
              "#ed7953"
             ],
             [
              0.7777777777777778,
              "#fb9f3a"
             ],
             [
              0.8888888888888888,
              "#fdca26"
             ],
             [
              1,
              "#f0f921"
             ]
            ],
            "type": "surface"
           }
          ],
          "table": [
           {
            "cells": {
             "fill": {
              "color": "#EBF0F8"
             },
             "line": {
              "color": "white"
             }
            },
            "header": {
             "fill": {
              "color": "#C8D4E3"
             },
             "line": {
              "color": "white"
             }
            },
            "type": "table"
           }
          ]
         },
         "layout": {
          "annotationdefaults": {
           "arrowcolor": "#2a3f5f",
           "arrowhead": 0,
           "arrowwidth": 1
          },
          "autotypenumbers": "strict",
          "coloraxis": {
           "colorbar": {
            "outlinewidth": 0,
            "ticks": ""
           }
          },
          "colorscale": {
           "diverging": [
            [
             0,
             "#8e0152"
            ],
            [
             0.1,
             "#c51b7d"
            ],
            [
             0.2,
             "#de77ae"
            ],
            [
             0.3,
             "#f1b6da"
            ],
            [
             0.4,
             "#fde0ef"
            ],
            [
             0.5,
             "#f7f7f7"
            ],
            [
             0.6,
             "#e6f5d0"
            ],
            [
             0.7,
             "#b8e186"
            ],
            [
             0.8,
             "#7fbc41"
            ],
            [
             0.9,
             "#4d9221"
            ],
            [
             1,
             "#276419"
            ]
           ],
           "sequential": [
            [
             0,
             "#0d0887"
            ],
            [
             0.1111111111111111,
             "#46039f"
            ],
            [
             0.2222222222222222,
             "#7201a8"
            ],
            [
             0.3333333333333333,
             "#9c179e"
            ],
            [
             0.4444444444444444,
             "#bd3786"
            ],
            [
             0.5555555555555556,
             "#d8576b"
            ],
            [
             0.6666666666666666,
             "#ed7953"
            ],
            [
             0.7777777777777778,
             "#fb9f3a"
            ],
            [
             0.8888888888888888,
             "#fdca26"
            ],
            [
             1,
             "#f0f921"
            ]
           ],
           "sequentialminus": [
            [
             0,
             "#0d0887"
            ],
            [
             0.1111111111111111,
             "#46039f"
            ],
            [
             0.2222222222222222,
             "#7201a8"
            ],
            [
             0.3333333333333333,
             "#9c179e"
            ],
            [
             0.4444444444444444,
             "#bd3786"
            ],
            [
             0.5555555555555556,
             "#d8576b"
            ],
            [
             0.6666666666666666,
             "#ed7953"
            ],
            [
             0.7777777777777778,
             "#fb9f3a"
            ],
            [
             0.8888888888888888,
             "#fdca26"
            ],
            [
             1,
             "#f0f921"
            ]
           ]
          },
          "colorway": [
           "#636efa",
           "#EF553B",
           "#00cc96",
           "#ab63fa",
           "#FFA15A",
           "#19d3f3",
           "#FF6692",
           "#B6E880",
           "#FF97FF",
           "#FECB52"
          ],
          "font": {
           "color": "#2a3f5f"
          },
          "geo": {
           "bgcolor": "white",
           "lakecolor": "white",
           "landcolor": "#E5ECF6",
           "showlakes": true,
           "showland": true,
           "subunitcolor": "white"
          },
          "hoverlabel": {
           "align": "left"
          },
          "hovermode": "closest",
          "mapbox": {
           "style": "light"
          },
          "paper_bgcolor": "white",
          "plot_bgcolor": "#E5ECF6",
          "polar": {
           "angularaxis": {
            "gridcolor": "white",
            "linecolor": "white",
            "ticks": ""
           },
           "bgcolor": "#E5ECF6",
           "radialaxis": {
            "gridcolor": "white",
            "linecolor": "white",
            "ticks": ""
           }
          },
          "scene": {
           "xaxis": {
            "backgroundcolor": "#E5ECF6",
            "gridcolor": "white",
            "gridwidth": 2,
            "linecolor": "white",
            "showbackground": true,
            "ticks": "",
            "zerolinecolor": "white"
           },
           "yaxis": {
            "backgroundcolor": "#E5ECF6",
            "gridcolor": "white",
            "gridwidth": 2,
            "linecolor": "white",
            "showbackground": true,
            "ticks": "",
            "zerolinecolor": "white"
           },
           "zaxis": {
            "backgroundcolor": "#E5ECF6",
            "gridcolor": "white",
            "gridwidth": 2,
            "linecolor": "white",
            "showbackground": true,
            "ticks": "",
            "zerolinecolor": "white"
           }
          },
          "shapedefaults": {
           "line": {
            "color": "#2a3f5f"
           }
          },
          "ternary": {
           "aaxis": {
            "gridcolor": "white",
            "linecolor": "white",
            "ticks": ""
           },
           "baxis": {
            "gridcolor": "white",
            "linecolor": "white",
            "ticks": ""
           },
           "bgcolor": "#E5ECF6",
           "caxis": {
            "gridcolor": "white",
            "linecolor": "white",
            "ticks": ""
           }
          },
          "title": {
           "x": 0.05
          },
          "xaxis": {
           "automargin": true,
           "gridcolor": "white",
           "linecolor": "white",
           "ticks": "",
           "title": {
            "standoff": 15
           },
           "zerolinecolor": "white",
           "zerolinewidth": 2
          },
          "yaxis": {
           "automargin": true,
           "gridcolor": "white",
           "linecolor": "white",
           "ticks": "",
           "title": {
            "standoff": 15
           },
           "zerolinecolor": "white",
           "zerolinewidth": 2
          }
         }
        },
        "title": {
         "text": "Fraud Distribution by Transaction Type"
        },
        "xaxis": {
         "anchor": "y",
         "categoryorder": "total descending",
         "domain": [
          0,
          1
         ],
         "title": {
          "text": "Transaction Type"
         }
        },
        "yaxis": {
         "anchor": "x",
         "domain": [
          0,
          1
         ],
         "title": {
          "text": "Fraud Count"
         }
        }
       }
      }
     },
     "metadata": {},
     "output_type": "display_data"
    }
   ],
   "source": [
    "#plot 1: fraud distribution as occurrence type\n",
    "fig = px.bar(\n",
    "    x=fraud['Transaction_Type'].value_counts().index,\n",
    "    y=fraud['Transaction_Type'].value_counts().values,\n",
    "    color=fraud['Transaction_Type'].value_counts().index,\n",
    "    title='Fraud Distribution by Transaction Type',\n",
    "    labels={'x': 'Transaction Type', 'y': 'Fraud Count'},\n",
    "    color_discrete_sequence=px.colors.qualitative.Pastel\n",
    ")\n",
    "fig.update_layout(xaxis={'categoryorder': 'total descending'})\n",
    "fig.show()"
   ]
  },
  {
   "cell_type": "code",
   "execution_count": 481,
   "id": "24acfb31",
   "metadata": {},
   "outputs": [
    {
     "data": {
      "application/vnd.plotly.v1+json": {
       "config": {
        "plotlyServerURL": "https://plot.ly"
       },
       "data": [
        {
         "alignmentgroup": "True",
         "hovertemplate": "color=UPI Pay<br>Payment Gateway=%{x}<br>Fraud Count=%{y}<extra></extra>",
         "legendgroup": "UPI Pay",
         "marker": {
          "color": "rgb(102, 197, 204)",
          "pattern": {
           "shape": ""
          }
         },
         "name": "UPI Pay",
         "offsetgroup": "UPI Pay",
         "orientation": "v",
         "showlegend": true,
         "textposition": "auto",
         "type": "bar",
         "x": [
          "UPI Pay"
         ],
         "xaxis": "x",
         "y": [
          20
         ],
         "yaxis": "y"
        },
        {
         "alignmentgroup": "True",
         "hovertemplate": "color=Sigma Bank<br>Payment Gateway=%{x}<br>Fraud Count=%{y}<extra></extra>",
         "legendgroup": "Sigma Bank",
         "marker": {
          "color": "rgb(246, 207, 113)",
          "pattern": {
           "shape": ""
          }
         },
         "name": "Sigma Bank",
         "offsetgroup": "Sigma Bank",
         "orientation": "v",
         "showlegend": true,
         "textposition": "auto",
         "type": "bar",
         "x": [
          "Sigma Bank"
         ],
         "xaxis": "x",
         "y": [
          19
         ],
         "yaxis": "y"
        },
        {
         "alignmentgroup": "True",
         "hovertemplate": "color=Other<br>Payment Gateway=%{x}<br>Fraud Count=%{y}<extra></extra>",
         "legendgroup": "Other",
         "marker": {
          "color": "rgb(248, 156, 116)",
          "pattern": {
           "shape": ""
          }
         },
         "name": "Other",
         "offsetgroup": "Other",
         "orientation": "v",
         "showlegend": true,
         "textposition": "auto",
         "type": "bar",
         "x": [
          "Other"
         ],
         "xaxis": "x",
         "y": [
          18
         ],
         "yaxis": "y"
        },
        {
         "alignmentgroup": "True",
         "hovertemplate": "color=Bank of Data<br>Payment Gateway=%{x}<br>Fraud Count=%{y}<extra></extra>",
         "legendgroup": "Bank of Data",
         "marker": {
          "color": "rgb(220, 176, 242)",
          "pattern": {
           "shape": ""
          }
         },
         "name": "Bank of Data",
         "offsetgroup": "Bank of Data",
         "orientation": "v",
         "showlegend": true,
         "textposition": "auto",
         "type": "bar",
         "x": [
          "Bank of Data"
         ],
         "xaxis": "x",
         "y": [
          18
         ],
         "yaxis": "y"
        },
        {
         "alignmentgroup": "True",
         "hovertemplate": "color=SamplePay<br>Payment Gateway=%{x}<br>Fraud Count=%{y}<extra></extra>",
         "legendgroup": "SamplePay",
         "marker": {
          "color": "rgb(135, 197, 95)",
          "pattern": {
           "shape": ""
          }
         },
         "name": "SamplePay",
         "offsetgroup": "SamplePay",
         "orientation": "v",
         "showlegend": true,
         "textposition": "auto",
         "type": "bar",
         "x": [
          "SamplePay"
         ],
         "xaxis": "x",
         "y": [
          17
         ],
         "yaxis": "y"
        },
        {
         "alignmentgroup": "True",
         "hovertemplate": "color=Dummy Bank<br>Payment Gateway=%{x}<br>Fraud Count=%{y}<extra></extra>",
         "legendgroup": "Dummy Bank",
         "marker": {
          "color": "rgb(158, 185, 243)",
          "pattern": {
           "shape": ""
          }
         },
         "name": "Dummy Bank",
         "offsetgroup": "Dummy Bank",
         "orientation": "v",
         "showlegend": true,
         "textposition": "auto",
         "type": "bar",
         "x": [
          "Dummy Bank"
         ],
         "xaxis": "x",
         "y": [
          16
         ],
         "yaxis": "y"
        },
        {
         "alignmentgroup": "True",
         "hovertemplate": "color=Alpha Bank<br>Payment Gateway=%{x}<br>Fraud Count=%{y}<extra></extra>",
         "legendgroup": "Alpha Bank",
         "marker": {
          "color": "rgb(254, 136, 177)",
          "pattern": {
           "shape": ""
          }
         },
         "name": "Alpha Bank",
         "offsetgroup": "Alpha Bank",
         "orientation": "v",
         "showlegend": true,
         "textposition": "auto",
         "type": "bar",
         "x": [
          "Alpha Bank"
         ],
         "xaxis": "x",
         "y": [
          16
         ],
         "yaxis": "y"
        },
        {
         "alignmentgroup": "True",
         "hovertemplate": "color=CReditPAY<br>Payment Gateway=%{x}<br>Fraud Count=%{y}<extra></extra>",
         "legendgroup": "CReditPAY",
         "marker": {
          "color": "rgb(201, 219, 116)",
          "pattern": {
           "shape": ""
          }
         },
         "name": "CReditPAY",
         "offsetgroup": "CReditPAY",
         "orientation": "v",
         "showlegend": true,
         "textposition": "auto",
         "type": "bar",
         "x": [
          "CReditPAY"
         ],
         "xaxis": "x",
         "y": [
          16
         ],
         "yaxis": "y"
        },
        {
         "alignmentgroup": "True",
         "hovertemplate": "color=Gamma Bank<br>Payment Gateway=%{x}<br>Fraud Count=%{y}<extra></extra>",
         "legendgroup": "Gamma Bank",
         "marker": {
          "color": "rgb(139, 224, 164)",
          "pattern": {
           "shape": ""
          }
         },
         "name": "Gamma Bank",
         "offsetgroup": "Gamma Bank",
         "orientation": "v",
         "showlegend": true,
         "textposition": "auto",
         "type": "bar",
         "x": [
          "Gamma Bank"
         ],
         "xaxis": "x",
         "y": [
          15
         ],
         "yaxis": "y"
        }
       ],
       "layout": {
        "barmode": "relative",
        "legend": {
         "title": {
          "text": "color"
         },
         "tracegroupgap": 0
        },
        "template": {
         "data": {
          "bar": [
           {
            "error_x": {
             "color": "#2a3f5f"
            },
            "error_y": {
             "color": "#2a3f5f"
            },
            "marker": {
             "line": {
              "color": "#E5ECF6",
              "width": 0.5
             },
             "pattern": {
              "fillmode": "overlay",
              "size": 10,
              "solidity": 0.2
             }
            },
            "type": "bar"
           }
          ],
          "barpolar": [
           {
            "marker": {
             "line": {
              "color": "#E5ECF6",
              "width": 0.5
             },
             "pattern": {
              "fillmode": "overlay",
              "size": 10,
              "solidity": 0.2
             }
            },
            "type": "barpolar"
           }
          ],
          "carpet": [
           {
            "aaxis": {
             "endlinecolor": "#2a3f5f",
             "gridcolor": "white",
             "linecolor": "white",
             "minorgridcolor": "white",
             "startlinecolor": "#2a3f5f"
            },
            "baxis": {
             "endlinecolor": "#2a3f5f",
             "gridcolor": "white",
             "linecolor": "white",
             "minorgridcolor": "white",
             "startlinecolor": "#2a3f5f"
            },
            "type": "carpet"
           }
          ],
          "choropleth": [
           {
            "colorbar": {
             "outlinewidth": 0,
             "ticks": ""
            },
            "type": "choropleth"
           }
          ],
          "contour": [
           {
            "colorbar": {
             "outlinewidth": 0,
             "ticks": ""
            },
            "colorscale": [
             [
              0,
              "#0d0887"
             ],
             [
              0.1111111111111111,
              "#46039f"
             ],
             [
              0.2222222222222222,
              "#7201a8"
             ],
             [
              0.3333333333333333,
              "#9c179e"
             ],
             [
              0.4444444444444444,
              "#bd3786"
             ],
             [
              0.5555555555555556,
              "#d8576b"
             ],
             [
              0.6666666666666666,
              "#ed7953"
             ],
             [
              0.7777777777777778,
              "#fb9f3a"
             ],
             [
              0.8888888888888888,
              "#fdca26"
             ],
             [
              1,
              "#f0f921"
             ]
            ],
            "type": "contour"
           }
          ],
          "contourcarpet": [
           {
            "colorbar": {
             "outlinewidth": 0,
             "ticks": ""
            },
            "type": "contourcarpet"
           }
          ],
          "heatmap": [
           {
            "colorbar": {
             "outlinewidth": 0,
             "ticks": ""
            },
            "colorscale": [
             [
              0,
              "#0d0887"
             ],
             [
              0.1111111111111111,
              "#46039f"
             ],
             [
              0.2222222222222222,
              "#7201a8"
             ],
             [
              0.3333333333333333,
              "#9c179e"
             ],
             [
              0.4444444444444444,
              "#bd3786"
             ],
             [
              0.5555555555555556,
              "#d8576b"
             ],
             [
              0.6666666666666666,
              "#ed7953"
             ],
             [
              0.7777777777777778,
              "#fb9f3a"
             ],
             [
              0.8888888888888888,
              "#fdca26"
             ],
             [
              1,
              "#f0f921"
             ]
            ],
            "type": "heatmap"
           }
          ],
          "heatmapgl": [
           {
            "colorbar": {
             "outlinewidth": 0,
             "ticks": ""
            },
            "colorscale": [
             [
              0,
              "#0d0887"
             ],
             [
              0.1111111111111111,
              "#46039f"
             ],
             [
              0.2222222222222222,
              "#7201a8"
             ],
             [
              0.3333333333333333,
              "#9c179e"
             ],
             [
              0.4444444444444444,
              "#bd3786"
             ],
             [
              0.5555555555555556,
              "#d8576b"
             ],
             [
              0.6666666666666666,
              "#ed7953"
             ],
             [
              0.7777777777777778,
              "#fb9f3a"
             ],
             [
              0.8888888888888888,
              "#fdca26"
             ],
             [
              1,
              "#f0f921"
             ]
            ],
            "type": "heatmapgl"
           }
          ],
          "histogram": [
           {
            "marker": {
             "pattern": {
              "fillmode": "overlay",
              "size": 10,
              "solidity": 0.2
             }
            },
            "type": "histogram"
           }
          ],
          "histogram2d": [
           {
            "colorbar": {
             "outlinewidth": 0,
             "ticks": ""
            },
            "colorscale": [
             [
              0,
              "#0d0887"
             ],
             [
              0.1111111111111111,
              "#46039f"
             ],
             [
              0.2222222222222222,
              "#7201a8"
             ],
             [
              0.3333333333333333,
              "#9c179e"
             ],
             [
              0.4444444444444444,
              "#bd3786"
             ],
             [
              0.5555555555555556,
              "#d8576b"
             ],
             [
              0.6666666666666666,
              "#ed7953"
             ],
             [
              0.7777777777777778,
              "#fb9f3a"
             ],
             [
              0.8888888888888888,
              "#fdca26"
             ],
             [
              1,
              "#f0f921"
             ]
            ],
            "type": "histogram2d"
           }
          ],
          "histogram2dcontour": [
           {
            "colorbar": {
             "outlinewidth": 0,
             "ticks": ""
            },
            "colorscale": [
             [
              0,
              "#0d0887"
             ],
             [
              0.1111111111111111,
              "#46039f"
             ],
             [
              0.2222222222222222,
              "#7201a8"
             ],
             [
              0.3333333333333333,
              "#9c179e"
             ],
             [
              0.4444444444444444,
              "#bd3786"
             ],
             [
              0.5555555555555556,
              "#d8576b"
             ],
             [
              0.6666666666666666,
              "#ed7953"
             ],
             [
              0.7777777777777778,
              "#fb9f3a"
             ],
             [
              0.8888888888888888,
              "#fdca26"
             ],
             [
              1,
              "#f0f921"
             ]
            ],
            "type": "histogram2dcontour"
           }
          ],
          "mesh3d": [
           {
            "colorbar": {
             "outlinewidth": 0,
             "ticks": ""
            },
            "type": "mesh3d"
           }
          ],
          "parcoords": [
           {
            "line": {
             "colorbar": {
              "outlinewidth": 0,
              "ticks": ""
             }
            },
            "type": "parcoords"
           }
          ],
          "pie": [
           {
            "automargin": true,
            "type": "pie"
           }
          ],
          "scatter": [
           {
            "fillpattern": {
             "fillmode": "overlay",
             "size": 10,
             "solidity": 0.2
            },
            "type": "scatter"
           }
          ],
          "scatter3d": [
           {
            "line": {
             "colorbar": {
              "outlinewidth": 0,
              "ticks": ""
             }
            },
            "marker": {
             "colorbar": {
              "outlinewidth": 0,
              "ticks": ""
             }
            },
            "type": "scatter3d"
           }
          ],
          "scattercarpet": [
           {
            "marker": {
             "colorbar": {
              "outlinewidth": 0,
              "ticks": ""
             }
            },
            "type": "scattercarpet"
           }
          ],
          "scattergeo": [
           {
            "marker": {
             "colorbar": {
              "outlinewidth": 0,
              "ticks": ""
             }
            },
            "type": "scattergeo"
           }
          ],
          "scattergl": [
           {
            "marker": {
             "colorbar": {
              "outlinewidth": 0,
              "ticks": ""
             }
            },
            "type": "scattergl"
           }
          ],
          "scattermapbox": [
           {
            "marker": {
             "colorbar": {
              "outlinewidth": 0,
              "ticks": ""
             }
            },
            "type": "scattermapbox"
           }
          ],
          "scatterpolar": [
           {
            "marker": {
             "colorbar": {
              "outlinewidth": 0,
              "ticks": ""
             }
            },
            "type": "scatterpolar"
           }
          ],
          "scatterpolargl": [
           {
            "marker": {
             "colorbar": {
              "outlinewidth": 0,
              "ticks": ""
             }
            },
            "type": "scatterpolargl"
           }
          ],
          "scatterternary": [
           {
            "marker": {
             "colorbar": {
              "outlinewidth": 0,
              "ticks": ""
             }
            },
            "type": "scatterternary"
           }
          ],
          "surface": [
           {
            "colorbar": {
             "outlinewidth": 0,
             "ticks": ""
            },
            "colorscale": [
             [
              0,
              "#0d0887"
             ],
             [
              0.1111111111111111,
              "#46039f"
             ],
             [
              0.2222222222222222,
              "#7201a8"
             ],
             [
              0.3333333333333333,
              "#9c179e"
             ],
             [
              0.4444444444444444,
              "#bd3786"
             ],
             [
              0.5555555555555556,
              "#d8576b"
             ],
             [
              0.6666666666666666,
              "#ed7953"
             ],
             [
              0.7777777777777778,
              "#fb9f3a"
             ],
             [
              0.8888888888888888,
              "#fdca26"
             ],
             [
              1,
              "#f0f921"
             ]
            ],
            "type": "surface"
           }
          ],
          "table": [
           {
            "cells": {
             "fill": {
              "color": "#EBF0F8"
             },
             "line": {
              "color": "white"
             }
            },
            "header": {
             "fill": {
              "color": "#C8D4E3"
             },
             "line": {
              "color": "white"
             }
            },
            "type": "table"
           }
          ]
         },
         "layout": {
          "annotationdefaults": {
           "arrowcolor": "#2a3f5f",
           "arrowhead": 0,
           "arrowwidth": 1
          },
          "autotypenumbers": "strict",
          "coloraxis": {
           "colorbar": {
            "outlinewidth": 0,
            "ticks": ""
           }
          },
          "colorscale": {
           "diverging": [
            [
             0,
             "#8e0152"
            ],
            [
             0.1,
             "#c51b7d"
            ],
            [
             0.2,
             "#de77ae"
            ],
            [
             0.3,
             "#f1b6da"
            ],
            [
             0.4,
             "#fde0ef"
            ],
            [
             0.5,
             "#f7f7f7"
            ],
            [
             0.6,
             "#e6f5d0"
            ],
            [
             0.7,
             "#b8e186"
            ],
            [
             0.8,
             "#7fbc41"
            ],
            [
             0.9,
             "#4d9221"
            ],
            [
             1,
             "#276419"
            ]
           ],
           "sequential": [
            [
             0,
             "#0d0887"
            ],
            [
             0.1111111111111111,
             "#46039f"
            ],
            [
             0.2222222222222222,
             "#7201a8"
            ],
            [
             0.3333333333333333,
             "#9c179e"
            ],
            [
             0.4444444444444444,
             "#bd3786"
            ],
            [
             0.5555555555555556,
             "#d8576b"
            ],
            [
             0.6666666666666666,
             "#ed7953"
            ],
            [
             0.7777777777777778,
             "#fb9f3a"
            ],
            [
             0.8888888888888888,
             "#fdca26"
            ],
            [
             1,
             "#f0f921"
            ]
           ],
           "sequentialminus": [
            [
             0,
             "#0d0887"
            ],
            [
             0.1111111111111111,
             "#46039f"
            ],
            [
             0.2222222222222222,
             "#7201a8"
            ],
            [
             0.3333333333333333,
             "#9c179e"
            ],
            [
             0.4444444444444444,
             "#bd3786"
            ],
            [
             0.5555555555555556,
             "#d8576b"
            ],
            [
             0.6666666666666666,
             "#ed7953"
            ],
            [
             0.7777777777777778,
             "#fb9f3a"
            ],
            [
             0.8888888888888888,
             "#fdca26"
            ],
            [
             1,
             "#f0f921"
            ]
           ]
          },
          "colorway": [
           "#636efa",
           "#EF553B",
           "#00cc96",
           "#ab63fa",
           "#FFA15A",
           "#19d3f3",
           "#FF6692",
           "#B6E880",
           "#FF97FF",
           "#FECB52"
          ],
          "font": {
           "color": "#2a3f5f"
          },
          "geo": {
           "bgcolor": "white",
           "lakecolor": "white",
           "landcolor": "#E5ECF6",
           "showlakes": true,
           "showland": true,
           "subunitcolor": "white"
          },
          "hoverlabel": {
           "align": "left"
          },
          "hovermode": "closest",
          "mapbox": {
           "style": "light"
          },
          "paper_bgcolor": "white",
          "plot_bgcolor": "#E5ECF6",
          "polar": {
           "angularaxis": {
            "gridcolor": "white",
            "linecolor": "white",
            "ticks": ""
           },
           "bgcolor": "#E5ECF6",
           "radialaxis": {
            "gridcolor": "white",
            "linecolor": "white",
            "ticks": ""
           }
          },
          "scene": {
           "xaxis": {
            "backgroundcolor": "#E5ECF6",
            "gridcolor": "white",
            "gridwidth": 2,
            "linecolor": "white",
            "showbackground": true,
            "ticks": "",
            "zerolinecolor": "white"
           },
           "yaxis": {
            "backgroundcolor": "#E5ECF6",
            "gridcolor": "white",
            "gridwidth": 2,
            "linecolor": "white",
            "showbackground": true,
            "ticks": "",
            "zerolinecolor": "white"
           },
           "zaxis": {
            "backgroundcolor": "#E5ECF6",
            "gridcolor": "white",
            "gridwidth": 2,
            "linecolor": "white",
            "showbackground": true,
            "ticks": "",
            "zerolinecolor": "white"
           }
          },
          "shapedefaults": {
           "line": {
            "color": "#2a3f5f"
           }
          },
          "ternary": {
           "aaxis": {
            "gridcolor": "white",
            "linecolor": "white",
            "ticks": ""
           },
           "baxis": {
            "gridcolor": "white",
            "linecolor": "white",
            "ticks": ""
           },
           "bgcolor": "#E5ECF6",
           "caxis": {
            "gridcolor": "white",
            "linecolor": "white",
            "ticks": ""
           }
          },
          "title": {
           "x": 0.05
          },
          "xaxis": {
           "automargin": true,
           "gridcolor": "white",
           "linecolor": "white",
           "ticks": "",
           "title": {
            "standoff": 15
           },
           "zerolinecolor": "white",
           "zerolinewidth": 2
          },
          "yaxis": {
           "automargin": true,
           "gridcolor": "white",
           "linecolor": "white",
           "ticks": "",
           "title": {
            "standoff": 15
           },
           "zerolinecolor": "white",
           "zerolinewidth": 2
          }
         }
        },
        "title": {
         "text": "Fraud Distribution by Payment Gateway"
        },
        "xaxis": {
         "anchor": "y",
         "categoryorder": "total descending",
         "domain": [
          0,
          1
         ],
         "title": {
          "text": "Payment Gateway"
         }
        },
        "yaxis": {
         "anchor": "x",
         "domain": [
          0,
          1
         ],
         "title": {
          "text": "Fraud Count"
         }
        }
       }
      }
     },
     "metadata": {},
     "output_type": "display_data"
    }
   ],
   "source": [
    "#plot 2 farud distribution by payment gateway \n",
    "fig = px.bar(x=fraud['Payment_Gateway'].value_counts().index,\n",
    "             y=fraud['Payment_Gateway'].value_counts().values,\n",
    "             title='Fraud Distribution by Payment Gateway' , \n",
    "             color=fraud['Payment_Gateway'].value_counts().index,\n",
    "             labels={'x': 'Payment Gateway', 'y': 'Fraud Count'},\n",
    "             color_discrete_sequence=px.colors.qualitative.Pastel)\n",
    "fig.update_layout(xaxis={'categoryorder': 'total descending'})\n",
    "\n",
    "fig.show()"
   ]
  },
  {
   "cell_type": "code",
   "execution_count": 482,
   "id": "4b43b202",
   "metadata": {},
   "outputs": [
    {
     "data": {
      "application/vnd.plotly.v1+json": {
       "config": {
        "plotlyServerURL": "https://plot.ly"
       },
       "data": [
        {
         "alignmentgroup": "True",
         "hovertemplate": "color=Investment<br>Merchant Category=%{x}<br>Fraud Count=%{y}<extra></extra>",
         "legendgroup": "Investment",
         "marker": {
          "color": "rgb(102, 197, 204)",
          "pattern": {
           "shape": ""
          }
         },
         "name": "Investment",
         "offsetgroup": "Investment",
         "orientation": "v",
         "showlegend": true,
         "textposition": "auto",
         "type": "bar",
         "x": [
          "Investment"
         ],
         "xaxis": "x",
         "y": [
          20
         ],
         "yaxis": "y"
        },
        {
         "alignmentgroup": "True",
         "hovertemplate": "color=Utilities<br>Merchant Category=%{x}<br>Fraud Count=%{y}<extra></extra>",
         "legendgroup": "Utilities",
         "marker": {
          "color": "rgb(246, 207, 113)",
          "pattern": {
           "shape": ""
          }
         },
         "name": "Utilities",
         "offsetgroup": "Utilities",
         "orientation": "v",
         "showlegend": true,
         "textposition": "auto",
         "type": "bar",
         "x": [
          "Utilities"
         ],
         "xaxis": "x",
         "y": [
          19
         ],
         "yaxis": "y"
        },
        {
         "alignmentgroup": "True",
         "hovertemplate": "color=More Services<br>Merchant Category=%{x}<br>Fraud Count=%{y}<extra></extra>",
         "legendgroup": "More Services",
         "marker": {
          "color": "rgb(248, 156, 116)",
          "pattern": {
           "shape": ""
          }
         },
         "name": "More Services",
         "offsetgroup": "More Services",
         "orientation": "v",
         "showlegend": true,
         "textposition": "auto",
         "type": "bar",
         "x": [
          "More Services"
         ],
         "xaxis": "x",
         "y": [
          18
         ],
         "yaxis": "y"
        },
        {
         "alignmentgroup": "True",
         "hovertemplate": "color=Financial services and Taxes<br>Merchant Category=%{x}<br>Fraud Count=%{y}<extra></extra>",
         "legendgroup": "Financial services and Taxes",
         "marker": {
          "color": "rgb(220, 176, 242)",
          "pattern": {
           "shape": ""
          }
         },
         "name": "Financial services and Taxes",
         "offsetgroup": "Financial services and Taxes",
         "orientation": "v",
         "showlegend": true,
         "textposition": "auto",
         "type": "bar",
         "x": [
          "Financial services and Taxes"
         ],
         "xaxis": "x",
         "y": [
          18
         ],
         "yaxis": "y"
        },
        {
         "alignmentgroup": "True",
         "hovertemplate": "color=Brand Vouchers and OTT<br>Merchant Category=%{x}<br>Fraud Count=%{y}<extra></extra>",
         "legendgroup": "Brand Vouchers and OTT",
         "marker": {
          "color": "rgb(135, 197, 95)",
          "pattern": {
           "shape": ""
          }
         },
         "name": "Brand Vouchers and OTT",
         "offsetgroup": "Brand Vouchers and OTT",
         "orientation": "v",
         "showlegend": true,
         "textposition": "auto",
         "type": "bar",
         "x": [
          "Brand Vouchers and OTT"
         ],
         "xaxis": "x",
         "y": [
          17
         ],
         "yaxis": "y"
        },
        {
         "alignmentgroup": "True",
         "hovertemplate": "color=Other<br>Merchant Category=%{x}<br>Fraud Count=%{y}<extra></extra>",
         "legendgroup": "Other",
         "marker": {
          "color": "rgb(158, 185, 243)",
          "pattern": {
           "shape": ""
          }
         },
         "name": "Other",
         "offsetgroup": "Other",
         "orientation": "v",
         "showlegend": true,
         "textposition": "auto",
         "type": "bar",
         "x": [
          "Other"
         ],
         "xaxis": "x",
         "y": [
          15
         ],
         "yaxis": "y"
        },
        {
         "alignmentgroup": "True",
         "hovertemplate": "color=Travel bookings<br>Merchant Category=%{x}<br>Fraud Count=%{y}<extra></extra>",
         "legendgroup": "Travel bookings",
         "marker": {
          "color": "rgb(254, 136, 177)",
          "pattern": {
           "shape": ""
          }
         },
         "name": "Travel bookings",
         "offsetgroup": "Travel bookings",
         "orientation": "v",
         "showlegend": true,
         "textposition": "auto",
         "type": "bar",
         "x": [
          "Travel bookings"
         ],
         "xaxis": "x",
         "y": [
          15
         ],
         "yaxis": "y"
        },
        {
         "alignmentgroup": "True",
         "hovertemplate": "color=Home delivery<br>Merchant Category=%{x}<br>Fraud Count=%{y}<extra></extra>",
         "legendgroup": "Home delivery",
         "marker": {
          "color": "rgb(201, 219, 116)",
          "pattern": {
           "shape": ""
          }
         },
         "name": "Home delivery",
         "offsetgroup": "Home delivery",
         "orientation": "v",
         "showlegend": true,
         "textposition": "auto",
         "type": "bar",
         "x": [
          "Home delivery"
         ],
         "xaxis": "x",
         "y": [
          13
         ],
         "yaxis": "y"
        },
        {
         "alignmentgroup": "True",
         "hovertemplate": "color=Donations and Devotion<br>Merchant Category=%{x}<br>Fraud Count=%{y}<extra></extra>",
         "legendgroup": "Donations and Devotion",
         "marker": {
          "color": "rgb(139, 224, 164)",
          "pattern": {
           "shape": ""
          }
         },
         "name": "Donations and Devotion",
         "offsetgroup": "Donations and Devotion",
         "orientation": "v",
         "showlegend": true,
         "textposition": "auto",
         "type": "bar",
         "x": [
          "Donations and Devotion"
         ],
         "xaxis": "x",
         "y": [
          13
         ],
         "yaxis": "y"
        },
        {
         "alignmentgroup": "True",
         "hovertemplate": "color=Purchases<br>Merchant Category=%{x}<br>Fraud Count=%{y}<extra></extra>",
         "legendgroup": "Purchases",
         "marker": {
          "color": "rgb(180, 151, 231)",
          "pattern": {
           "shape": ""
          }
         },
         "name": "Purchases",
         "offsetgroup": "Purchases",
         "orientation": "v",
         "showlegend": true,
         "textposition": "auto",
         "type": "bar",
         "x": [
          "Purchases"
         ],
         "xaxis": "x",
         "y": [
          7
         ],
         "yaxis": "y"
        }
       ],
       "layout": {
        "barmode": "relative",
        "legend": {
         "title": {
          "text": "color"
         },
         "tracegroupgap": 0
        },
        "template": {
         "data": {
          "bar": [
           {
            "error_x": {
             "color": "#2a3f5f"
            },
            "error_y": {
             "color": "#2a3f5f"
            },
            "marker": {
             "line": {
              "color": "#E5ECF6",
              "width": 0.5
             },
             "pattern": {
              "fillmode": "overlay",
              "size": 10,
              "solidity": 0.2
             }
            },
            "type": "bar"
           }
          ],
          "barpolar": [
           {
            "marker": {
             "line": {
              "color": "#E5ECF6",
              "width": 0.5
             },
             "pattern": {
              "fillmode": "overlay",
              "size": 10,
              "solidity": 0.2
             }
            },
            "type": "barpolar"
           }
          ],
          "carpet": [
           {
            "aaxis": {
             "endlinecolor": "#2a3f5f",
             "gridcolor": "white",
             "linecolor": "white",
             "minorgridcolor": "white",
             "startlinecolor": "#2a3f5f"
            },
            "baxis": {
             "endlinecolor": "#2a3f5f",
             "gridcolor": "white",
             "linecolor": "white",
             "minorgridcolor": "white",
             "startlinecolor": "#2a3f5f"
            },
            "type": "carpet"
           }
          ],
          "choropleth": [
           {
            "colorbar": {
             "outlinewidth": 0,
             "ticks": ""
            },
            "type": "choropleth"
           }
          ],
          "contour": [
           {
            "colorbar": {
             "outlinewidth": 0,
             "ticks": ""
            },
            "colorscale": [
             [
              0,
              "#0d0887"
             ],
             [
              0.1111111111111111,
              "#46039f"
             ],
             [
              0.2222222222222222,
              "#7201a8"
             ],
             [
              0.3333333333333333,
              "#9c179e"
             ],
             [
              0.4444444444444444,
              "#bd3786"
             ],
             [
              0.5555555555555556,
              "#d8576b"
             ],
             [
              0.6666666666666666,
              "#ed7953"
             ],
             [
              0.7777777777777778,
              "#fb9f3a"
             ],
             [
              0.8888888888888888,
              "#fdca26"
             ],
             [
              1,
              "#f0f921"
             ]
            ],
            "type": "contour"
           }
          ],
          "contourcarpet": [
           {
            "colorbar": {
             "outlinewidth": 0,
             "ticks": ""
            },
            "type": "contourcarpet"
           }
          ],
          "heatmap": [
           {
            "colorbar": {
             "outlinewidth": 0,
             "ticks": ""
            },
            "colorscale": [
             [
              0,
              "#0d0887"
             ],
             [
              0.1111111111111111,
              "#46039f"
             ],
             [
              0.2222222222222222,
              "#7201a8"
             ],
             [
              0.3333333333333333,
              "#9c179e"
             ],
             [
              0.4444444444444444,
              "#bd3786"
             ],
             [
              0.5555555555555556,
              "#d8576b"
             ],
             [
              0.6666666666666666,
              "#ed7953"
             ],
             [
              0.7777777777777778,
              "#fb9f3a"
             ],
             [
              0.8888888888888888,
              "#fdca26"
             ],
             [
              1,
              "#f0f921"
             ]
            ],
            "type": "heatmap"
           }
          ],
          "heatmapgl": [
           {
            "colorbar": {
             "outlinewidth": 0,
             "ticks": ""
            },
            "colorscale": [
             [
              0,
              "#0d0887"
             ],
             [
              0.1111111111111111,
              "#46039f"
             ],
             [
              0.2222222222222222,
              "#7201a8"
             ],
             [
              0.3333333333333333,
              "#9c179e"
             ],
             [
              0.4444444444444444,
              "#bd3786"
             ],
             [
              0.5555555555555556,
              "#d8576b"
             ],
             [
              0.6666666666666666,
              "#ed7953"
             ],
             [
              0.7777777777777778,
              "#fb9f3a"
             ],
             [
              0.8888888888888888,
              "#fdca26"
             ],
             [
              1,
              "#f0f921"
             ]
            ],
            "type": "heatmapgl"
           }
          ],
          "histogram": [
           {
            "marker": {
             "pattern": {
              "fillmode": "overlay",
              "size": 10,
              "solidity": 0.2
             }
            },
            "type": "histogram"
           }
          ],
          "histogram2d": [
           {
            "colorbar": {
             "outlinewidth": 0,
             "ticks": ""
            },
            "colorscale": [
             [
              0,
              "#0d0887"
             ],
             [
              0.1111111111111111,
              "#46039f"
             ],
             [
              0.2222222222222222,
              "#7201a8"
             ],
             [
              0.3333333333333333,
              "#9c179e"
             ],
             [
              0.4444444444444444,
              "#bd3786"
             ],
             [
              0.5555555555555556,
              "#d8576b"
             ],
             [
              0.6666666666666666,
              "#ed7953"
             ],
             [
              0.7777777777777778,
              "#fb9f3a"
             ],
             [
              0.8888888888888888,
              "#fdca26"
             ],
             [
              1,
              "#f0f921"
             ]
            ],
            "type": "histogram2d"
           }
          ],
          "histogram2dcontour": [
           {
            "colorbar": {
             "outlinewidth": 0,
             "ticks": ""
            },
            "colorscale": [
             [
              0,
              "#0d0887"
             ],
             [
              0.1111111111111111,
              "#46039f"
             ],
             [
              0.2222222222222222,
              "#7201a8"
             ],
             [
              0.3333333333333333,
              "#9c179e"
             ],
             [
              0.4444444444444444,
              "#bd3786"
             ],
             [
              0.5555555555555556,
              "#d8576b"
             ],
             [
              0.6666666666666666,
              "#ed7953"
             ],
             [
              0.7777777777777778,
              "#fb9f3a"
             ],
             [
              0.8888888888888888,
              "#fdca26"
             ],
             [
              1,
              "#f0f921"
             ]
            ],
            "type": "histogram2dcontour"
           }
          ],
          "mesh3d": [
           {
            "colorbar": {
             "outlinewidth": 0,
             "ticks": ""
            },
            "type": "mesh3d"
           }
          ],
          "parcoords": [
           {
            "line": {
             "colorbar": {
              "outlinewidth": 0,
              "ticks": ""
             }
            },
            "type": "parcoords"
           }
          ],
          "pie": [
           {
            "automargin": true,
            "type": "pie"
           }
          ],
          "scatter": [
           {
            "fillpattern": {
             "fillmode": "overlay",
             "size": 10,
             "solidity": 0.2
            },
            "type": "scatter"
           }
          ],
          "scatter3d": [
           {
            "line": {
             "colorbar": {
              "outlinewidth": 0,
              "ticks": ""
             }
            },
            "marker": {
             "colorbar": {
              "outlinewidth": 0,
              "ticks": ""
             }
            },
            "type": "scatter3d"
           }
          ],
          "scattercarpet": [
           {
            "marker": {
             "colorbar": {
              "outlinewidth": 0,
              "ticks": ""
             }
            },
            "type": "scattercarpet"
           }
          ],
          "scattergeo": [
           {
            "marker": {
             "colorbar": {
              "outlinewidth": 0,
              "ticks": ""
             }
            },
            "type": "scattergeo"
           }
          ],
          "scattergl": [
           {
            "marker": {
             "colorbar": {
              "outlinewidth": 0,
              "ticks": ""
             }
            },
            "type": "scattergl"
           }
          ],
          "scattermapbox": [
           {
            "marker": {
             "colorbar": {
              "outlinewidth": 0,
              "ticks": ""
             }
            },
            "type": "scattermapbox"
           }
          ],
          "scatterpolar": [
           {
            "marker": {
             "colorbar": {
              "outlinewidth": 0,
              "ticks": ""
             }
            },
            "type": "scatterpolar"
           }
          ],
          "scatterpolargl": [
           {
            "marker": {
             "colorbar": {
              "outlinewidth": 0,
              "ticks": ""
             }
            },
            "type": "scatterpolargl"
           }
          ],
          "scatterternary": [
           {
            "marker": {
             "colorbar": {
              "outlinewidth": 0,
              "ticks": ""
             }
            },
            "type": "scatterternary"
           }
          ],
          "surface": [
           {
            "colorbar": {
             "outlinewidth": 0,
             "ticks": ""
            },
            "colorscale": [
             [
              0,
              "#0d0887"
             ],
             [
              0.1111111111111111,
              "#46039f"
             ],
             [
              0.2222222222222222,
              "#7201a8"
             ],
             [
              0.3333333333333333,
              "#9c179e"
             ],
             [
              0.4444444444444444,
              "#bd3786"
             ],
             [
              0.5555555555555556,
              "#d8576b"
             ],
             [
              0.6666666666666666,
              "#ed7953"
             ],
             [
              0.7777777777777778,
              "#fb9f3a"
             ],
             [
              0.8888888888888888,
              "#fdca26"
             ],
             [
              1,
              "#f0f921"
             ]
            ],
            "type": "surface"
           }
          ],
          "table": [
           {
            "cells": {
             "fill": {
              "color": "#EBF0F8"
             },
             "line": {
              "color": "white"
             }
            },
            "header": {
             "fill": {
              "color": "#C8D4E3"
             },
             "line": {
              "color": "white"
             }
            },
            "type": "table"
           }
          ]
         },
         "layout": {
          "annotationdefaults": {
           "arrowcolor": "#2a3f5f",
           "arrowhead": 0,
           "arrowwidth": 1
          },
          "autotypenumbers": "strict",
          "coloraxis": {
           "colorbar": {
            "outlinewidth": 0,
            "ticks": ""
           }
          },
          "colorscale": {
           "diverging": [
            [
             0,
             "#8e0152"
            ],
            [
             0.1,
             "#c51b7d"
            ],
            [
             0.2,
             "#de77ae"
            ],
            [
             0.3,
             "#f1b6da"
            ],
            [
             0.4,
             "#fde0ef"
            ],
            [
             0.5,
             "#f7f7f7"
            ],
            [
             0.6,
             "#e6f5d0"
            ],
            [
             0.7,
             "#b8e186"
            ],
            [
             0.8,
             "#7fbc41"
            ],
            [
             0.9,
             "#4d9221"
            ],
            [
             1,
             "#276419"
            ]
           ],
           "sequential": [
            [
             0,
             "#0d0887"
            ],
            [
             0.1111111111111111,
             "#46039f"
            ],
            [
             0.2222222222222222,
             "#7201a8"
            ],
            [
             0.3333333333333333,
             "#9c179e"
            ],
            [
             0.4444444444444444,
             "#bd3786"
            ],
            [
             0.5555555555555556,
             "#d8576b"
            ],
            [
             0.6666666666666666,
             "#ed7953"
            ],
            [
             0.7777777777777778,
             "#fb9f3a"
            ],
            [
             0.8888888888888888,
             "#fdca26"
            ],
            [
             1,
             "#f0f921"
            ]
           ],
           "sequentialminus": [
            [
             0,
             "#0d0887"
            ],
            [
             0.1111111111111111,
             "#46039f"
            ],
            [
             0.2222222222222222,
             "#7201a8"
            ],
            [
             0.3333333333333333,
             "#9c179e"
            ],
            [
             0.4444444444444444,
             "#bd3786"
            ],
            [
             0.5555555555555556,
             "#d8576b"
            ],
            [
             0.6666666666666666,
             "#ed7953"
            ],
            [
             0.7777777777777778,
             "#fb9f3a"
            ],
            [
             0.8888888888888888,
             "#fdca26"
            ],
            [
             1,
             "#f0f921"
            ]
           ]
          },
          "colorway": [
           "#636efa",
           "#EF553B",
           "#00cc96",
           "#ab63fa",
           "#FFA15A",
           "#19d3f3",
           "#FF6692",
           "#B6E880",
           "#FF97FF",
           "#FECB52"
          ],
          "font": {
           "color": "#2a3f5f"
          },
          "geo": {
           "bgcolor": "white",
           "lakecolor": "white",
           "landcolor": "#E5ECF6",
           "showlakes": true,
           "showland": true,
           "subunitcolor": "white"
          },
          "hoverlabel": {
           "align": "left"
          },
          "hovermode": "closest",
          "mapbox": {
           "style": "light"
          },
          "paper_bgcolor": "white",
          "plot_bgcolor": "#E5ECF6",
          "polar": {
           "angularaxis": {
            "gridcolor": "white",
            "linecolor": "white",
            "ticks": ""
           },
           "bgcolor": "#E5ECF6",
           "radialaxis": {
            "gridcolor": "white",
            "linecolor": "white",
            "ticks": ""
           }
          },
          "scene": {
           "xaxis": {
            "backgroundcolor": "#E5ECF6",
            "gridcolor": "white",
            "gridwidth": 2,
            "linecolor": "white",
            "showbackground": true,
            "ticks": "",
            "zerolinecolor": "white"
           },
           "yaxis": {
            "backgroundcolor": "#E5ECF6",
            "gridcolor": "white",
            "gridwidth": 2,
            "linecolor": "white",
            "showbackground": true,
            "ticks": "",
            "zerolinecolor": "white"
           },
           "zaxis": {
            "backgroundcolor": "#E5ECF6",
            "gridcolor": "white",
            "gridwidth": 2,
            "linecolor": "white",
            "showbackground": true,
            "ticks": "",
            "zerolinecolor": "white"
           }
          },
          "shapedefaults": {
           "line": {
            "color": "#2a3f5f"
           }
          },
          "ternary": {
           "aaxis": {
            "gridcolor": "white",
            "linecolor": "white",
            "ticks": ""
           },
           "baxis": {
            "gridcolor": "white",
            "linecolor": "white",
            "ticks": ""
           },
           "bgcolor": "#E5ECF6",
           "caxis": {
            "gridcolor": "white",
            "linecolor": "white",
            "ticks": ""
           }
          },
          "title": {
           "x": 0.05
          },
          "xaxis": {
           "automargin": true,
           "gridcolor": "white",
           "linecolor": "white",
           "ticks": "",
           "title": {
            "standoff": 15
           },
           "zerolinecolor": "white",
           "zerolinewidth": 2
          },
          "yaxis": {
           "automargin": true,
           "gridcolor": "white",
           "linecolor": "white",
           "ticks": "",
           "title": {
            "standoff": 15
           },
           "zerolinecolor": "white",
           "zerolinewidth": 2
          }
         }
        },
        "title": {
         "text": "Fraud Distribution by Merchant Category"
        },
        "xaxis": {
         "anchor": "y",
         "categoryorder": "total descending",
         "domain": [
          0,
          1
         ],
         "title": {
          "text": "Merchant Category"
         }
        },
        "yaxis": {
         "anchor": "x",
         "domain": [
          0,
          1
         ],
         "title": {
          "text": "Fraud Count"
         }
        }
       }
      }
     },
     "metadata": {},
     "output_type": "display_data"
    }
   ],
   "source": [
    "#plot 3 : fraud distribution by merchant category\n",
    "fig = px.bar(x=fraud['Merchant_Category'].value_counts().index,\n",
    "             y=fraud['Merchant_Category'].value_counts().values,\n",
    "             color=fraud['Merchant_Category'].value_counts().index,\n",
    "             title='Fraud Distribution by Merchant Category' ,\n",
    "             labels={'x': 'Merchant Category', 'y': 'Fraud Count'},\n",
    "               color_discrete_sequence=px.colors.qualitative.Pastel)\n",
    "fig.update_layout(xaxis={'categoryorder': 'total descending'})\n",
    "fig.show()"
   ]
  },
  {
   "cell_type": "code",
   "execution_count": null,
   "id": "5feac52c",
   "metadata": {},
   "outputs": [
    {
     "data": {
      "application/vnd.plotly.v1+json": {
       "config": {
        "plotlyServerURL": "https://plot.ly"
       },
       "data": [
        {
         "alignmentgroup": "True",
         "bingroup": "x",
         "hovertemplate": "Transaction Amount=%{x}<br>count=%{y}<extra></extra>",
         "legendgroup": "",
         "marker": {
          "color": "#636efa",
          "pattern": {
           "shape": ""
          }
         },
         "name": "",
         "nbinsx": 20,
         "offsetgroup": "",
         "orientation": "v",
         "showlegend": false,
         "type": "histogram",
         "x": [
          396.62,
          121.94,
          106.69,
          3611.11,
          374.89,
          186.83,
          78.51,
          472.17,
          84.65,
          238.36,
          340.67,
          22.43,
          266,
          272.16,
          255.63,
          620.64,
          904.45,
          265.33,
          186.8,
          167.27,
          663.53,
          262.63,
          490.84,
          703.95,
          83.07,
          644.15,
          388.51,
          217.52,
          259.75,
          278.32,
          177.99,
          728.96,
          830.57,
          399.81,
          278.2,
          458.52,
          134.91,
          112.06,
          109.52,
          242.5,
          231.33,
          50.17,
          321.61,
          291.98,
          42.08,
          196.12,
          503.68,
          127.28,
          378.11,
          672.44,
          386.87,
          10.99,
          466.47,
          314.96,
          241.47,
          396.92,
          265.75,
          299.42,
          66.6,
          907.57,
          398.57,
          189.22,
          142.86,
          329.89,
          442.9,
          239.62,
          284.46,
          430.29,
          769.16,
          157.03,
          102.64,
          614.25,
          261.99,
          555.92,
          324.95,
          226.78,
          334.25,
          204.31,
          67.21,
          222.26,
          592.91,
          301.7,
          61.61,
          563.2,
          124.41,
          2668.66,
          3.77,
          274.14,
          194.89,
          22.58,
          30.04,
          667.09,
          514.2,
          871.01,
          238.14,
          283.87,
          697.85,
          256.37,
          325.01,
          232.85,
          149.11,
          215.28,
          156.11,
          135.72,
          1167.18,
          128.09,
          171.67,
          29.68,
          260.51,
          79.82,
          66.56,
          141.83,
          294.98,
          116.03,
          646.92,
          38.55,
          712.12,
          368.53,
          661.53,
          97.49,
          578,
          801.73,
          384.11,
          201.7,
          591.83,
          124.37,
          36.51,
          498.38,
          223.42,
          331.56,
          247.56,
          69.53,
          311.94,
          415.19,
          50.83,
          533.84,
          303.99,
          176.32,
          572.36,
          694.15,
          361.28,
          698.77,
          105.73,
          413.44,
          305.38,
          2909.61,
          103.99,
          535.42,
          41.98,
          4883.62,
          95.03,
          339.76,
          112.55,
          3999.35,
          5.69
         ],
         "xaxis": "x",
         "yaxis": "y"
        }
       ],
       "layout": {
        "barmode": "relative",
        "legend": {
         "tracegroupgap": 0
        },
        "template": {
         "data": {
          "bar": [
           {
            "error_x": {
             "color": "#2a3f5f"
            },
            "error_y": {
             "color": "#2a3f5f"
            },
            "marker": {
             "line": {
              "color": "#E5ECF6",
              "width": 0.5
             },
             "pattern": {
              "fillmode": "overlay",
              "size": 10,
              "solidity": 0.2
             }
            },
            "type": "bar"
           }
          ],
          "barpolar": [
           {
            "marker": {
             "line": {
              "color": "#E5ECF6",
              "width": 0.5
             },
             "pattern": {
              "fillmode": "overlay",
              "size": 10,
              "solidity": 0.2
             }
            },
            "type": "barpolar"
           }
          ],
          "carpet": [
           {
            "aaxis": {
             "endlinecolor": "#2a3f5f",
             "gridcolor": "white",
             "linecolor": "white",
             "minorgridcolor": "white",
             "startlinecolor": "#2a3f5f"
            },
            "baxis": {
             "endlinecolor": "#2a3f5f",
             "gridcolor": "white",
             "linecolor": "white",
             "minorgridcolor": "white",
             "startlinecolor": "#2a3f5f"
            },
            "type": "carpet"
           }
          ],
          "choropleth": [
           {
            "colorbar": {
             "outlinewidth": 0,
             "ticks": ""
            },
            "type": "choropleth"
           }
          ],
          "contour": [
           {
            "colorbar": {
             "outlinewidth": 0,
             "ticks": ""
            },
            "colorscale": [
             [
              0,
              "#0d0887"
             ],
             [
              0.1111111111111111,
              "#46039f"
             ],
             [
              0.2222222222222222,
              "#7201a8"
             ],
             [
              0.3333333333333333,
              "#9c179e"
             ],
             [
              0.4444444444444444,
              "#bd3786"
             ],
             [
              0.5555555555555556,
              "#d8576b"
             ],
             [
              0.6666666666666666,
              "#ed7953"
             ],
             [
              0.7777777777777778,
              "#fb9f3a"
             ],
             [
              0.8888888888888888,
              "#fdca26"
             ],
             [
              1,
              "#f0f921"
             ]
            ],
            "type": "contour"
           }
          ],
          "contourcarpet": [
           {
            "colorbar": {
             "outlinewidth": 0,
             "ticks": ""
            },
            "type": "contourcarpet"
           }
          ],
          "heatmap": [
           {
            "colorbar": {
             "outlinewidth": 0,
             "ticks": ""
            },
            "colorscale": [
             [
              0,
              "#0d0887"
             ],
             [
              0.1111111111111111,
              "#46039f"
             ],
             [
              0.2222222222222222,
              "#7201a8"
             ],
             [
              0.3333333333333333,
              "#9c179e"
             ],
             [
              0.4444444444444444,
              "#bd3786"
             ],
             [
              0.5555555555555556,
              "#d8576b"
             ],
             [
              0.6666666666666666,
              "#ed7953"
             ],
             [
              0.7777777777777778,
              "#fb9f3a"
             ],
             [
              0.8888888888888888,
              "#fdca26"
             ],
             [
              1,
              "#f0f921"
             ]
            ],
            "type": "heatmap"
           }
          ],
          "heatmapgl": [
           {
            "colorbar": {
             "outlinewidth": 0,
             "ticks": ""
            },
            "colorscale": [
             [
              0,
              "#0d0887"
             ],
             [
              0.1111111111111111,
              "#46039f"
             ],
             [
              0.2222222222222222,
              "#7201a8"
             ],
             [
              0.3333333333333333,
              "#9c179e"
             ],
             [
              0.4444444444444444,
              "#bd3786"
             ],
             [
              0.5555555555555556,
              "#d8576b"
             ],
             [
              0.6666666666666666,
              "#ed7953"
             ],
             [
              0.7777777777777778,
              "#fb9f3a"
             ],
             [
              0.8888888888888888,
              "#fdca26"
             ],
             [
              1,
              "#f0f921"
             ]
            ],
            "type": "heatmapgl"
           }
          ],
          "histogram": [
           {
            "marker": {
             "pattern": {
              "fillmode": "overlay",
              "size": 10,
              "solidity": 0.2
             }
            },
            "type": "histogram"
           }
          ],
          "histogram2d": [
           {
            "colorbar": {
             "outlinewidth": 0,
             "ticks": ""
            },
            "colorscale": [
             [
              0,
              "#0d0887"
             ],
             [
              0.1111111111111111,
              "#46039f"
             ],
             [
              0.2222222222222222,
              "#7201a8"
             ],
             [
              0.3333333333333333,
              "#9c179e"
             ],
             [
              0.4444444444444444,
              "#bd3786"
             ],
             [
              0.5555555555555556,
              "#d8576b"
             ],
             [
              0.6666666666666666,
              "#ed7953"
             ],
             [
              0.7777777777777778,
              "#fb9f3a"
             ],
             [
              0.8888888888888888,
              "#fdca26"
             ],
             [
              1,
              "#f0f921"
             ]
            ],
            "type": "histogram2d"
           }
          ],
          "histogram2dcontour": [
           {
            "colorbar": {
             "outlinewidth": 0,
             "ticks": ""
            },
            "colorscale": [
             [
              0,
              "#0d0887"
             ],
             [
              0.1111111111111111,
              "#46039f"
             ],
             [
              0.2222222222222222,
              "#7201a8"
             ],
             [
              0.3333333333333333,
              "#9c179e"
             ],
             [
              0.4444444444444444,
              "#bd3786"
             ],
             [
              0.5555555555555556,
              "#d8576b"
             ],
             [
              0.6666666666666666,
              "#ed7953"
             ],
             [
              0.7777777777777778,
              "#fb9f3a"
             ],
             [
              0.8888888888888888,
              "#fdca26"
             ],
             [
              1,
              "#f0f921"
             ]
            ],
            "type": "histogram2dcontour"
           }
          ],
          "mesh3d": [
           {
            "colorbar": {
             "outlinewidth": 0,
             "ticks": ""
            },
            "type": "mesh3d"
           }
          ],
          "parcoords": [
           {
            "line": {
             "colorbar": {
              "outlinewidth": 0,
              "ticks": ""
             }
            },
            "type": "parcoords"
           }
          ],
          "pie": [
           {
            "automargin": true,
            "type": "pie"
           }
          ],
          "scatter": [
           {
            "fillpattern": {
             "fillmode": "overlay",
             "size": 10,
             "solidity": 0.2
            },
            "type": "scatter"
           }
          ],
          "scatter3d": [
           {
            "line": {
             "colorbar": {
              "outlinewidth": 0,
              "ticks": ""
             }
            },
            "marker": {
             "colorbar": {
              "outlinewidth": 0,
              "ticks": ""
             }
            },
            "type": "scatter3d"
           }
          ],
          "scattercarpet": [
           {
            "marker": {
             "colorbar": {
              "outlinewidth": 0,
              "ticks": ""
             }
            },
            "type": "scattercarpet"
           }
          ],
          "scattergeo": [
           {
            "marker": {
             "colorbar": {
              "outlinewidth": 0,
              "ticks": ""
             }
            },
            "type": "scattergeo"
           }
          ],
          "scattergl": [
           {
            "marker": {
             "colorbar": {
              "outlinewidth": 0,
              "ticks": ""
             }
            },
            "type": "scattergl"
           }
          ],
          "scattermapbox": [
           {
            "marker": {
             "colorbar": {
              "outlinewidth": 0,
              "ticks": ""
             }
            },
            "type": "scattermapbox"
           }
          ],
          "scatterpolar": [
           {
            "marker": {
             "colorbar": {
              "outlinewidth": 0,
              "ticks": ""
             }
            },
            "type": "scatterpolar"
           }
          ],
          "scatterpolargl": [
           {
            "marker": {
             "colorbar": {
              "outlinewidth": 0,
              "ticks": ""
             }
            },
            "type": "scatterpolargl"
           }
          ],
          "scatterternary": [
           {
            "marker": {
             "colorbar": {
              "outlinewidth": 0,
              "ticks": ""
             }
            },
            "type": "scatterternary"
           }
          ],
          "surface": [
           {
            "colorbar": {
             "outlinewidth": 0,
             "ticks": ""
            },
            "colorscale": [
             [
              0,
              "#0d0887"
             ],
             [
              0.1111111111111111,
              "#46039f"
             ],
             [
              0.2222222222222222,
              "#7201a8"
             ],
             [
              0.3333333333333333,
              "#9c179e"
             ],
             [
              0.4444444444444444,
              "#bd3786"
             ],
             [
              0.5555555555555556,
              "#d8576b"
             ],
             [
              0.6666666666666666,
              "#ed7953"
             ],
             [
              0.7777777777777778,
              "#fb9f3a"
             ],
             [
              0.8888888888888888,
              "#fdca26"
             ],
             [
              1,
              "#f0f921"
             ]
            ],
            "type": "surface"
           }
          ],
          "table": [
           {
            "cells": {
             "fill": {
              "color": "#EBF0F8"
             },
             "line": {
              "color": "white"
             }
            },
            "header": {
             "fill": {
              "color": "#C8D4E3"
             },
             "line": {
              "color": "white"
             }
            },
            "type": "table"
           }
          ]
         },
         "layout": {
          "annotationdefaults": {
           "arrowcolor": "#2a3f5f",
           "arrowhead": 0,
           "arrowwidth": 1
          },
          "autotypenumbers": "strict",
          "coloraxis": {
           "colorbar": {
            "outlinewidth": 0,
            "ticks": ""
           }
          },
          "colorscale": {
           "diverging": [
            [
             0,
             "#8e0152"
            ],
            [
             0.1,
             "#c51b7d"
            ],
            [
             0.2,
             "#de77ae"
            ],
            [
             0.3,
             "#f1b6da"
            ],
            [
             0.4,
             "#fde0ef"
            ],
            [
             0.5,
             "#f7f7f7"
            ],
            [
             0.6,
             "#e6f5d0"
            ],
            [
             0.7,
             "#b8e186"
            ],
            [
             0.8,
             "#7fbc41"
            ],
            [
             0.9,
             "#4d9221"
            ],
            [
             1,
             "#276419"
            ]
           ],
           "sequential": [
            [
             0,
             "#0d0887"
            ],
            [
             0.1111111111111111,
             "#46039f"
            ],
            [
             0.2222222222222222,
             "#7201a8"
            ],
            [
             0.3333333333333333,
             "#9c179e"
            ],
            [
             0.4444444444444444,
             "#bd3786"
            ],
            [
             0.5555555555555556,
             "#d8576b"
            ],
            [
             0.6666666666666666,
             "#ed7953"
            ],
            [
             0.7777777777777778,
             "#fb9f3a"
            ],
            [
             0.8888888888888888,
             "#fdca26"
            ],
            [
             1,
             "#f0f921"
            ]
           ],
           "sequentialminus": [
            [
             0,
             "#0d0887"
            ],
            [
             0.1111111111111111,
             "#46039f"
            ],
            [
             0.2222222222222222,
             "#7201a8"
            ],
            [
             0.3333333333333333,
             "#9c179e"
            ],
            [
             0.4444444444444444,
             "#bd3786"
            ],
            [
             0.5555555555555556,
             "#d8576b"
            ],
            [
             0.6666666666666666,
             "#ed7953"
            ],
            [
             0.7777777777777778,
             "#fb9f3a"
            ],
            [
             0.8888888888888888,
             "#fdca26"
            ],
            [
             1,
             "#f0f921"
            ]
           ]
          },
          "colorway": [
           "#636efa",
           "#EF553B",
           "#00cc96",
           "#ab63fa",
           "#FFA15A",
           "#19d3f3",
           "#FF6692",
           "#B6E880",
           "#FF97FF",
           "#FECB52"
          ],
          "font": {
           "color": "#2a3f5f"
          },
          "geo": {
           "bgcolor": "white",
           "lakecolor": "white",
           "landcolor": "#E5ECF6",
           "showlakes": true,
           "showland": true,
           "subunitcolor": "white"
          },
          "hoverlabel": {
           "align": "left"
          },
          "hovermode": "closest",
          "mapbox": {
           "style": "light"
          },
          "paper_bgcolor": "white",
          "plot_bgcolor": "#E5ECF6",
          "polar": {
           "angularaxis": {
            "gridcolor": "white",
            "linecolor": "white",
            "ticks": ""
           },
           "bgcolor": "#E5ECF6",
           "radialaxis": {
            "gridcolor": "white",
            "linecolor": "white",
            "ticks": ""
           }
          },
          "scene": {
           "xaxis": {
            "backgroundcolor": "#E5ECF6",
            "gridcolor": "white",
            "gridwidth": 2,
            "linecolor": "white",
            "showbackground": true,
            "ticks": "",
            "zerolinecolor": "white"
           },
           "yaxis": {
            "backgroundcolor": "#E5ECF6",
            "gridcolor": "white",
            "gridwidth": 2,
            "linecolor": "white",
            "showbackground": true,
            "ticks": "",
            "zerolinecolor": "white"
           },
           "zaxis": {
            "backgroundcolor": "#E5ECF6",
            "gridcolor": "white",
            "gridwidth": 2,
            "linecolor": "white",
            "showbackground": true,
            "ticks": "",
            "zerolinecolor": "white"
           }
          },
          "shapedefaults": {
           "line": {
            "color": "#2a3f5f"
           }
          },
          "ternary": {
           "aaxis": {
            "gridcolor": "white",
            "linecolor": "white",
            "ticks": ""
           },
           "baxis": {
            "gridcolor": "white",
            "linecolor": "white",
            "ticks": ""
           },
           "bgcolor": "#E5ECF6",
           "caxis": {
            "gridcolor": "white",
            "linecolor": "white",
            "ticks": ""
           }
          },
          "title": {
           "x": 0.05
          },
          "xaxis": {
           "automargin": true,
           "gridcolor": "white",
           "linecolor": "white",
           "ticks": "",
           "title": {
            "standoff": 15
           },
           "zerolinecolor": "white",
           "zerolinewidth": 2
          },
          "yaxis": {
           "automargin": true,
           "gridcolor": "white",
           "linecolor": "white",
           "ticks": "",
           "title": {
            "standoff": 15
           },
           "zerolinecolor": "white",
           "zerolinewidth": 2
          }
         }
        },
        "title": {
         "text": "Transaction Amount Distribution"
        },
        "xaxis": {
         "anchor": "y",
         "domain": [
          0,
          1
         ],
         "title": {
          "text": "Transaction Amount"
         }
        },
        "yaxis": {
         "anchor": "x",
         "domain": [
          0,
          1
         ],
         "title": {
          "text": "count"
         }
        }
       }
      }
     },
     "metadata": {},
     "output_type": "display_data"
    }
   ],
   "source": [
    "#plot 4 : distribution transaction amount\n",
    "fig = px.histogram(fraud, x='amount', nbins=20, title='Transaction Amount Distribution',\n",
    "                   labels={'amount': 'Transaction Amount'})\n",
    "fig.show()"
   ]
  },
  {
   "cell_type": "code",
   "execution_count": 500,
   "id": "dc0ff349",
   "metadata": {},
   "outputs": [
    {
     "data": {
      "application/vnd.plotly.v1+json": {
       "config": {
        "plotlyServerURL": "https://plot.ly"
       },
       "data": [
        {
         "hovertemplate": "Transaction Frequency=%{x}<br>Transaction Amount=%{marker.color}<extra></extra>",
         "legendgroup": "",
         "marker": {
          "color": [
           1,
           1,
           1,
           1,
           1,
           1,
           1,
           1,
           1,
           1,
           1,
           1,
           1,
           1,
           1,
           1,
           1,
           1,
           1,
           1,
           1,
           1,
           1,
           1,
           1,
           1,
           1,
           1,
           1,
           1,
           1,
           1,
           1,
           1,
           1,
           1,
           1,
           1,
           1,
           1,
           1,
           1,
           1,
           1,
           1,
           1,
           1,
           1,
           1,
           1,
           1,
           1,
           1,
           1,
           1,
           1,
           1,
           1,
           1,
           1,
           1,
           1,
           1,
           1,
           1,
           1,
           1,
           1,
           1,
           1,
           1,
           1,
           1,
           1,
           1,
           1,
           1,
           1,
           1,
           1,
           1,
           1,
           1,
           1,
           1,
           1,
           1,
           1,
           1,
           1,
           1,
           1,
           1,
           1,
           1,
           1,
           1,
           1,
           1,
           1,
           1,
           1,
           1,
           1,
           1,
           1,
           1,
           1,
           1,
           1,
           1,
           1,
           1,
           1,
           1,
           1,
           1,
           1,
           1,
           1,
           1,
           1,
           1,
           1,
           1,
           1,
           1,
           1,
           1,
           1,
           1,
           1,
           1,
           1,
           1,
           1,
           1,
           1,
           1,
           1,
           1,
           1,
           1,
           1,
           1,
           1,
           1,
           1,
           1,
           1,
           1,
           1,
           1,
           1,
           1
          ],
          "coloraxis": "coloraxis",
          "symbol": "circle"
         },
         "mode": "markers",
         "name": "",
         "orientation": "v",
         "showlegend": false,
         "type": "scatter",
         "x": [
          1,
          30,
          2,
          0,
          1,
          20,
          0,
          3,
          2,
          1,
          3,
          0,
          0,
          1,
          1,
          0,
          4,
          1,
          0,
          2,
          2,
          20,
          20,
          10,
          3,
          2,
          0,
          2,
          4,
          30,
          0,
          3,
          0,
          2,
          0,
          1,
          3,
          2,
          0,
          40,
          30,
          3,
          4,
          4,
          3,
          2,
          8,
          3,
          10,
          4,
          0,
          2,
          1,
          10,
          1,
          0,
          1,
          2,
          2,
          3,
          1,
          1,
          1,
          4,
          0,
          5,
          0,
          3,
          1,
          1,
          2,
          2,
          2,
          1,
          1,
          10,
          1,
          1,
          3,
          2,
          0,
          40,
          0,
          1,
          1,
          0,
          2,
          1,
          4,
          0,
          4,
          5,
          2,
          2,
          2,
          2,
          1,
          2,
          1,
          1,
          1,
          2,
          2,
          0,
          0,
          5,
          1,
          4,
          2,
          2,
          1,
          3,
          1,
          2,
          1,
          2,
          1,
          2,
          2,
          2,
          0,
          4,
          50,
          2,
          5,
          3,
          20,
          1,
          0,
          1,
          0,
          2,
          1,
          2,
          0,
          2,
          2,
          3,
          2,
          2,
          40,
          0,
          4,
          5,
          2,
          1,
          2,
          2,
          5,
          0,
          1,
          1,
          3,
          10,
          2
         ],
         "xaxis": "x",
         "y": [
          1,
          1,
          1,
          1,
          1,
          1,
          1,
          1,
          1,
          1,
          1,
          1,
          1,
          1,
          1,
          1,
          1,
          1,
          1,
          1,
          1,
          1,
          1,
          1,
          1,
          1,
          1,
          1,
          1,
          1,
          1,
          1,
          1,
          1,
          1,
          1,
          1,
          1,
          1,
          1,
          1,
          1,
          1,
          1,
          1,
          1,
          1,
          1,
          1,
          1,
          1,
          1,
          1,
          1,
          1,
          1,
          1,
          1,
          1,
          1,
          1,
          1,
          1,
          1,
          1,
          1,
          1,
          1,
          1,
          1,
          1,
          1,
          1,
          1,
          1,
          1,
          1,
          1,
          1,
          1,
          1,
          1,
          1,
          1,
          1,
          1,
          1,
          1,
          1,
          1,
          1,
          1,
          1,
          1,
          1,
          1,
          1,
          1,
          1,
          1,
          1,
          1,
          1,
          1,
          1,
          1,
          1,
          1,
          1,
          1,
          1,
          1,
          1,
          1,
          1,
          1,
          1,
          1,
          1,
          1,
          1,
          1,
          1,
          1,
          1,
          1,
          1,
          1,
          1,
          1,
          1,
          1,
          1,
          1,
          1,
          1,
          1,
          1,
          1,
          1,
          1,
          1,
          1,
          1,
          1,
          1,
          1,
          1,
          1,
          1,
          1,
          1,
          1,
          1,
          1
         ],
         "yaxis": "y"
        }
       ],
       "layout": {
        "coloraxis": {
         "colorbar": {
          "title": {
           "text": "Transaction Amount"
          }
         },
         "colorscale": [
          [
           0,
           "#0d0887"
          ],
          [
           0.1111111111111111,
           "#46039f"
          ],
          [
           0.2222222222222222,
           "#7201a8"
          ],
          [
           0.3333333333333333,
           "#9c179e"
          ],
          [
           0.4444444444444444,
           "#bd3786"
          ],
          [
           0.5555555555555556,
           "#d8576b"
          ],
          [
           0.6666666666666666,
           "#ed7953"
          ],
          [
           0.7777777777777778,
           "#fb9f3a"
          ],
          [
           0.8888888888888888,
           "#fdca26"
          ],
          [
           1,
           "#f0f921"
          ]
         ]
        },
        "legend": {
         "tracegroupgap": 0
        },
        "template": {
         "data": {
          "bar": [
           {
            "error_x": {
             "color": "#2a3f5f"
            },
            "error_y": {
             "color": "#2a3f5f"
            },
            "marker": {
             "line": {
              "color": "#E5ECF6",
              "width": 0.5
             },
             "pattern": {
              "fillmode": "overlay",
              "size": 10,
              "solidity": 0.2
             }
            },
            "type": "bar"
           }
          ],
          "barpolar": [
           {
            "marker": {
             "line": {
              "color": "#E5ECF6",
              "width": 0.5
             },
             "pattern": {
              "fillmode": "overlay",
              "size": 10,
              "solidity": 0.2
             }
            },
            "type": "barpolar"
           }
          ],
          "carpet": [
           {
            "aaxis": {
             "endlinecolor": "#2a3f5f",
             "gridcolor": "white",
             "linecolor": "white",
             "minorgridcolor": "white",
             "startlinecolor": "#2a3f5f"
            },
            "baxis": {
             "endlinecolor": "#2a3f5f",
             "gridcolor": "white",
             "linecolor": "white",
             "minorgridcolor": "white",
             "startlinecolor": "#2a3f5f"
            },
            "type": "carpet"
           }
          ],
          "choropleth": [
           {
            "colorbar": {
             "outlinewidth": 0,
             "ticks": ""
            },
            "type": "choropleth"
           }
          ],
          "contour": [
           {
            "colorbar": {
             "outlinewidth": 0,
             "ticks": ""
            },
            "colorscale": [
             [
              0,
              "#0d0887"
             ],
             [
              0.1111111111111111,
              "#46039f"
             ],
             [
              0.2222222222222222,
              "#7201a8"
             ],
             [
              0.3333333333333333,
              "#9c179e"
             ],
             [
              0.4444444444444444,
              "#bd3786"
             ],
             [
              0.5555555555555556,
              "#d8576b"
             ],
             [
              0.6666666666666666,
              "#ed7953"
             ],
             [
              0.7777777777777778,
              "#fb9f3a"
             ],
             [
              0.8888888888888888,
              "#fdca26"
             ],
             [
              1,
              "#f0f921"
             ]
            ],
            "type": "contour"
           }
          ],
          "contourcarpet": [
           {
            "colorbar": {
             "outlinewidth": 0,
             "ticks": ""
            },
            "type": "contourcarpet"
           }
          ],
          "heatmap": [
           {
            "colorbar": {
             "outlinewidth": 0,
             "ticks": ""
            },
            "colorscale": [
             [
              0,
              "#0d0887"
             ],
             [
              0.1111111111111111,
              "#46039f"
             ],
             [
              0.2222222222222222,
              "#7201a8"
             ],
             [
              0.3333333333333333,
              "#9c179e"
             ],
             [
              0.4444444444444444,
              "#bd3786"
             ],
             [
              0.5555555555555556,
              "#d8576b"
             ],
             [
              0.6666666666666666,
              "#ed7953"
             ],
             [
              0.7777777777777778,
              "#fb9f3a"
             ],
             [
              0.8888888888888888,
              "#fdca26"
             ],
             [
              1,
              "#f0f921"
             ]
            ],
            "type": "heatmap"
           }
          ],
          "heatmapgl": [
           {
            "colorbar": {
             "outlinewidth": 0,
             "ticks": ""
            },
            "colorscale": [
             [
              0,
              "#0d0887"
             ],
             [
              0.1111111111111111,
              "#46039f"
             ],
             [
              0.2222222222222222,
              "#7201a8"
             ],
             [
              0.3333333333333333,
              "#9c179e"
             ],
             [
              0.4444444444444444,
              "#bd3786"
             ],
             [
              0.5555555555555556,
              "#d8576b"
             ],
             [
              0.6666666666666666,
              "#ed7953"
             ],
             [
              0.7777777777777778,
              "#fb9f3a"
             ],
             [
              0.8888888888888888,
              "#fdca26"
             ],
             [
              1,
              "#f0f921"
             ]
            ],
            "type": "heatmapgl"
           }
          ],
          "histogram": [
           {
            "marker": {
             "pattern": {
              "fillmode": "overlay",
              "size": 10,
              "solidity": 0.2
             }
            },
            "type": "histogram"
           }
          ],
          "histogram2d": [
           {
            "colorbar": {
             "outlinewidth": 0,
             "ticks": ""
            },
            "colorscale": [
             [
              0,
              "#0d0887"
             ],
             [
              0.1111111111111111,
              "#46039f"
             ],
             [
              0.2222222222222222,
              "#7201a8"
             ],
             [
              0.3333333333333333,
              "#9c179e"
             ],
             [
              0.4444444444444444,
              "#bd3786"
             ],
             [
              0.5555555555555556,
              "#d8576b"
             ],
             [
              0.6666666666666666,
              "#ed7953"
             ],
             [
              0.7777777777777778,
              "#fb9f3a"
             ],
             [
              0.8888888888888888,
              "#fdca26"
             ],
             [
              1,
              "#f0f921"
             ]
            ],
            "type": "histogram2d"
           }
          ],
          "histogram2dcontour": [
           {
            "colorbar": {
             "outlinewidth": 0,
             "ticks": ""
            },
            "colorscale": [
             [
              0,
              "#0d0887"
             ],
             [
              0.1111111111111111,
              "#46039f"
             ],
             [
              0.2222222222222222,
              "#7201a8"
             ],
             [
              0.3333333333333333,
              "#9c179e"
             ],
             [
              0.4444444444444444,
              "#bd3786"
             ],
             [
              0.5555555555555556,
              "#d8576b"
             ],
             [
              0.6666666666666666,
              "#ed7953"
             ],
             [
              0.7777777777777778,
              "#fb9f3a"
             ],
             [
              0.8888888888888888,
              "#fdca26"
             ],
             [
              1,
              "#f0f921"
             ]
            ],
            "type": "histogram2dcontour"
           }
          ],
          "mesh3d": [
           {
            "colorbar": {
             "outlinewidth": 0,
             "ticks": ""
            },
            "type": "mesh3d"
           }
          ],
          "parcoords": [
           {
            "line": {
             "colorbar": {
              "outlinewidth": 0,
              "ticks": ""
             }
            },
            "type": "parcoords"
           }
          ],
          "pie": [
           {
            "automargin": true,
            "type": "pie"
           }
          ],
          "scatter": [
           {
            "fillpattern": {
             "fillmode": "overlay",
             "size": 10,
             "solidity": 0.2
            },
            "type": "scatter"
           }
          ],
          "scatter3d": [
           {
            "line": {
             "colorbar": {
              "outlinewidth": 0,
              "ticks": ""
             }
            },
            "marker": {
             "colorbar": {
              "outlinewidth": 0,
              "ticks": ""
             }
            },
            "type": "scatter3d"
           }
          ],
          "scattercarpet": [
           {
            "marker": {
             "colorbar": {
              "outlinewidth": 0,
              "ticks": ""
             }
            },
            "type": "scattercarpet"
           }
          ],
          "scattergeo": [
           {
            "marker": {
             "colorbar": {
              "outlinewidth": 0,
              "ticks": ""
             }
            },
            "type": "scattergeo"
           }
          ],
          "scattergl": [
           {
            "marker": {
             "colorbar": {
              "outlinewidth": 0,
              "ticks": ""
             }
            },
            "type": "scattergl"
           }
          ],
          "scattermapbox": [
           {
            "marker": {
             "colorbar": {
              "outlinewidth": 0,
              "ticks": ""
             }
            },
            "type": "scattermapbox"
           }
          ],
          "scatterpolar": [
           {
            "marker": {
             "colorbar": {
              "outlinewidth": 0,
              "ticks": ""
             }
            },
            "type": "scatterpolar"
           }
          ],
          "scatterpolargl": [
           {
            "marker": {
             "colorbar": {
              "outlinewidth": 0,
              "ticks": ""
             }
            },
            "type": "scatterpolargl"
           }
          ],
          "scatterternary": [
           {
            "marker": {
             "colorbar": {
              "outlinewidth": 0,
              "ticks": ""
             }
            },
            "type": "scatterternary"
           }
          ],
          "surface": [
           {
            "colorbar": {
             "outlinewidth": 0,
             "ticks": ""
            },
            "colorscale": [
             [
              0,
              "#0d0887"
             ],
             [
              0.1111111111111111,
              "#46039f"
             ],
             [
              0.2222222222222222,
              "#7201a8"
             ],
             [
              0.3333333333333333,
              "#9c179e"
             ],
             [
              0.4444444444444444,
              "#bd3786"
             ],
             [
              0.5555555555555556,
              "#d8576b"
             ],
             [
              0.6666666666666666,
              "#ed7953"
             ],
             [
              0.7777777777777778,
              "#fb9f3a"
             ],
             [
              0.8888888888888888,
              "#fdca26"
             ],
             [
              1,
              "#f0f921"
             ]
            ],
            "type": "surface"
           }
          ],
          "table": [
           {
            "cells": {
             "fill": {
              "color": "#EBF0F8"
             },
             "line": {
              "color": "white"
             }
            },
            "header": {
             "fill": {
              "color": "#C8D4E3"
             },
             "line": {
              "color": "white"
             }
            },
            "type": "table"
           }
          ]
         },
         "layout": {
          "annotationdefaults": {
           "arrowcolor": "#2a3f5f",
           "arrowhead": 0,
           "arrowwidth": 1
          },
          "autotypenumbers": "strict",
          "coloraxis": {
           "colorbar": {
            "outlinewidth": 0,
            "ticks": ""
           }
          },
          "colorscale": {
           "diverging": [
            [
             0,
             "#8e0152"
            ],
            [
             0.1,
             "#c51b7d"
            ],
            [
             0.2,
             "#de77ae"
            ],
            [
             0.3,
             "#f1b6da"
            ],
            [
             0.4,
             "#fde0ef"
            ],
            [
             0.5,
             "#f7f7f7"
            ],
            [
             0.6,
             "#e6f5d0"
            ],
            [
             0.7,
             "#b8e186"
            ],
            [
             0.8,
             "#7fbc41"
            ],
            [
             0.9,
             "#4d9221"
            ],
            [
             1,
             "#276419"
            ]
           ],
           "sequential": [
            [
             0,
             "#0d0887"
            ],
            [
             0.1111111111111111,
             "#46039f"
            ],
            [
             0.2222222222222222,
             "#7201a8"
            ],
            [
             0.3333333333333333,
             "#9c179e"
            ],
            [
             0.4444444444444444,
             "#bd3786"
            ],
            [
             0.5555555555555556,
             "#d8576b"
            ],
            [
             0.6666666666666666,
             "#ed7953"
            ],
            [
             0.7777777777777778,
             "#fb9f3a"
            ],
            [
             0.8888888888888888,
             "#fdca26"
            ],
            [
             1,
             "#f0f921"
            ]
           ],
           "sequentialminus": [
            [
             0,
             "#0d0887"
            ],
            [
             0.1111111111111111,
             "#46039f"
            ],
            [
             0.2222222222222222,
             "#7201a8"
            ],
            [
             0.3333333333333333,
             "#9c179e"
            ],
            [
             0.4444444444444444,
             "#bd3786"
            ],
            [
             0.5555555555555556,
             "#d8576b"
            ],
            [
             0.6666666666666666,
             "#ed7953"
            ],
            [
             0.7777777777777778,
             "#fb9f3a"
            ],
            [
             0.8888888888888888,
             "#fdca26"
            ],
            [
             1,
             "#f0f921"
            ]
           ]
          },
          "colorway": [
           "#636efa",
           "#EF553B",
           "#00cc96",
           "#ab63fa",
           "#FFA15A",
           "#19d3f3",
           "#FF6692",
           "#B6E880",
           "#FF97FF",
           "#FECB52"
          ],
          "font": {
           "color": "#2a3f5f"
          },
          "geo": {
           "bgcolor": "white",
           "lakecolor": "white",
           "landcolor": "#E5ECF6",
           "showlakes": true,
           "showland": true,
           "subunitcolor": "white"
          },
          "hoverlabel": {
           "align": "left"
          },
          "hovermode": "closest",
          "mapbox": {
           "style": "light"
          },
          "paper_bgcolor": "white",
          "plot_bgcolor": "#E5ECF6",
          "polar": {
           "angularaxis": {
            "gridcolor": "white",
            "linecolor": "white",
            "ticks": ""
           },
           "bgcolor": "#E5ECF6",
           "radialaxis": {
            "gridcolor": "white",
            "linecolor": "white",
            "ticks": ""
           }
          },
          "scene": {
           "xaxis": {
            "backgroundcolor": "#E5ECF6",
            "gridcolor": "white",
            "gridwidth": 2,
            "linecolor": "white",
            "showbackground": true,
            "ticks": "",
            "zerolinecolor": "white"
           },
           "yaxis": {
            "backgroundcolor": "#E5ECF6",
            "gridcolor": "white",
            "gridwidth": 2,
            "linecolor": "white",
            "showbackground": true,
            "ticks": "",
            "zerolinecolor": "white"
           },
           "zaxis": {
            "backgroundcolor": "#E5ECF6",
            "gridcolor": "white",
            "gridwidth": 2,
            "linecolor": "white",
            "showbackground": true,
            "ticks": "",
            "zerolinecolor": "white"
           }
          },
          "shapedefaults": {
           "line": {
            "color": "#2a3f5f"
           }
          },
          "ternary": {
           "aaxis": {
            "gridcolor": "white",
            "linecolor": "white",
            "ticks": ""
           },
           "baxis": {
            "gridcolor": "white",
            "linecolor": "white",
            "ticks": ""
           },
           "bgcolor": "#E5ECF6",
           "caxis": {
            "gridcolor": "white",
            "linecolor": "white",
            "ticks": ""
           }
          },
          "title": {
           "x": 0.05
          },
          "xaxis": {
           "automargin": true,
           "gridcolor": "white",
           "linecolor": "white",
           "ticks": "",
           "title": {
            "standoff": 15
           },
           "zerolinecolor": "white",
           "zerolinewidth": 2
          },
          "yaxis": {
           "automargin": true,
           "gridcolor": "white",
           "linecolor": "white",
           "ticks": "",
           "title": {
            "standoff": 15
           },
           "zerolinecolor": "white",
           "zerolinewidth": 2
          }
         }
        },
        "title": {
         "text": "Transaction Frequency vs Amount by Merchant Category"
        },
        "xaxis": {
         "anchor": "y",
         "domain": [
          0,
          1
         ],
         "title": {
          "text": "Transaction Frequency"
         }
        },
        "yaxis": {
         "anchor": "x",
         "domain": [
          0,
          1
         ],
         "title": {
          "text": "Transaction Amount"
         }
        }
       }
      }
     },
     "metadata": {},
     "output_type": "display_data"
    }
   ],
   "source": [
    "#plot5: relationship between transaction frequency and farud using scatter plot\n",
    "fig = px.scatter(fraud, x='Transaction_Frequency', y='fraud',\n",
    "                 title='Transaction Frequency vs Amount by Merchant Category',\n",
    "                  labels={'Transaction_Frequency': 'Transaction Frequency', 'fraud': 'Transaction Amount'},\n",
    "                  color='fraud' , color_discrete_map={0: 'blue', 1: 'red'})\n",
    "fig.show()\n"
   ]
  },
  {
   "cell_type": "code",
   "execution_count": 493,
   "id": "2974b211",
   "metadata": {},
   "outputs": [
    {
     "data": {
      "application/vnd.plotly.v1+json": {
       "config": {
        "plotlyServerURL": "https://plot.ly"
       },
       "data": [
        {
         "hovertemplate": "Days Since Last Transaction=%{x}<br>Fraud Amount=%{marker.color}<extra></extra>",
         "legendgroup": "",
         "marker": {
          "color": [
           1,
           1,
           1,
           1,
           1,
           1,
           1,
           1,
           1,
           1,
           1,
           1,
           1,
           1,
           1,
           1,
           1,
           1,
           1,
           1,
           1,
           1,
           1,
           1,
           1,
           1,
           1,
           1,
           1,
           1,
           1,
           1,
           1,
           1,
           1,
           1,
           1,
           1,
           1,
           1,
           1,
           1,
           1,
           1,
           1,
           1,
           1,
           1,
           1,
           1,
           1,
           1,
           1,
           1,
           1,
           1,
           1,
           1,
           1,
           1,
           1,
           1,
           1,
           1,
           1,
           1,
           1,
           1,
           1,
           1,
           1,
           1,
           1,
           1,
           1,
           1,
           1,
           1,
           1,
           1,
           1,
           1,
           1,
           1,
           1,
           1,
           1,
           1,
           1,
           1,
           1,
           1,
           1,
           1,
           1,
           1,
           1,
           1,
           1,
           1,
           1,
           1,
           1,
           1,
           1,
           1,
           1,
           1,
           1,
           1,
           1,
           1,
           1,
           1,
           1,
           1,
           1,
           1,
           1,
           1,
           1,
           1,
           1,
           1,
           1,
           1,
           1,
           1,
           1,
           1,
           1,
           1,
           1,
           1,
           1,
           1,
           1,
           1,
           1,
           1,
           1,
           1,
           1,
           1,
           1,
           1,
           1,
           1,
           1,
           1,
           1,
           1,
           1,
           1,
           1
          ],
          "coloraxis": "coloraxis",
          "symbol": "circle"
         },
         "mode": "markers",
         "name": "",
         "orientation": "v",
         "showlegend": false,
         "type": "scatter",
         "x": [
          5,
          20,
          22,
          28,
          25,
          7,
          14,
          11,
          5,
          18,
          6,
          6,
          5,
          11,
          15,
          24,
          13,
          14,
          7,
          23,
          2,
          17,
          23,
          3,
          29,
          7,
          28,
          16,
          7,
          7,
          27,
          9,
          18,
          26,
          7,
          14,
          8,
          17,
          6,
          11,
          11,
          4,
          6,
          27,
          27,
          9,
          26,
          14,
          2,
          21,
          11,
          4,
          28,
          20,
          14,
          8,
          13,
          9,
          29,
          9,
          16,
          26,
          9,
          5,
          24,
          24,
          21,
          5,
          24,
          25,
          14,
          24,
          2,
          21,
          17,
          11,
          26,
          20,
          29,
          24,
          17,
          27,
          22,
          7,
          18,
          9,
          19,
          3,
          7,
          19,
          21,
          19,
          20,
          29,
          19,
          13,
          26,
          19,
          10,
          17,
          25,
          7,
          29,
          19,
          19,
          17,
          10,
          4,
          26,
          8,
          23,
          20,
          18,
          15,
          28,
          22,
          6,
          14,
          20,
          18,
          18,
          28,
          29,
          9,
          24,
          29,
          19,
          23,
          7,
          1,
          7,
          25,
          22,
          25,
          6,
          11,
          21,
          22,
          21,
          8,
          18,
          5,
          3,
          22,
          17,
          27,
          21,
          14,
          10,
          18,
          10,
          17,
          6,
          13,
          22
         ],
         "xaxis": "x",
         "y": [
          1,
          1,
          1,
          1,
          1,
          1,
          1,
          1,
          1,
          1,
          1,
          1,
          1,
          1,
          1,
          1,
          1,
          1,
          1,
          1,
          1,
          1,
          1,
          1,
          1,
          1,
          1,
          1,
          1,
          1,
          1,
          1,
          1,
          1,
          1,
          1,
          1,
          1,
          1,
          1,
          1,
          1,
          1,
          1,
          1,
          1,
          1,
          1,
          1,
          1,
          1,
          1,
          1,
          1,
          1,
          1,
          1,
          1,
          1,
          1,
          1,
          1,
          1,
          1,
          1,
          1,
          1,
          1,
          1,
          1,
          1,
          1,
          1,
          1,
          1,
          1,
          1,
          1,
          1,
          1,
          1,
          1,
          1,
          1,
          1,
          1,
          1,
          1,
          1,
          1,
          1,
          1,
          1,
          1,
          1,
          1,
          1,
          1,
          1,
          1,
          1,
          1,
          1,
          1,
          1,
          1,
          1,
          1,
          1,
          1,
          1,
          1,
          1,
          1,
          1,
          1,
          1,
          1,
          1,
          1,
          1,
          1,
          1,
          1,
          1,
          1,
          1,
          1,
          1,
          1,
          1,
          1,
          1,
          1,
          1,
          1,
          1,
          1,
          1,
          1,
          1,
          1,
          1,
          1,
          1,
          1,
          1,
          1,
          1,
          1,
          1,
          1,
          1,
          1,
          1
         ],
         "yaxis": "y"
        }
       ],
       "layout": {
        "coloraxis": {
         "colorbar": {
          "title": {
           "text": "Fraud Amount"
          }
         },
         "colorscale": [
          [
           0,
           "#0d0887"
          ],
          [
           0.1111111111111111,
           "#46039f"
          ],
          [
           0.2222222222222222,
           "#7201a8"
          ],
          [
           0.3333333333333333,
           "#9c179e"
          ],
          [
           0.4444444444444444,
           "#bd3786"
          ],
          [
           0.5555555555555556,
           "#d8576b"
          ],
          [
           0.6666666666666666,
           "#ed7953"
          ],
          [
           0.7777777777777778,
           "#fb9f3a"
          ],
          [
           0.8888888888888888,
           "#fdca26"
          ],
          [
           1,
           "#f0f921"
          ]
         ]
        },
        "legend": {
         "tracegroupgap": 0
        },
        "template": {
         "data": {
          "bar": [
           {
            "error_x": {
             "color": "#2a3f5f"
            },
            "error_y": {
             "color": "#2a3f5f"
            },
            "marker": {
             "line": {
              "color": "#E5ECF6",
              "width": 0.5
             },
             "pattern": {
              "fillmode": "overlay",
              "size": 10,
              "solidity": 0.2
             }
            },
            "type": "bar"
           }
          ],
          "barpolar": [
           {
            "marker": {
             "line": {
              "color": "#E5ECF6",
              "width": 0.5
             },
             "pattern": {
              "fillmode": "overlay",
              "size": 10,
              "solidity": 0.2
             }
            },
            "type": "barpolar"
           }
          ],
          "carpet": [
           {
            "aaxis": {
             "endlinecolor": "#2a3f5f",
             "gridcolor": "white",
             "linecolor": "white",
             "minorgridcolor": "white",
             "startlinecolor": "#2a3f5f"
            },
            "baxis": {
             "endlinecolor": "#2a3f5f",
             "gridcolor": "white",
             "linecolor": "white",
             "minorgridcolor": "white",
             "startlinecolor": "#2a3f5f"
            },
            "type": "carpet"
           }
          ],
          "choropleth": [
           {
            "colorbar": {
             "outlinewidth": 0,
             "ticks": ""
            },
            "type": "choropleth"
           }
          ],
          "contour": [
           {
            "colorbar": {
             "outlinewidth": 0,
             "ticks": ""
            },
            "colorscale": [
             [
              0,
              "#0d0887"
             ],
             [
              0.1111111111111111,
              "#46039f"
             ],
             [
              0.2222222222222222,
              "#7201a8"
             ],
             [
              0.3333333333333333,
              "#9c179e"
             ],
             [
              0.4444444444444444,
              "#bd3786"
             ],
             [
              0.5555555555555556,
              "#d8576b"
             ],
             [
              0.6666666666666666,
              "#ed7953"
             ],
             [
              0.7777777777777778,
              "#fb9f3a"
             ],
             [
              0.8888888888888888,
              "#fdca26"
             ],
             [
              1,
              "#f0f921"
             ]
            ],
            "type": "contour"
           }
          ],
          "contourcarpet": [
           {
            "colorbar": {
             "outlinewidth": 0,
             "ticks": ""
            },
            "type": "contourcarpet"
           }
          ],
          "heatmap": [
           {
            "colorbar": {
             "outlinewidth": 0,
             "ticks": ""
            },
            "colorscale": [
             [
              0,
              "#0d0887"
             ],
             [
              0.1111111111111111,
              "#46039f"
             ],
             [
              0.2222222222222222,
              "#7201a8"
             ],
             [
              0.3333333333333333,
              "#9c179e"
             ],
             [
              0.4444444444444444,
              "#bd3786"
             ],
             [
              0.5555555555555556,
              "#d8576b"
             ],
             [
              0.6666666666666666,
              "#ed7953"
             ],
             [
              0.7777777777777778,
              "#fb9f3a"
             ],
             [
              0.8888888888888888,
              "#fdca26"
             ],
             [
              1,
              "#f0f921"
             ]
            ],
            "type": "heatmap"
           }
          ],
          "heatmapgl": [
           {
            "colorbar": {
             "outlinewidth": 0,
             "ticks": ""
            },
            "colorscale": [
             [
              0,
              "#0d0887"
             ],
             [
              0.1111111111111111,
              "#46039f"
             ],
             [
              0.2222222222222222,
              "#7201a8"
             ],
             [
              0.3333333333333333,
              "#9c179e"
             ],
             [
              0.4444444444444444,
              "#bd3786"
             ],
             [
              0.5555555555555556,
              "#d8576b"
             ],
             [
              0.6666666666666666,
              "#ed7953"
             ],
             [
              0.7777777777777778,
              "#fb9f3a"
             ],
             [
              0.8888888888888888,
              "#fdca26"
             ],
             [
              1,
              "#f0f921"
             ]
            ],
            "type": "heatmapgl"
           }
          ],
          "histogram": [
           {
            "marker": {
             "pattern": {
              "fillmode": "overlay",
              "size": 10,
              "solidity": 0.2
             }
            },
            "type": "histogram"
           }
          ],
          "histogram2d": [
           {
            "colorbar": {
             "outlinewidth": 0,
             "ticks": ""
            },
            "colorscale": [
             [
              0,
              "#0d0887"
             ],
             [
              0.1111111111111111,
              "#46039f"
             ],
             [
              0.2222222222222222,
              "#7201a8"
             ],
             [
              0.3333333333333333,
              "#9c179e"
             ],
             [
              0.4444444444444444,
              "#bd3786"
             ],
             [
              0.5555555555555556,
              "#d8576b"
             ],
             [
              0.6666666666666666,
              "#ed7953"
             ],
             [
              0.7777777777777778,
              "#fb9f3a"
             ],
             [
              0.8888888888888888,
              "#fdca26"
             ],
             [
              1,
              "#f0f921"
             ]
            ],
            "type": "histogram2d"
           }
          ],
          "histogram2dcontour": [
           {
            "colorbar": {
             "outlinewidth": 0,
             "ticks": ""
            },
            "colorscale": [
             [
              0,
              "#0d0887"
             ],
             [
              0.1111111111111111,
              "#46039f"
             ],
             [
              0.2222222222222222,
              "#7201a8"
             ],
             [
              0.3333333333333333,
              "#9c179e"
             ],
             [
              0.4444444444444444,
              "#bd3786"
             ],
             [
              0.5555555555555556,
              "#d8576b"
             ],
             [
              0.6666666666666666,
              "#ed7953"
             ],
             [
              0.7777777777777778,
              "#fb9f3a"
             ],
             [
              0.8888888888888888,
              "#fdca26"
             ],
             [
              1,
              "#f0f921"
             ]
            ],
            "type": "histogram2dcontour"
           }
          ],
          "mesh3d": [
           {
            "colorbar": {
             "outlinewidth": 0,
             "ticks": ""
            },
            "type": "mesh3d"
           }
          ],
          "parcoords": [
           {
            "line": {
             "colorbar": {
              "outlinewidth": 0,
              "ticks": ""
             }
            },
            "type": "parcoords"
           }
          ],
          "pie": [
           {
            "automargin": true,
            "type": "pie"
           }
          ],
          "scatter": [
           {
            "fillpattern": {
             "fillmode": "overlay",
             "size": 10,
             "solidity": 0.2
            },
            "type": "scatter"
           }
          ],
          "scatter3d": [
           {
            "line": {
             "colorbar": {
              "outlinewidth": 0,
              "ticks": ""
             }
            },
            "marker": {
             "colorbar": {
              "outlinewidth": 0,
              "ticks": ""
             }
            },
            "type": "scatter3d"
           }
          ],
          "scattercarpet": [
           {
            "marker": {
             "colorbar": {
              "outlinewidth": 0,
              "ticks": ""
             }
            },
            "type": "scattercarpet"
           }
          ],
          "scattergeo": [
           {
            "marker": {
             "colorbar": {
              "outlinewidth": 0,
              "ticks": ""
             }
            },
            "type": "scattergeo"
           }
          ],
          "scattergl": [
           {
            "marker": {
             "colorbar": {
              "outlinewidth": 0,
              "ticks": ""
             }
            },
            "type": "scattergl"
           }
          ],
          "scattermapbox": [
           {
            "marker": {
             "colorbar": {
              "outlinewidth": 0,
              "ticks": ""
             }
            },
            "type": "scattermapbox"
           }
          ],
          "scatterpolar": [
           {
            "marker": {
             "colorbar": {
              "outlinewidth": 0,
              "ticks": ""
             }
            },
            "type": "scatterpolar"
           }
          ],
          "scatterpolargl": [
           {
            "marker": {
             "colorbar": {
              "outlinewidth": 0,
              "ticks": ""
             }
            },
            "type": "scatterpolargl"
           }
          ],
          "scatterternary": [
           {
            "marker": {
             "colorbar": {
              "outlinewidth": 0,
              "ticks": ""
             }
            },
            "type": "scatterternary"
           }
          ],
          "surface": [
           {
            "colorbar": {
             "outlinewidth": 0,
             "ticks": ""
            },
            "colorscale": [
             [
              0,
              "#0d0887"
             ],
             [
              0.1111111111111111,
              "#46039f"
             ],
             [
              0.2222222222222222,
              "#7201a8"
             ],
             [
              0.3333333333333333,
              "#9c179e"
             ],
             [
              0.4444444444444444,
              "#bd3786"
             ],
             [
              0.5555555555555556,
              "#d8576b"
             ],
             [
              0.6666666666666666,
              "#ed7953"
             ],
             [
              0.7777777777777778,
              "#fb9f3a"
             ],
             [
              0.8888888888888888,
              "#fdca26"
             ],
             [
              1,
              "#f0f921"
             ]
            ],
            "type": "surface"
           }
          ],
          "table": [
           {
            "cells": {
             "fill": {
              "color": "#EBF0F8"
             },
             "line": {
              "color": "white"
             }
            },
            "header": {
             "fill": {
              "color": "#C8D4E3"
             },
             "line": {
              "color": "white"
             }
            },
            "type": "table"
           }
          ]
         },
         "layout": {
          "annotationdefaults": {
           "arrowcolor": "#2a3f5f",
           "arrowhead": 0,
           "arrowwidth": 1
          },
          "autotypenumbers": "strict",
          "coloraxis": {
           "colorbar": {
            "outlinewidth": 0,
            "ticks": ""
           }
          },
          "colorscale": {
           "diverging": [
            [
             0,
             "#8e0152"
            ],
            [
             0.1,
             "#c51b7d"
            ],
            [
             0.2,
             "#de77ae"
            ],
            [
             0.3,
             "#f1b6da"
            ],
            [
             0.4,
             "#fde0ef"
            ],
            [
             0.5,
             "#f7f7f7"
            ],
            [
             0.6,
             "#e6f5d0"
            ],
            [
             0.7,
             "#b8e186"
            ],
            [
             0.8,
             "#7fbc41"
            ],
            [
             0.9,
             "#4d9221"
            ],
            [
             1,
             "#276419"
            ]
           ],
           "sequential": [
            [
             0,
             "#0d0887"
            ],
            [
             0.1111111111111111,
             "#46039f"
            ],
            [
             0.2222222222222222,
             "#7201a8"
            ],
            [
             0.3333333333333333,
             "#9c179e"
            ],
            [
             0.4444444444444444,
             "#bd3786"
            ],
            [
             0.5555555555555556,
             "#d8576b"
            ],
            [
             0.6666666666666666,
             "#ed7953"
            ],
            [
             0.7777777777777778,
             "#fb9f3a"
            ],
            [
             0.8888888888888888,
             "#fdca26"
            ],
            [
             1,
             "#f0f921"
            ]
           ],
           "sequentialminus": [
            [
             0,
             "#0d0887"
            ],
            [
             0.1111111111111111,
             "#46039f"
            ],
            [
             0.2222222222222222,
             "#7201a8"
            ],
            [
             0.3333333333333333,
             "#9c179e"
            ],
            [
             0.4444444444444444,
             "#bd3786"
            ],
            [
             0.5555555555555556,
             "#d8576b"
            ],
            [
             0.6666666666666666,
             "#ed7953"
            ],
            [
             0.7777777777777778,
             "#fb9f3a"
            ],
            [
             0.8888888888888888,
             "#fdca26"
            ],
            [
             1,
             "#f0f921"
            ]
           ]
          },
          "colorway": [
           "#636efa",
           "#EF553B",
           "#00cc96",
           "#ab63fa",
           "#FFA15A",
           "#19d3f3",
           "#FF6692",
           "#B6E880",
           "#FF97FF",
           "#FECB52"
          ],
          "font": {
           "color": "#2a3f5f"
          },
          "geo": {
           "bgcolor": "white",
           "lakecolor": "white",
           "landcolor": "#E5ECF6",
           "showlakes": true,
           "showland": true,
           "subunitcolor": "white"
          },
          "hoverlabel": {
           "align": "left"
          },
          "hovermode": "closest",
          "mapbox": {
           "style": "light"
          },
          "paper_bgcolor": "white",
          "plot_bgcolor": "#E5ECF6",
          "polar": {
           "angularaxis": {
            "gridcolor": "white",
            "linecolor": "white",
            "ticks": ""
           },
           "bgcolor": "#E5ECF6",
           "radialaxis": {
            "gridcolor": "white",
            "linecolor": "white",
            "ticks": ""
           }
          },
          "scene": {
           "xaxis": {
            "backgroundcolor": "#E5ECF6",
            "gridcolor": "white",
            "gridwidth": 2,
            "linecolor": "white",
            "showbackground": true,
            "ticks": "",
            "zerolinecolor": "white"
           },
           "yaxis": {
            "backgroundcolor": "#E5ECF6",
            "gridcolor": "white",
            "gridwidth": 2,
            "linecolor": "white",
            "showbackground": true,
            "ticks": "",
            "zerolinecolor": "white"
           },
           "zaxis": {
            "backgroundcolor": "#E5ECF6",
            "gridcolor": "white",
            "gridwidth": 2,
            "linecolor": "white",
            "showbackground": true,
            "ticks": "",
            "zerolinecolor": "white"
           }
          },
          "shapedefaults": {
           "line": {
            "color": "#2a3f5f"
           }
          },
          "ternary": {
           "aaxis": {
            "gridcolor": "white",
            "linecolor": "white",
            "ticks": ""
           },
           "baxis": {
            "gridcolor": "white",
            "linecolor": "white",
            "ticks": ""
           },
           "bgcolor": "#E5ECF6",
           "caxis": {
            "gridcolor": "white",
            "linecolor": "white",
            "ticks": ""
           }
          },
          "title": {
           "x": 0.05
          },
          "xaxis": {
           "automargin": true,
           "gridcolor": "white",
           "linecolor": "white",
           "ticks": "",
           "title": {
            "standoff": 15
           },
           "zerolinecolor": "white",
           "zerolinewidth": 2
          },
          "yaxis": {
           "automargin": true,
           "gridcolor": "white",
           "linecolor": "white",
           "ticks": "",
           "title": {
            "standoff": 15
           },
           "zerolinecolor": "white",
           "zerolinewidth": 2
          }
         }
        },
        "title": {
         "text": "Days Since Last Transaction vs Fraud"
        },
        "xaxis": {
         "anchor": "y",
         "domain": [
          0,
          1
         ],
         "title": {
          "text": "Days Since Last Transaction"
         }
        },
        "yaxis": {
         "anchor": "x",
         "domain": [
          0,
          1
         ],
         "title": {
          "text": "Fraud Amount"
         }
        }
       }
      }
     },
     "metadata": {},
     "output_type": "display_data"
    }
   ],
   "source": [
    "#plot 6: relationship between days since last transaction and fraud using scatter plot\n",
    "fig = px.scatter(fraud, x='Days_Since_Last_Transaction', y='fraud',\n",
    "                 title='Days Since Last Transaction vs Fraud',\n",
    "                 labels={'Days_Since_Last_Transaction': 'Days Since Last Transaction', 'fraud': 'Fraud Amount'},\n",
    "                 color='fraud', color_discrete_map={0: 'blue', 1: 'red'}\n",
    "                )\n",
    "fig.show()"
   ]
  },
  {
   "cell_type": "code",
   "execution_count": 497,
   "id": "4c239b2a",
   "metadata": {},
   "outputs": [
    {
     "data": {
      "application/vnd.plotly.v1+json": {
       "config": {
        "plotlyServerURL": "https://plot.ly"
       },
       "data": [
        {
         "alignmentgroup": "True",
         "hovertemplate": "color=Chhattisgarh<br>Transaction State=%{x}<br>Fraud Count=%{y}<extra></extra>",
         "legendgroup": "Chhattisgarh",
         "marker": {
          "color": "rgb(102, 197, 204)",
          "pattern": {
           "shape": ""
          }
         },
         "name": "Chhattisgarh",
         "offsetgroup": "Chhattisgarh",
         "orientation": "v",
         "showlegend": true,
         "textposition": "auto",
         "type": "bar",
         "x": [
          "Chhattisgarh"
         ],
         "xaxis": "x",
         "y": [
          10
         ],
         "yaxis": "y"
        },
        {
         "alignmentgroup": "True",
         "hovertemplate": "color=Kerala<br>Transaction State=%{x}<br>Fraud Count=%{y}<extra></extra>",
         "legendgroup": "Kerala",
         "marker": {
          "color": "rgb(246, 207, 113)",
          "pattern": {
           "shape": ""
          }
         },
         "name": "Kerala",
         "offsetgroup": "Kerala",
         "orientation": "v",
         "showlegend": true,
         "textposition": "auto",
         "type": "bar",
         "x": [
          "Kerala"
         ],
         "xaxis": "x",
         "y": [
          10
         ],
         "yaxis": "y"
        },
        {
         "alignmentgroup": "True",
         "hovertemplate": "color=Manipur<br>Transaction State=%{x}<br>Fraud Count=%{y}<extra></extra>",
         "legendgroup": "Manipur",
         "marker": {
          "color": "rgb(248, 156, 116)",
          "pattern": {
           "shape": ""
          }
         },
         "name": "Manipur",
         "offsetgroup": "Manipur",
         "orientation": "v",
         "showlegend": true,
         "textposition": "auto",
         "type": "bar",
         "x": [
          "Manipur"
         ],
         "xaxis": "x",
         "y": [
          9
         ],
         "yaxis": "y"
        },
        {
         "alignmentgroup": "True",
         "hovertemplate": "color=Mizoram<br>Transaction State=%{x}<br>Fraud Count=%{y}<extra></extra>",
         "legendgroup": "Mizoram",
         "marker": {
          "color": "rgb(220, 176, 242)",
          "pattern": {
           "shape": ""
          }
         },
         "name": "Mizoram",
         "offsetgroup": "Mizoram",
         "orientation": "v",
         "showlegend": true,
         "textposition": "auto",
         "type": "bar",
         "x": [
          "Mizoram"
         ],
         "xaxis": "x",
         "y": [
          8
         ],
         "yaxis": "y"
        },
        {
         "alignmentgroup": "True",
         "hovertemplate": "color=Bihar<br>Transaction State=%{x}<br>Fraud Count=%{y}<extra></extra>",
         "legendgroup": "Bihar",
         "marker": {
          "color": "rgb(135, 197, 95)",
          "pattern": {
           "shape": ""
          }
         },
         "name": "Bihar",
         "offsetgroup": "Bihar",
         "orientation": "v",
         "showlegend": true,
         "textposition": "auto",
         "type": "bar",
         "x": [
          "Bihar"
         ],
         "xaxis": "x",
         "y": [
          8
         ],
         "yaxis": "y"
        },
        {
         "alignmentgroup": "True",
         "hovertemplate": "color=Andhra Pradesh<br>Transaction State=%{x}<br>Fraud Count=%{y}<extra></extra>",
         "legendgroup": "Andhra Pradesh",
         "marker": {
          "color": "rgb(158, 185, 243)",
          "pattern": {
           "shape": ""
          }
         },
         "name": "Andhra Pradesh",
         "offsetgroup": "Andhra Pradesh",
         "orientation": "v",
         "showlegend": true,
         "textposition": "auto",
         "type": "bar",
         "x": [
          "Andhra Pradesh"
         ],
         "xaxis": "x",
         "y": [
          7
         ],
         "yaxis": "y"
        },
        {
         "alignmentgroup": "True",
         "hovertemplate": "color=Assam<br>Transaction State=%{x}<br>Fraud Count=%{y}<extra></extra>",
         "legendgroup": "Assam",
         "marker": {
          "color": "rgb(254, 136, 177)",
          "pattern": {
           "shape": ""
          }
         },
         "name": "Assam",
         "offsetgroup": "Assam",
         "orientation": "v",
         "showlegend": true,
         "textposition": "auto",
         "type": "bar",
         "x": [
          "Assam"
         ],
         "xaxis": "x",
         "y": [
          6
         ],
         "yaxis": "y"
        },
        {
         "alignmentgroup": "True",
         "hovertemplate": "color=Tripura<br>Transaction State=%{x}<br>Fraud Count=%{y}<extra></extra>",
         "legendgroup": "Tripura",
         "marker": {
          "color": "rgb(201, 219, 116)",
          "pattern": {
           "shape": ""
          }
         },
         "name": "Tripura",
         "offsetgroup": "Tripura",
         "orientation": "v",
         "showlegend": true,
         "textposition": "auto",
         "type": "bar",
         "x": [
          "Tripura"
         ],
         "xaxis": "x",
         "y": [
          6
         ],
         "yaxis": "y"
        },
        {
         "alignmentgroup": "True",
         "hovertemplate": "color=Arunachal Pradesh<br>Transaction State=%{x}<br>Fraud Count=%{y}<extra></extra>",
         "legendgroup": "Arunachal Pradesh",
         "marker": {
          "color": "rgb(139, 224, 164)",
          "pattern": {
           "shape": ""
          }
         },
         "name": "Arunachal Pradesh",
         "offsetgroup": "Arunachal Pradesh",
         "orientation": "v",
         "showlegend": true,
         "textposition": "auto",
         "type": "bar",
         "x": [
          "Arunachal Pradesh"
         ],
         "xaxis": "x",
         "y": [
          6
         ],
         "yaxis": "y"
        },
        {
         "alignmentgroup": "True",
         "hovertemplate": "color=Odisha<br>Transaction State=%{x}<br>Fraud Count=%{y}<extra></extra>",
         "legendgroup": "Odisha",
         "marker": {
          "color": "rgb(180, 151, 231)",
          "pattern": {
           "shape": ""
          }
         },
         "name": "Odisha",
         "offsetgroup": "Odisha",
         "orientation": "v",
         "showlegend": true,
         "textposition": "auto",
         "type": "bar",
         "x": [
          "Odisha"
         ],
         "xaxis": "x",
         "y": [
          6
         ],
         "yaxis": "y"
        },
        {
         "alignmentgroup": "True",
         "hovertemplate": "color=Tamil Nadu<br>Transaction State=%{x}<br>Fraud Count=%{y}<extra></extra>",
         "legendgroup": "Tamil Nadu",
         "marker": {
          "color": "rgb(179, 179, 179)",
          "pattern": {
           "shape": ""
          }
         },
         "name": "Tamil Nadu",
         "offsetgroup": "Tamil Nadu",
         "orientation": "v",
         "showlegend": true,
         "textposition": "auto",
         "type": "bar",
         "x": [
          "Tamil Nadu"
         ],
         "xaxis": "x",
         "y": [
          6
         ],
         "yaxis": "y"
        },
        {
         "alignmentgroup": "True",
         "hovertemplate": "color=Maharashtra<br>Transaction State=%{x}<br>Fraud Count=%{y}<extra></extra>",
         "legendgroup": "Maharashtra",
         "marker": {
          "color": "rgb(102, 197, 204)",
          "pattern": {
           "shape": ""
          }
         },
         "name": "Maharashtra",
         "offsetgroup": "Maharashtra",
         "orientation": "v",
         "showlegend": true,
         "textposition": "auto",
         "type": "bar",
         "x": [
          "Maharashtra"
         ],
         "xaxis": "x",
         "y": [
          6
         ],
         "yaxis": "y"
        },
        {
         "alignmentgroup": "True",
         "hovertemplate": "color=Himachal Pradesh<br>Transaction State=%{x}<br>Fraud Count=%{y}<extra></extra>",
         "legendgroup": "Himachal Pradesh",
         "marker": {
          "color": "rgb(246, 207, 113)",
          "pattern": {
           "shape": ""
          }
         },
         "name": "Himachal Pradesh",
         "offsetgroup": "Himachal Pradesh",
         "orientation": "v",
         "showlegend": true,
         "textposition": "auto",
         "type": "bar",
         "x": [
          "Himachal Pradesh"
         ],
         "xaxis": "x",
         "y": [
          6
         ],
         "yaxis": "y"
        },
        {
         "alignmentgroup": "True",
         "hovertemplate": "color=Meghalaya<br>Transaction State=%{x}<br>Fraud Count=%{y}<extra></extra>",
         "legendgroup": "Meghalaya",
         "marker": {
          "color": "rgb(248, 156, 116)",
          "pattern": {
           "shape": ""
          }
         },
         "name": "Meghalaya",
         "offsetgroup": "Meghalaya",
         "orientation": "v",
         "showlegend": true,
         "textposition": "auto",
         "type": "bar",
         "x": [
          "Meghalaya"
         ],
         "xaxis": "x",
         "y": [
          5
         ],
         "yaxis": "y"
        },
        {
         "alignmentgroup": "True",
         "hovertemplate": "color=Punjab<br>Transaction State=%{x}<br>Fraud Count=%{y}<extra></extra>",
         "legendgroup": "Punjab",
         "marker": {
          "color": "rgb(220, 176, 242)",
          "pattern": {
           "shape": ""
          }
         },
         "name": "Punjab",
         "offsetgroup": "Punjab",
         "orientation": "v",
         "showlegend": true,
         "textposition": "auto",
         "type": "bar",
         "x": [
          "Punjab"
         ],
         "xaxis": "x",
         "y": [
          5
         ],
         "yaxis": "y"
        },
        {
         "alignmentgroup": "True",
         "hovertemplate": "color=Uttar Pradesh<br>Transaction State=%{x}<br>Fraud Count=%{y}<extra></extra>",
         "legendgroup": "Uttar Pradesh",
         "marker": {
          "color": "rgb(135, 197, 95)",
          "pattern": {
           "shape": ""
          }
         },
         "name": "Uttar Pradesh",
         "offsetgroup": "Uttar Pradesh",
         "orientation": "v",
         "showlegend": true,
         "textposition": "auto",
         "type": "bar",
         "x": [
          "Uttar Pradesh"
         ],
         "xaxis": "x",
         "y": [
          5
         ],
         "yaxis": "y"
        },
        {
         "alignmentgroup": "True",
         "hovertemplate": "color=Sikkim<br>Transaction State=%{x}<br>Fraud Count=%{y}<extra></extra>",
         "legendgroup": "Sikkim",
         "marker": {
          "color": "rgb(158, 185, 243)",
          "pattern": {
           "shape": ""
          }
         },
         "name": "Sikkim",
         "offsetgroup": "Sikkim",
         "orientation": "v",
         "showlegend": true,
         "textposition": "auto",
         "type": "bar",
         "x": [
          "Sikkim"
         ],
         "xaxis": "x",
         "y": [
          5
         ],
         "yaxis": "y"
        },
        {
         "alignmentgroup": "True",
         "hovertemplate": "color=Karnataka<br>Transaction State=%{x}<br>Fraud Count=%{y}<extra></extra>",
         "legendgroup": "Karnataka",
         "marker": {
          "color": "rgb(254, 136, 177)",
          "pattern": {
           "shape": ""
          }
         },
         "name": "Karnataka",
         "offsetgroup": "Karnataka",
         "orientation": "v",
         "showlegend": true,
         "textposition": "auto",
         "type": "bar",
         "x": [
          "Karnataka"
         ],
         "xaxis": "x",
         "y": [
          5
         ],
         "yaxis": "y"
        },
        {
         "alignmentgroup": "True",
         "hovertemplate": "color=Gujarat<br>Transaction State=%{x}<br>Fraud Count=%{y}<extra></extra>",
         "legendgroup": "Gujarat",
         "marker": {
          "color": "rgb(201, 219, 116)",
          "pattern": {
           "shape": ""
          }
         },
         "name": "Gujarat",
         "offsetgroup": "Gujarat",
         "orientation": "v",
         "showlegend": true,
         "textposition": "auto",
         "type": "bar",
         "x": [
          "Gujarat"
         ],
         "xaxis": "x",
         "y": [
          5
         ],
         "yaxis": "y"
        },
        {
         "alignmentgroup": "True",
         "hovertemplate": "color=Rajasthan<br>Transaction State=%{x}<br>Fraud Count=%{y}<extra></extra>",
         "legendgroup": "Rajasthan",
         "marker": {
          "color": "rgb(139, 224, 164)",
          "pattern": {
           "shape": ""
          }
         },
         "name": "Rajasthan",
         "offsetgroup": "Rajasthan",
         "orientation": "v",
         "showlegend": true,
         "textposition": "auto",
         "type": "bar",
         "x": [
          "Rajasthan"
         ],
         "xaxis": "x",
         "y": [
          5
         ],
         "yaxis": "y"
        },
        {
         "alignmentgroup": "True",
         "hovertemplate": "color=Goa<br>Transaction State=%{x}<br>Fraud Count=%{y}<extra></extra>",
         "legendgroup": "Goa",
         "marker": {
          "color": "rgb(180, 151, 231)",
          "pattern": {
           "shape": ""
          }
         },
         "name": "Goa",
         "offsetgroup": "Goa",
         "orientation": "v",
         "showlegend": true,
         "textposition": "auto",
         "type": "bar",
         "x": [
          "Goa"
         ],
         "xaxis": "x",
         "y": [
          5
         ],
         "yaxis": "y"
        },
        {
         "alignmentgroup": "True",
         "hovertemplate": "color=Uttarakhand<br>Transaction State=%{x}<br>Fraud Count=%{y}<extra></extra>",
         "legendgroup": "Uttarakhand",
         "marker": {
          "color": "rgb(179, 179, 179)",
          "pattern": {
           "shape": ""
          }
         },
         "name": "Uttarakhand",
         "offsetgroup": "Uttarakhand",
         "orientation": "v",
         "showlegend": true,
         "textposition": "auto",
         "type": "bar",
         "x": [
          "Uttarakhand"
         ],
         "xaxis": "x",
         "y": [
          4
         ],
         "yaxis": "y"
        },
        {
         "alignmentgroup": "True",
         "hovertemplate": "color=Jharkhand<br>Transaction State=%{x}<br>Fraud Count=%{y}<extra></extra>",
         "legendgroup": "Jharkhand",
         "marker": {
          "color": "rgb(102, 197, 204)",
          "pattern": {
           "shape": ""
          }
         },
         "name": "Jharkhand",
         "offsetgroup": "Jharkhand",
         "orientation": "v",
         "showlegend": true,
         "textposition": "auto",
         "type": "bar",
         "x": [
          "Jharkhand"
         ],
         "xaxis": "x",
         "y": [
          4
         ],
         "yaxis": "y"
        },
        {
         "alignmentgroup": "True",
         "hovertemplate": "color=West Bengal<br>Transaction State=%{x}<br>Fraud Count=%{y}<extra></extra>",
         "legendgroup": "West Bengal",
         "marker": {
          "color": "rgb(246, 207, 113)",
          "pattern": {
           "shape": ""
          }
         },
         "name": "West Bengal",
         "offsetgroup": "West Bengal",
         "orientation": "v",
         "showlegend": true,
         "textposition": "auto",
         "type": "bar",
         "x": [
          "West Bengal"
         ],
         "xaxis": "x",
         "y": [
          4
         ],
         "yaxis": "y"
        },
        {
         "alignmentgroup": "True",
         "hovertemplate": "color=Telangana<br>Transaction State=%{x}<br>Fraud Count=%{y}<extra></extra>",
         "legendgroup": "Telangana",
         "marker": {
          "color": "rgb(248, 156, 116)",
          "pattern": {
           "shape": ""
          }
         },
         "name": "Telangana",
         "offsetgroup": "Telangana",
         "orientation": "v",
         "showlegend": true,
         "textposition": "auto",
         "type": "bar",
         "x": [
          "Telangana"
         ],
         "xaxis": "x",
         "y": [
          3
         ],
         "yaxis": "y"
        },
        {
         "alignmentgroup": "True",
         "hovertemplate": "color=Haryana<br>Transaction State=%{x}<br>Fraud Count=%{y}<extra></extra>",
         "legendgroup": "Haryana",
         "marker": {
          "color": "rgb(220, 176, 242)",
          "pattern": {
           "shape": ""
          }
         },
         "name": "Haryana",
         "offsetgroup": "Haryana",
         "orientation": "v",
         "showlegend": true,
         "textposition": "auto",
         "type": "bar",
         "x": [
          "Haryana"
         ],
         "xaxis": "x",
         "y": [
          2
         ],
         "yaxis": "y"
        },
        {
         "alignmentgroup": "True",
         "hovertemplate": "color=Nagaland<br>Transaction State=%{x}<br>Fraud Count=%{y}<extra></extra>",
         "legendgroup": "Nagaland",
         "marker": {
          "color": "rgb(135, 197, 95)",
          "pattern": {
           "shape": ""
          }
         },
         "name": "Nagaland",
         "offsetgroup": "Nagaland",
         "orientation": "v",
         "showlegend": true,
         "textposition": "auto",
         "type": "bar",
         "x": [
          "Nagaland"
         ],
         "xaxis": "x",
         "y": [
          2
         ],
         "yaxis": "y"
        },
        {
         "alignmentgroup": "True",
         "hovertemplate": "color=Madhya Pradesh<br>Transaction State=%{x}<br>Fraud Count=%{y}<extra></extra>",
         "legendgroup": "Madhya Pradesh",
         "marker": {
          "color": "rgb(158, 185, 243)",
          "pattern": {
           "shape": ""
          }
         },
         "name": "Madhya Pradesh",
         "offsetgroup": "Madhya Pradesh",
         "orientation": "v",
         "showlegend": true,
         "textposition": "auto",
         "type": "bar",
         "x": [
          "Madhya Pradesh"
         ],
         "xaxis": "x",
         "y": [
          2
         ],
         "yaxis": "y"
        }
       ],
       "layout": {
        "barmode": "relative",
        "legend": {
         "title": {
          "text": "color"
         },
         "tracegroupgap": 0
        },
        "template": {
         "data": {
          "bar": [
           {
            "error_x": {
             "color": "#2a3f5f"
            },
            "error_y": {
             "color": "#2a3f5f"
            },
            "marker": {
             "line": {
              "color": "#E5ECF6",
              "width": 0.5
             },
             "pattern": {
              "fillmode": "overlay",
              "size": 10,
              "solidity": 0.2
             }
            },
            "type": "bar"
           }
          ],
          "barpolar": [
           {
            "marker": {
             "line": {
              "color": "#E5ECF6",
              "width": 0.5
             },
             "pattern": {
              "fillmode": "overlay",
              "size": 10,
              "solidity": 0.2
             }
            },
            "type": "barpolar"
           }
          ],
          "carpet": [
           {
            "aaxis": {
             "endlinecolor": "#2a3f5f",
             "gridcolor": "white",
             "linecolor": "white",
             "minorgridcolor": "white",
             "startlinecolor": "#2a3f5f"
            },
            "baxis": {
             "endlinecolor": "#2a3f5f",
             "gridcolor": "white",
             "linecolor": "white",
             "minorgridcolor": "white",
             "startlinecolor": "#2a3f5f"
            },
            "type": "carpet"
           }
          ],
          "choropleth": [
           {
            "colorbar": {
             "outlinewidth": 0,
             "ticks": ""
            },
            "type": "choropleth"
           }
          ],
          "contour": [
           {
            "colorbar": {
             "outlinewidth": 0,
             "ticks": ""
            },
            "colorscale": [
             [
              0,
              "#0d0887"
             ],
             [
              0.1111111111111111,
              "#46039f"
             ],
             [
              0.2222222222222222,
              "#7201a8"
             ],
             [
              0.3333333333333333,
              "#9c179e"
             ],
             [
              0.4444444444444444,
              "#bd3786"
             ],
             [
              0.5555555555555556,
              "#d8576b"
             ],
             [
              0.6666666666666666,
              "#ed7953"
             ],
             [
              0.7777777777777778,
              "#fb9f3a"
             ],
             [
              0.8888888888888888,
              "#fdca26"
             ],
             [
              1,
              "#f0f921"
             ]
            ],
            "type": "contour"
           }
          ],
          "contourcarpet": [
           {
            "colorbar": {
             "outlinewidth": 0,
             "ticks": ""
            },
            "type": "contourcarpet"
           }
          ],
          "heatmap": [
           {
            "colorbar": {
             "outlinewidth": 0,
             "ticks": ""
            },
            "colorscale": [
             [
              0,
              "#0d0887"
             ],
             [
              0.1111111111111111,
              "#46039f"
             ],
             [
              0.2222222222222222,
              "#7201a8"
             ],
             [
              0.3333333333333333,
              "#9c179e"
             ],
             [
              0.4444444444444444,
              "#bd3786"
             ],
             [
              0.5555555555555556,
              "#d8576b"
             ],
             [
              0.6666666666666666,
              "#ed7953"
             ],
             [
              0.7777777777777778,
              "#fb9f3a"
             ],
             [
              0.8888888888888888,
              "#fdca26"
             ],
             [
              1,
              "#f0f921"
             ]
            ],
            "type": "heatmap"
           }
          ],
          "heatmapgl": [
           {
            "colorbar": {
             "outlinewidth": 0,
             "ticks": ""
            },
            "colorscale": [
             [
              0,
              "#0d0887"
             ],
             [
              0.1111111111111111,
              "#46039f"
             ],
             [
              0.2222222222222222,
              "#7201a8"
             ],
             [
              0.3333333333333333,
              "#9c179e"
             ],
             [
              0.4444444444444444,
              "#bd3786"
             ],
             [
              0.5555555555555556,
              "#d8576b"
             ],
             [
              0.6666666666666666,
              "#ed7953"
             ],
             [
              0.7777777777777778,
              "#fb9f3a"
             ],
             [
              0.8888888888888888,
              "#fdca26"
             ],
             [
              1,
              "#f0f921"
             ]
            ],
            "type": "heatmapgl"
           }
          ],
          "histogram": [
           {
            "marker": {
             "pattern": {
              "fillmode": "overlay",
              "size": 10,
              "solidity": 0.2
             }
            },
            "type": "histogram"
           }
          ],
          "histogram2d": [
           {
            "colorbar": {
             "outlinewidth": 0,
             "ticks": ""
            },
            "colorscale": [
             [
              0,
              "#0d0887"
             ],
             [
              0.1111111111111111,
              "#46039f"
             ],
             [
              0.2222222222222222,
              "#7201a8"
             ],
             [
              0.3333333333333333,
              "#9c179e"
             ],
             [
              0.4444444444444444,
              "#bd3786"
             ],
             [
              0.5555555555555556,
              "#d8576b"
             ],
             [
              0.6666666666666666,
              "#ed7953"
             ],
             [
              0.7777777777777778,
              "#fb9f3a"
             ],
             [
              0.8888888888888888,
              "#fdca26"
             ],
             [
              1,
              "#f0f921"
             ]
            ],
            "type": "histogram2d"
           }
          ],
          "histogram2dcontour": [
           {
            "colorbar": {
             "outlinewidth": 0,
             "ticks": ""
            },
            "colorscale": [
             [
              0,
              "#0d0887"
             ],
             [
              0.1111111111111111,
              "#46039f"
             ],
             [
              0.2222222222222222,
              "#7201a8"
             ],
             [
              0.3333333333333333,
              "#9c179e"
             ],
             [
              0.4444444444444444,
              "#bd3786"
             ],
             [
              0.5555555555555556,
              "#d8576b"
             ],
             [
              0.6666666666666666,
              "#ed7953"
             ],
             [
              0.7777777777777778,
              "#fb9f3a"
             ],
             [
              0.8888888888888888,
              "#fdca26"
             ],
             [
              1,
              "#f0f921"
             ]
            ],
            "type": "histogram2dcontour"
           }
          ],
          "mesh3d": [
           {
            "colorbar": {
             "outlinewidth": 0,
             "ticks": ""
            },
            "type": "mesh3d"
           }
          ],
          "parcoords": [
           {
            "line": {
             "colorbar": {
              "outlinewidth": 0,
              "ticks": ""
             }
            },
            "type": "parcoords"
           }
          ],
          "pie": [
           {
            "automargin": true,
            "type": "pie"
           }
          ],
          "scatter": [
           {
            "fillpattern": {
             "fillmode": "overlay",
             "size": 10,
             "solidity": 0.2
            },
            "type": "scatter"
           }
          ],
          "scatter3d": [
           {
            "line": {
             "colorbar": {
              "outlinewidth": 0,
              "ticks": ""
             }
            },
            "marker": {
             "colorbar": {
              "outlinewidth": 0,
              "ticks": ""
             }
            },
            "type": "scatter3d"
           }
          ],
          "scattercarpet": [
           {
            "marker": {
             "colorbar": {
              "outlinewidth": 0,
              "ticks": ""
             }
            },
            "type": "scattercarpet"
           }
          ],
          "scattergeo": [
           {
            "marker": {
             "colorbar": {
              "outlinewidth": 0,
              "ticks": ""
             }
            },
            "type": "scattergeo"
           }
          ],
          "scattergl": [
           {
            "marker": {
             "colorbar": {
              "outlinewidth": 0,
              "ticks": ""
             }
            },
            "type": "scattergl"
           }
          ],
          "scattermapbox": [
           {
            "marker": {
             "colorbar": {
              "outlinewidth": 0,
              "ticks": ""
             }
            },
            "type": "scattermapbox"
           }
          ],
          "scatterpolar": [
           {
            "marker": {
             "colorbar": {
              "outlinewidth": 0,
              "ticks": ""
             }
            },
            "type": "scatterpolar"
           }
          ],
          "scatterpolargl": [
           {
            "marker": {
             "colorbar": {
              "outlinewidth": 0,
              "ticks": ""
             }
            },
            "type": "scatterpolargl"
           }
          ],
          "scatterternary": [
           {
            "marker": {
             "colorbar": {
              "outlinewidth": 0,
              "ticks": ""
             }
            },
            "type": "scatterternary"
           }
          ],
          "surface": [
           {
            "colorbar": {
             "outlinewidth": 0,
             "ticks": ""
            },
            "colorscale": [
             [
              0,
              "#0d0887"
             ],
             [
              0.1111111111111111,
              "#46039f"
             ],
             [
              0.2222222222222222,
              "#7201a8"
             ],
             [
              0.3333333333333333,
              "#9c179e"
             ],
             [
              0.4444444444444444,
              "#bd3786"
             ],
             [
              0.5555555555555556,
              "#d8576b"
             ],
             [
              0.6666666666666666,
              "#ed7953"
             ],
             [
              0.7777777777777778,
              "#fb9f3a"
             ],
             [
              0.8888888888888888,
              "#fdca26"
             ],
             [
              1,
              "#f0f921"
             ]
            ],
            "type": "surface"
           }
          ],
          "table": [
           {
            "cells": {
             "fill": {
              "color": "#EBF0F8"
             },
             "line": {
              "color": "white"
             }
            },
            "header": {
             "fill": {
              "color": "#C8D4E3"
             },
             "line": {
              "color": "white"
             }
            },
            "type": "table"
           }
          ]
         },
         "layout": {
          "annotationdefaults": {
           "arrowcolor": "#2a3f5f",
           "arrowhead": 0,
           "arrowwidth": 1
          },
          "autotypenumbers": "strict",
          "coloraxis": {
           "colorbar": {
            "outlinewidth": 0,
            "ticks": ""
           }
          },
          "colorscale": {
           "diverging": [
            [
             0,
             "#8e0152"
            ],
            [
             0.1,
             "#c51b7d"
            ],
            [
             0.2,
             "#de77ae"
            ],
            [
             0.3,
             "#f1b6da"
            ],
            [
             0.4,
             "#fde0ef"
            ],
            [
             0.5,
             "#f7f7f7"
            ],
            [
             0.6,
             "#e6f5d0"
            ],
            [
             0.7,
             "#b8e186"
            ],
            [
             0.8,
             "#7fbc41"
            ],
            [
             0.9,
             "#4d9221"
            ],
            [
             1,
             "#276419"
            ]
           ],
           "sequential": [
            [
             0,
             "#0d0887"
            ],
            [
             0.1111111111111111,
             "#46039f"
            ],
            [
             0.2222222222222222,
             "#7201a8"
            ],
            [
             0.3333333333333333,
             "#9c179e"
            ],
            [
             0.4444444444444444,
             "#bd3786"
            ],
            [
             0.5555555555555556,
             "#d8576b"
            ],
            [
             0.6666666666666666,
             "#ed7953"
            ],
            [
             0.7777777777777778,
             "#fb9f3a"
            ],
            [
             0.8888888888888888,
             "#fdca26"
            ],
            [
             1,
             "#f0f921"
            ]
           ],
           "sequentialminus": [
            [
             0,
             "#0d0887"
            ],
            [
             0.1111111111111111,
             "#46039f"
            ],
            [
             0.2222222222222222,
             "#7201a8"
            ],
            [
             0.3333333333333333,
             "#9c179e"
            ],
            [
             0.4444444444444444,
             "#bd3786"
            ],
            [
             0.5555555555555556,
             "#d8576b"
            ],
            [
             0.6666666666666666,
             "#ed7953"
            ],
            [
             0.7777777777777778,
             "#fb9f3a"
            ],
            [
             0.8888888888888888,
             "#fdca26"
            ],
            [
             1,
             "#f0f921"
            ]
           ]
          },
          "colorway": [
           "#636efa",
           "#EF553B",
           "#00cc96",
           "#ab63fa",
           "#FFA15A",
           "#19d3f3",
           "#FF6692",
           "#B6E880",
           "#FF97FF",
           "#FECB52"
          ],
          "font": {
           "color": "#2a3f5f"
          },
          "geo": {
           "bgcolor": "white",
           "lakecolor": "white",
           "landcolor": "#E5ECF6",
           "showlakes": true,
           "showland": true,
           "subunitcolor": "white"
          },
          "hoverlabel": {
           "align": "left"
          },
          "hovermode": "closest",
          "mapbox": {
           "style": "light"
          },
          "paper_bgcolor": "white",
          "plot_bgcolor": "#E5ECF6",
          "polar": {
           "angularaxis": {
            "gridcolor": "white",
            "linecolor": "white",
            "ticks": ""
           },
           "bgcolor": "#E5ECF6",
           "radialaxis": {
            "gridcolor": "white",
            "linecolor": "white",
            "ticks": ""
           }
          },
          "scene": {
           "xaxis": {
            "backgroundcolor": "#E5ECF6",
            "gridcolor": "white",
            "gridwidth": 2,
            "linecolor": "white",
            "showbackground": true,
            "ticks": "",
            "zerolinecolor": "white"
           },
           "yaxis": {
            "backgroundcolor": "#E5ECF6",
            "gridcolor": "white",
            "gridwidth": 2,
            "linecolor": "white",
            "showbackground": true,
            "ticks": "",
            "zerolinecolor": "white"
           },
           "zaxis": {
            "backgroundcolor": "#E5ECF6",
            "gridcolor": "white",
            "gridwidth": 2,
            "linecolor": "white",
            "showbackground": true,
            "ticks": "",
            "zerolinecolor": "white"
           }
          },
          "shapedefaults": {
           "line": {
            "color": "#2a3f5f"
           }
          },
          "ternary": {
           "aaxis": {
            "gridcolor": "white",
            "linecolor": "white",
            "ticks": ""
           },
           "baxis": {
            "gridcolor": "white",
            "linecolor": "white",
            "ticks": ""
           },
           "bgcolor": "#E5ECF6",
           "caxis": {
            "gridcolor": "white",
            "linecolor": "white",
            "ticks": ""
           }
          },
          "title": {
           "x": 0.05
          },
          "xaxis": {
           "automargin": true,
           "gridcolor": "white",
           "linecolor": "white",
           "ticks": "",
           "title": {
            "standoff": 15
           },
           "zerolinecolor": "white",
           "zerolinewidth": 2
          },
          "yaxis": {
           "automargin": true,
           "gridcolor": "white",
           "linecolor": "white",
           "ticks": "",
           "title": {
            "standoff": 15
           },
           "zerolinecolor": "white",
           "zerolinewidth": 2
          }
         }
        },
        "title": {
         "text": "Fraud Distribution by Transaction State"
        },
        "xaxis": {
         "anchor": "y",
         "categoryorder": "total descending",
         "domain": [
          0,
          1
         ],
         "title": {
          "text": "Transaction State"
         }
        },
        "yaxis": {
         "anchor": "x",
         "domain": [
          0,
          1
         ],
         "title": {
          "text": "Fraud Count"
         }
        }
       }
      }
     },
     "metadata": {},
     "output_type": "display_data"
    }
   ],
   "source": [
    "#plot 7 : fraud distribution by transaction state\n",
    "fig = px.bar(x=fraud['Transaction_State'].value_counts().index,\n",
    "             y=fraud['Transaction_State'].value_counts().values,\n",
    "             color=fraud['Transaction_State'].value_counts().index,\n",
    "             title='Fraud Distribution by Transaction State',\n",
    "             labels={'x': 'Transaction State', 'y': 'Fraud Count'},\n",
    "             color_discrete_sequence=px.colors.qualitative.Pastel)\n",
    "fig.update_layout(xaxis={'categoryorder': 'total descending'})\n",
    "fig.show()"
   ]
  },
  {
   "cell_type": "code",
   "execution_count": 498,
   "id": "e53eac74",
   "metadata": {},
   "outputs": [
    {
     "data": {
      "application/vnd.plotly.v1+json": {
       "config": {
        "plotlyServerURL": "https://plot.ly"
       },
       "data": [
        {
         "alignmentgroup": "True",
         "hovertemplate": "color=Android<br>Device OS=%{x}<br>Fraud Count=%{y}<extra></extra>",
         "legendgroup": "Android",
         "marker": {
          "color": "rgb(102, 197, 204)",
          "pattern": {
           "shape": ""
          }
         },
         "name": "Android",
         "offsetgroup": "Android",
         "orientation": "v",
         "showlegend": true,
         "textposition": "auto",
         "type": "bar",
         "x": [
          "Android"
         ],
         "xaxis": "x",
         "y": [
          52
         ],
         "yaxis": "y"
        },
        {
         "alignmentgroup": "True",
         "hovertemplate": "color=Windows<br>Device OS=%{x}<br>Fraud Count=%{y}<extra></extra>",
         "legendgroup": "Windows",
         "marker": {
          "color": "rgb(246, 207, 113)",
          "pattern": {
           "shape": ""
          }
         },
         "name": "Windows",
         "offsetgroup": "Windows",
         "orientation": "v",
         "showlegend": true,
         "textposition": "auto",
         "type": "bar",
         "x": [
          "Windows"
         ],
         "xaxis": "x",
         "y": [
          39
         ],
         "yaxis": "y"
        },
        {
         "alignmentgroup": "True",
         "hovertemplate": "color=iOS<br>Device OS=%{x}<br>Fraud Count=%{y}<extra></extra>",
         "legendgroup": "iOS",
         "marker": {
          "color": "rgb(248, 156, 116)",
          "pattern": {
           "shape": ""
          }
         },
         "name": "iOS",
         "offsetgroup": "iOS",
         "orientation": "v",
         "showlegend": true,
         "textposition": "auto",
         "type": "bar",
         "x": [
          "iOS"
         ],
         "xaxis": "x",
         "y": [
          34
         ],
         "yaxis": "y"
        },
        {
         "alignmentgroup": "True",
         "hovertemplate": "color=MacOS<br>Device OS=%{x}<br>Fraud Count=%{y}<extra></extra>",
         "legendgroup": "MacOS",
         "marker": {
          "color": "rgb(220, 176, 242)",
          "pattern": {
           "shape": ""
          }
         },
         "name": "MacOS",
         "offsetgroup": "MacOS",
         "orientation": "v",
         "showlegend": true,
         "textposition": "auto",
         "type": "bar",
         "x": [
          "MacOS"
         ],
         "xaxis": "x",
         "y": [
          30
         ],
         "yaxis": "y"
        }
       ],
       "layout": {
        "barmode": "relative",
        "legend": {
         "title": {
          "text": "color"
         },
         "tracegroupgap": 0
        },
        "template": {
         "data": {
          "bar": [
           {
            "error_x": {
             "color": "#2a3f5f"
            },
            "error_y": {
             "color": "#2a3f5f"
            },
            "marker": {
             "line": {
              "color": "#E5ECF6",
              "width": 0.5
             },
             "pattern": {
              "fillmode": "overlay",
              "size": 10,
              "solidity": 0.2
             }
            },
            "type": "bar"
           }
          ],
          "barpolar": [
           {
            "marker": {
             "line": {
              "color": "#E5ECF6",
              "width": 0.5
             },
             "pattern": {
              "fillmode": "overlay",
              "size": 10,
              "solidity": 0.2
             }
            },
            "type": "barpolar"
           }
          ],
          "carpet": [
           {
            "aaxis": {
             "endlinecolor": "#2a3f5f",
             "gridcolor": "white",
             "linecolor": "white",
             "minorgridcolor": "white",
             "startlinecolor": "#2a3f5f"
            },
            "baxis": {
             "endlinecolor": "#2a3f5f",
             "gridcolor": "white",
             "linecolor": "white",
             "minorgridcolor": "white",
             "startlinecolor": "#2a3f5f"
            },
            "type": "carpet"
           }
          ],
          "choropleth": [
           {
            "colorbar": {
             "outlinewidth": 0,
             "ticks": ""
            },
            "type": "choropleth"
           }
          ],
          "contour": [
           {
            "colorbar": {
             "outlinewidth": 0,
             "ticks": ""
            },
            "colorscale": [
             [
              0,
              "#0d0887"
             ],
             [
              0.1111111111111111,
              "#46039f"
             ],
             [
              0.2222222222222222,
              "#7201a8"
             ],
             [
              0.3333333333333333,
              "#9c179e"
             ],
             [
              0.4444444444444444,
              "#bd3786"
             ],
             [
              0.5555555555555556,
              "#d8576b"
             ],
             [
              0.6666666666666666,
              "#ed7953"
             ],
             [
              0.7777777777777778,
              "#fb9f3a"
             ],
             [
              0.8888888888888888,
              "#fdca26"
             ],
             [
              1,
              "#f0f921"
             ]
            ],
            "type": "contour"
           }
          ],
          "contourcarpet": [
           {
            "colorbar": {
             "outlinewidth": 0,
             "ticks": ""
            },
            "type": "contourcarpet"
           }
          ],
          "heatmap": [
           {
            "colorbar": {
             "outlinewidth": 0,
             "ticks": ""
            },
            "colorscale": [
             [
              0,
              "#0d0887"
             ],
             [
              0.1111111111111111,
              "#46039f"
             ],
             [
              0.2222222222222222,
              "#7201a8"
             ],
             [
              0.3333333333333333,
              "#9c179e"
             ],
             [
              0.4444444444444444,
              "#bd3786"
             ],
             [
              0.5555555555555556,
              "#d8576b"
             ],
             [
              0.6666666666666666,
              "#ed7953"
             ],
             [
              0.7777777777777778,
              "#fb9f3a"
             ],
             [
              0.8888888888888888,
              "#fdca26"
             ],
             [
              1,
              "#f0f921"
             ]
            ],
            "type": "heatmap"
           }
          ],
          "heatmapgl": [
           {
            "colorbar": {
             "outlinewidth": 0,
             "ticks": ""
            },
            "colorscale": [
             [
              0,
              "#0d0887"
             ],
             [
              0.1111111111111111,
              "#46039f"
             ],
             [
              0.2222222222222222,
              "#7201a8"
             ],
             [
              0.3333333333333333,
              "#9c179e"
             ],
             [
              0.4444444444444444,
              "#bd3786"
             ],
             [
              0.5555555555555556,
              "#d8576b"
             ],
             [
              0.6666666666666666,
              "#ed7953"
             ],
             [
              0.7777777777777778,
              "#fb9f3a"
             ],
             [
              0.8888888888888888,
              "#fdca26"
             ],
             [
              1,
              "#f0f921"
             ]
            ],
            "type": "heatmapgl"
           }
          ],
          "histogram": [
           {
            "marker": {
             "pattern": {
              "fillmode": "overlay",
              "size": 10,
              "solidity": 0.2
             }
            },
            "type": "histogram"
           }
          ],
          "histogram2d": [
           {
            "colorbar": {
             "outlinewidth": 0,
             "ticks": ""
            },
            "colorscale": [
             [
              0,
              "#0d0887"
             ],
             [
              0.1111111111111111,
              "#46039f"
             ],
             [
              0.2222222222222222,
              "#7201a8"
             ],
             [
              0.3333333333333333,
              "#9c179e"
             ],
             [
              0.4444444444444444,
              "#bd3786"
             ],
             [
              0.5555555555555556,
              "#d8576b"
             ],
             [
              0.6666666666666666,
              "#ed7953"
             ],
             [
              0.7777777777777778,
              "#fb9f3a"
             ],
             [
              0.8888888888888888,
              "#fdca26"
             ],
             [
              1,
              "#f0f921"
             ]
            ],
            "type": "histogram2d"
           }
          ],
          "histogram2dcontour": [
           {
            "colorbar": {
             "outlinewidth": 0,
             "ticks": ""
            },
            "colorscale": [
             [
              0,
              "#0d0887"
             ],
             [
              0.1111111111111111,
              "#46039f"
             ],
             [
              0.2222222222222222,
              "#7201a8"
             ],
             [
              0.3333333333333333,
              "#9c179e"
             ],
             [
              0.4444444444444444,
              "#bd3786"
             ],
             [
              0.5555555555555556,
              "#d8576b"
             ],
             [
              0.6666666666666666,
              "#ed7953"
             ],
             [
              0.7777777777777778,
              "#fb9f3a"
             ],
             [
              0.8888888888888888,
              "#fdca26"
             ],
             [
              1,
              "#f0f921"
             ]
            ],
            "type": "histogram2dcontour"
           }
          ],
          "mesh3d": [
           {
            "colorbar": {
             "outlinewidth": 0,
             "ticks": ""
            },
            "type": "mesh3d"
           }
          ],
          "parcoords": [
           {
            "line": {
             "colorbar": {
              "outlinewidth": 0,
              "ticks": ""
             }
            },
            "type": "parcoords"
           }
          ],
          "pie": [
           {
            "automargin": true,
            "type": "pie"
           }
          ],
          "scatter": [
           {
            "fillpattern": {
             "fillmode": "overlay",
             "size": 10,
             "solidity": 0.2
            },
            "type": "scatter"
           }
          ],
          "scatter3d": [
           {
            "line": {
             "colorbar": {
              "outlinewidth": 0,
              "ticks": ""
             }
            },
            "marker": {
             "colorbar": {
              "outlinewidth": 0,
              "ticks": ""
             }
            },
            "type": "scatter3d"
           }
          ],
          "scattercarpet": [
           {
            "marker": {
             "colorbar": {
              "outlinewidth": 0,
              "ticks": ""
             }
            },
            "type": "scattercarpet"
           }
          ],
          "scattergeo": [
           {
            "marker": {
             "colorbar": {
              "outlinewidth": 0,
              "ticks": ""
             }
            },
            "type": "scattergeo"
           }
          ],
          "scattergl": [
           {
            "marker": {
             "colorbar": {
              "outlinewidth": 0,
              "ticks": ""
             }
            },
            "type": "scattergl"
           }
          ],
          "scattermapbox": [
           {
            "marker": {
             "colorbar": {
              "outlinewidth": 0,
              "ticks": ""
             }
            },
            "type": "scattermapbox"
           }
          ],
          "scatterpolar": [
           {
            "marker": {
             "colorbar": {
              "outlinewidth": 0,
              "ticks": ""
             }
            },
            "type": "scatterpolar"
           }
          ],
          "scatterpolargl": [
           {
            "marker": {
             "colorbar": {
              "outlinewidth": 0,
              "ticks": ""
             }
            },
            "type": "scatterpolargl"
           }
          ],
          "scatterternary": [
           {
            "marker": {
             "colorbar": {
              "outlinewidth": 0,
              "ticks": ""
             }
            },
            "type": "scatterternary"
           }
          ],
          "surface": [
           {
            "colorbar": {
             "outlinewidth": 0,
             "ticks": ""
            },
            "colorscale": [
             [
              0,
              "#0d0887"
             ],
             [
              0.1111111111111111,
              "#46039f"
             ],
             [
              0.2222222222222222,
              "#7201a8"
             ],
             [
              0.3333333333333333,
              "#9c179e"
             ],
             [
              0.4444444444444444,
              "#bd3786"
             ],
             [
              0.5555555555555556,
              "#d8576b"
             ],
             [
              0.6666666666666666,
              "#ed7953"
             ],
             [
              0.7777777777777778,
              "#fb9f3a"
             ],
             [
              0.8888888888888888,
              "#fdca26"
             ],
             [
              1,
              "#f0f921"
             ]
            ],
            "type": "surface"
           }
          ],
          "table": [
           {
            "cells": {
             "fill": {
              "color": "#EBF0F8"
             },
             "line": {
              "color": "white"
             }
            },
            "header": {
             "fill": {
              "color": "#C8D4E3"
             },
             "line": {
              "color": "white"
             }
            },
            "type": "table"
           }
          ]
         },
         "layout": {
          "annotationdefaults": {
           "arrowcolor": "#2a3f5f",
           "arrowhead": 0,
           "arrowwidth": 1
          },
          "autotypenumbers": "strict",
          "coloraxis": {
           "colorbar": {
            "outlinewidth": 0,
            "ticks": ""
           }
          },
          "colorscale": {
           "diverging": [
            [
             0,
             "#8e0152"
            ],
            [
             0.1,
             "#c51b7d"
            ],
            [
             0.2,
             "#de77ae"
            ],
            [
             0.3,
             "#f1b6da"
            ],
            [
             0.4,
             "#fde0ef"
            ],
            [
             0.5,
             "#f7f7f7"
            ],
            [
             0.6,
             "#e6f5d0"
            ],
            [
             0.7,
             "#b8e186"
            ],
            [
             0.8,
             "#7fbc41"
            ],
            [
             0.9,
             "#4d9221"
            ],
            [
             1,
             "#276419"
            ]
           ],
           "sequential": [
            [
             0,
             "#0d0887"
            ],
            [
             0.1111111111111111,
             "#46039f"
            ],
            [
             0.2222222222222222,
             "#7201a8"
            ],
            [
             0.3333333333333333,
             "#9c179e"
            ],
            [
             0.4444444444444444,
             "#bd3786"
            ],
            [
             0.5555555555555556,
             "#d8576b"
            ],
            [
             0.6666666666666666,
             "#ed7953"
            ],
            [
             0.7777777777777778,
             "#fb9f3a"
            ],
            [
             0.8888888888888888,
             "#fdca26"
            ],
            [
             1,
             "#f0f921"
            ]
           ],
           "sequentialminus": [
            [
             0,
             "#0d0887"
            ],
            [
             0.1111111111111111,
             "#46039f"
            ],
            [
             0.2222222222222222,
             "#7201a8"
            ],
            [
             0.3333333333333333,
             "#9c179e"
            ],
            [
             0.4444444444444444,
             "#bd3786"
            ],
            [
             0.5555555555555556,
             "#d8576b"
            ],
            [
             0.6666666666666666,
             "#ed7953"
            ],
            [
             0.7777777777777778,
             "#fb9f3a"
            ],
            [
             0.8888888888888888,
             "#fdca26"
            ],
            [
             1,
             "#f0f921"
            ]
           ]
          },
          "colorway": [
           "#636efa",
           "#EF553B",
           "#00cc96",
           "#ab63fa",
           "#FFA15A",
           "#19d3f3",
           "#FF6692",
           "#B6E880",
           "#FF97FF",
           "#FECB52"
          ],
          "font": {
           "color": "#2a3f5f"
          },
          "geo": {
           "bgcolor": "white",
           "lakecolor": "white",
           "landcolor": "#E5ECF6",
           "showlakes": true,
           "showland": true,
           "subunitcolor": "white"
          },
          "hoverlabel": {
           "align": "left"
          },
          "hovermode": "closest",
          "mapbox": {
           "style": "light"
          },
          "paper_bgcolor": "white",
          "plot_bgcolor": "#E5ECF6",
          "polar": {
           "angularaxis": {
            "gridcolor": "white",
            "linecolor": "white",
            "ticks": ""
           },
           "bgcolor": "#E5ECF6",
           "radialaxis": {
            "gridcolor": "white",
            "linecolor": "white",
            "ticks": ""
           }
          },
          "scene": {
           "xaxis": {
            "backgroundcolor": "#E5ECF6",
            "gridcolor": "white",
            "gridwidth": 2,
            "linecolor": "white",
            "showbackground": true,
            "ticks": "",
            "zerolinecolor": "white"
           },
           "yaxis": {
            "backgroundcolor": "#E5ECF6",
            "gridcolor": "white",
            "gridwidth": 2,
            "linecolor": "white",
            "showbackground": true,
            "ticks": "",
            "zerolinecolor": "white"
           },
           "zaxis": {
            "backgroundcolor": "#E5ECF6",
            "gridcolor": "white",
            "gridwidth": 2,
            "linecolor": "white",
            "showbackground": true,
            "ticks": "",
            "zerolinecolor": "white"
           }
          },
          "shapedefaults": {
           "line": {
            "color": "#2a3f5f"
           }
          },
          "ternary": {
           "aaxis": {
            "gridcolor": "white",
            "linecolor": "white",
            "ticks": ""
           },
           "baxis": {
            "gridcolor": "white",
            "linecolor": "white",
            "ticks": ""
           },
           "bgcolor": "#E5ECF6",
           "caxis": {
            "gridcolor": "white",
            "linecolor": "white",
            "ticks": ""
           }
          },
          "title": {
           "x": 0.05
          },
          "xaxis": {
           "automargin": true,
           "gridcolor": "white",
           "linecolor": "white",
           "ticks": "",
           "title": {
            "standoff": 15
           },
           "zerolinecolor": "white",
           "zerolinewidth": 2
          },
          "yaxis": {
           "automargin": true,
           "gridcolor": "white",
           "linecolor": "white",
           "ticks": "",
           "title": {
            "standoff": 15
           },
           "zerolinecolor": "white",
           "zerolinewidth": 2
          }
         }
        },
        "title": {
         "text": "Fraud Distribution by Device OS"
        },
        "xaxis": {
         "anchor": "y",
         "categoryorder": "total descending",
         "domain": [
          0,
          1
         ],
         "title": {
          "text": "Device OS"
         }
        },
        "yaxis": {
         "anchor": "x",
         "domain": [
          0,
          1
         ],
         "title": {
          "text": "Fraud Count"
         }
        }
       }
      }
     },
     "metadata": {},
     "output_type": "display_data"
    }
   ],
   "source": [
    "#plot 8 :relationship between device_os and fraud using scatter plot\n",
    "fig = px.bar(x=fraud['Device_OS'].value_counts().index,\n",
    "             y=fraud['Device_OS'].value_counts().values,\n",
    "               color=fraud['Device_OS'].value_counts().index,\n",
    "               title='Fraud Distribution by Device OS',\n",
    "               labels={'x': 'Device OS', 'y': 'Fraud Count'},\n",
    "               color_discrete_sequence=px.colors.qualitative.Pastel)\n",
    "fig.update_layout(xaxis={'categoryorder': 'total descending'})\n",
    "fig.show()"
   ]
  },
  {
   "cell_type": "markdown",
   "id": "1e77628d",
   "metadata": {},
   "source": [
    "Insights from the above visualisations:\n",
    "\n",
    "Transaction types: Bank transfer, purchase & bill payment, are highly contributing to fraudulent transactions.\n",
    "\n",
    "Platforms like ICICI, HDFC and GooglePay have reported the highest number of fraudulent transactions.\n",
    "\n",
    "Merchant category: home delivery, travel bookings, utility, have reported the highest number of fraudulent transactions.\n",
    "\n",
    "Transaction amount ranging 250 to 750 are highly sensitive to fraudulent transactions.\n",
    "\n",
    "Transaction amount ranging 0 to 1250 are highest contributors to fraudulent transactions between FY 23–24.\n",
    "\n",
    "Transaction frequency: 0 to 10 is highly sensitive to fraudulent transactions.\n",
    "\n",
    "Days since last transaction feature is not contributing to the analysis as no pattern identified, hence can be dropped.\n",
    "\n",
    "States – Himachal Pradesh, Rajasthan, Meghalaya & Bihar are highly sensitive to fraudulent transactions.\n",
    "\n",
    "Android OS reported highest number of fraudulent transactions.\n",
    "\n",
    "Insights from Exploratory Data Analysis for UPI Fraud Detection:\n",
    "\n",
    "Transaction Types: Among different transaction types, such as bank transfers, purchases, and bill payments, fraudulent activities are prominently associated, indicating vulnerabilities across various transaction categories.\n",
    "\n",
    "Platforms: Platforms like ICICI, HDFC, and GooglePay are notably prone to fraudulent transactions, suggesting a need for enhanced security measures or closer monitoring on these platforms.\n",
    "\n",
    "Merchant Categories: Certain merchant categories, such as home delivery services, travel bookings, and utility payments, exhibit a higher incidence of fraudulent transactions, indicating potential areas of vulnerability within these sectors.\n",
    "\n",
    "Transaction Amounts: Transactions falling within the range of 250 to 750 units demonstrate a heightened susceptibility to fraud, suggesting that fraudsters target transactions of moderate value to avoid detection.\n",
    "\n",
    "Temporal Trends: Transactions with amounts ranging from 0 to 1250 units account for the majority of fraudulent activities between FY 23–24, emphasizing the importance of monitoring transactions within this range for potential fraud.\n",
    "\n",
    "Transaction Frequency: Transactions occurring at a frequency of 0 to 10 instances show a higher propensity for fraud, indicating that fraudsters may exploit less frequent transactions to evade detection.\n",
    "\n",
    "Geographical Patterns: Certain states, such as Himachal Pradesh, Rajasthan, Meghalaya, and Bihar, exhibit a higher sensitivity to fraudulent transactions, necessitating targeted interventions or heightened vigilance in these regions.\n",
    "\n",
    "Operating Systems: Devices operating on the Android OS report a higher number of fraudulent transactions, underscoring potential vulnerabilities within this operating system or applications.\n",
    "\n",
    "Days Since Last Transaction: The feature days since last transaction does not yield discernible patterns and does not contribute meaningfully to the analysis, thus it can be omitted from further modeling efforts to streamline the feature set."
   ]
  },
  {
   "cell_type": "code",
   "execution_count": 501,
   "id": "c0b80c9c",
   "metadata": {},
   "outputs": [
    {
     "name": "stdout",
     "output_type": "stream",
     "text": [
      "<class 'pandas.core.frame.DataFrame'>\n",
      "Index: 155 entries, 0 to 154\n",
      "Data columns (total 15 columns):\n",
      " #   Column                        Non-Null Count  Dtype  \n",
      "---  ------                        --------------  -----  \n",
      " 0   Transaction_Type              155 non-null    object \n",
      " 1   Payment_Gateway               155 non-null    object \n",
      " 2   Transaction_City              155 non-null    object \n",
      " 3   Transaction_State             155 non-null    object \n",
      " 4   Transaction_Status            155 non-null    object \n",
      " 5   Device_OS                     155 non-null    object \n",
      " 6   Transaction_Frequency         155 non-null    int64  \n",
      " 7   Merchant_Category             155 non-null    object \n",
      " 8   Transaction_Channel           155 non-null    object \n",
      " 9   Transaction_Amount_Deviation  155 non-null    float64\n",
      " 10  Days_Since_Last_Transaction   155 non-null    int64  \n",
      " 11  amount                        155 non-null    float64\n",
      " 12  fraud                         155 non-null    int64  \n",
      " 13  year                          155 non-null    int32  \n",
      " 14  month                         155 non-null    object \n",
      "dtypes: float64(2), int32(1), int64(3), object(9)\n",
      "memory usage: 18.8+ KB\n"
     ]
    }
   ],
   "source": [
    "fraud.info()"
   ]
  },
  {
   "cell_type": "code",
   "execution_count": 508,
   "id": "373587b9",
   "metadata": {},
   "outputs": [],
   "source": [
    "columns_to_drop = ['Days_Since_Last_Transaction', 'Transaction_Frequency', 'Transaction_Amount_Deviation',\n",
    "                  'Time', 'Date', 'Device_OS', 'Transaction_Channel', 'Transaction_Status', 'Transaction_City']\n",
    "df.drop(columns=columns_to_drop, inplace=True, errors='ignore')"
   ]
  },
  {
   "cell_type": "code",
   "execution_count": 509,
   "id": "d56c39db",
   "metadata": {},
   "outputs": [
    {
     "name": "stdout",
     "output_type": "stream",
     "text": [
      "<class 'pandas.core.frame.DataFrame'>\n",
      "RangeIndex: 647 entries, 0 to 646\n",
      "Data columns (total 8 columns):\n",
      " #   Column             Non-Null Count  Dtype  \n",
      "---  ------             --------------  -----  \n",
      " 0   Transaction_Type   647 non-null    object \n",
      " 1   Payment_Gateway    647 non-null    object \n",
      " 2   Transaction_State  647 non-null    object \n",
      " 3   Merchant_Category  647 non-null    object \n",
      " 4   amount             647 non-null    float64\n",
      " 5   fraud              647 non-null    int64  \n",
      " 6   year               647 non-null    int32  \n",
      " 7   month              647 non-null    object \n",
      "dtypes: float64(1), int32(1), int64(1), object(5)\n",
      "memory usage: 38.0+ KB\n"
     ]
    }
   ],
   "source": [
    "df.info()"
   ]
  },
  {
   "cell_type": "code",
   "execution_count": 510,
   "id": "e1532433",
   "metadata": {},
   "outputs": [
    {
     "data": {
      "text/plain": [
       "(647, 8)"
      ]
     },
     "execution_count": 510,
     "metadata": {},
     "output_type": "execute_result"
    }
   ],
   "source": [
    "df.shape"
   ]
  },
  {
   "cell_type": "code",
   "execution_count": 511,
   "id": "fa484275",
   "metadata": {},
   "outputs": [],
   "source": [
    "data = df.copy()"
   ]
  },
  {
   "cell_type": "code",
   "execution_count": 512,
   "id": "e0675720",
   "metadata": {},
   "outputs": [
    {
     "name": "stdout",
     "output_type": "stream",
     "text": [
      "<class 'pandas.core.frame.DataFrame'>\n",
      "RangeIndex: 647 entries, 0 to 646\n",
      "Data columns (total 8 columns):\n",
      " #   Column             Non-Null Count  Dtype  \n",
      "---  ------             --------------  -----  \n",
      " 0   Transaction_Type   647 non-null    object \n",
      " 1   Payment_Gateway    647 non-null    object \n",
      " 2   Transaction_State  647 non-null    object \n",
      " 3   Merchant_Category  647 non-null    object \n",
      " 4   amount             647 non-null    float64\n",
      " 5   fraud              647 non-null    int64  \n",
      " 6   year               647 non-null    int32  \n",
      " 7   month              647 non-null    object \n",
      "dtypes: float64(1), int32(1), int64(1), object(5)\n",
      "memory usage: 38.0+ KB\n"
     ]
    }
   ],
   "source": [
    "data.info()"
   ]
  },
  {
   "cell_type": "code",
   "execution_count": 513,
   "id": "09d2ccb1",
   "metadata": {},
   "outputs": [],
   "source": [
    "#converting year column to object \n",
    "data['year'] = data['year'].astype('object')"
   ]
  },
  {
   "cell_type": "code",
   "execution_count": 514,
   "id": "3ac415b5",
   "metadata": {},
   "outputs": [
    {
     "data": {
      "text/plain": [
       "Index(['Transaction_Type', 'Payment_Gateway', 'Transaction_State',\n",
       "       'Merchant_Category', 'year', 'month'],\n",
       "      dtype='object')"
      ]
     },
     "execution_count": 514,
     "metadata": {},
     "output_type": "execute_result"
    }
   ],
   "source": [
    "#extracting categorical data to columns\n",
    "catergorical_columns = data.select_dtypes(include=['object']).columns\n",
    "catergorical_columns"
   ]
  },
  {
   "cell_type": "code",
   "execution_count": 516,
   "id": "9ff80e7a",
   "metadata": {},
   "outputs": [],
   "source": [
    "from sklearn.preprocessing import LabelEncoder\n",
    "\n",
    "cols = ['year', 'month']\n",
    "\n",
    "Label_encoder = LabelEncoder()\n",
    "for col in cols:\n",
    "    data[col] = Label_encoder.fit_transform(data[col])"
   ]
  },
  {
   "cell_type": "code",
   "execution_count": 517,
   "id": "6f09111f",
   "metadata": {},
   "outputs": [],
   "source": [
    "#Non-oridinal varriables\n",
    "non_oridinal = ['Transaction_Type', 'Payment_Gateway', 'Merchant_Category']"
   ]
  },
  {
   "cell_type": "code",
   "execution_count": 519,
   "id": "d64437ff",
   "metadata": {},
   "outputs": [
    {
     "ename": "KeyError",
     "evalue": "\"None of [Index(['Transaction_Type', 'Payment_Gateway', 'Merchant_Category'], dtype='object')] are in the [columns]\"",
     "output_type": "error",
     "traceback": [
      "\u001b[1;31m---------------------------------------------------------------------------\u001b[0m",
      "\u001b[1;31mKeyError\u001b[0m                                  Traceback (most recent call last)",
      "Cell \u001b[1;32mIn[519], line 2\u001b[0m\n\u001b[0;32m      1\u001b[0m \u001b[38;5;66;03m#perfrom one hot encoding on non-oridinal varriables\u001b[39;00m\n\u001b[1;32m----> 2\u001b[0m data \u001b[38;5;241m=\u001b[39m \u001b[43mpd\u001b[49m\u001b[38;5;241;43m.\u001b[39;49m\u001b[43mget_dummies\u001b[49m\u001b[43m(\u001b[49m\u001b[43mdata\u001b[49m\u001b[43m,\u001b[49m\u001b[43m \u001b[49m\u001b[43mcolumns\u001b[49m\u001b[38;5;241;43m=\u001b[39;49m\u001b[43mnon_oridinal\u001b[49m\u001b[43m,\u001b[49m\u001b[43m \u001b[49m\u001b[43mdrop_first\u001b[49m\u001b[38;5;241;43m=\u001b[39;49m\u001b[38;5;28;43;01mTrue\u001b[39;49;00m\u001b[43m)\u001b[49m\n\u001b[0;32m      4\u001b[0m \u001b[38;5;66;03m#convert boolean columns to interger\u001b[39;00m\n\u001b[0;32m      5\u001b[0m data \u001b[38;5;241m=\u001b[39m data\u001b[38;5;241m.\u001b[39mastype(\u001b[38;5;28mint\u001b[39m)\n",
      "File \u001b[1;32m~\\AppData\\Roaming\\Python\\Python312\\site-packages\\pandas\\core\\reshape\\encoding.py:169\u001b[0m, in \u001b[0;36mget_dummies\u001b[1;34m(data, prefix, prefix_sep, dummy_na, columns, sparse, drop_first, dtype)\u001b[0m\n\u001b[0;32m    167\u001b[0m     \u001b[38;5;28;01mraise\u001b[39;00m \u001b[38;5;167;01mTypeError\u001b[39;00m(\u001b[38;5;124m\"\u001b[39m\u001b[38;5;124mInput must be a list-like for parameter `columns`\u001b[39m\u001b[38;5;124m\"\u001b[39m)\n\u001b[0;32m    168\u001b[0m \u001b[38;5;28;01melse\u001b[39;00m:\n\u001b[1;32m--> 169\u001b[0m     data_to_encode \u001b[38;5;241m=\u001b[39m \u001b[43mdata\u001b[49m\u001b[43m[\u001b[49m\u001b[43mcolumns\u001b[49m\u001b[43m]\u001b[49m\n\u001b[0;32m    171\u001b[0m \u001b[38;5;66;03m# validate prefixes and separator to avoid silently dropping cols\u001b[39;00m\n\u001b[0;32m    172\u001b[0m \u001b[38;5;28;01mdef\u001b[39;00m \u001b[38;5;21mcheck_len\u001b[39m(item, name: \u001b[38;5;28mstr\u001b[39m):\n",
      "File \u001b[1;32m~\\AppData\\Roaming\\Python\\Python312\\site-packages\\pandas\\core\\frame.py:4108\u001b[0m, in \u001b[0;36mDataFrame.__getitem__\u001b[1;34m(self, key)\u001b[0m\n\u001b[0;32m   4106\u001b[0m     \u001b[38;5;28;01mif\u001b[39;00m is_iterator(key):\n\u001b[0;32m   4107\u001b[0m         key \u001b[38;5;241m=\u001b[39m \u001b[38;5;28mlist\u001b[39m(key)\n\u001b[1;32m-> 4108\u001b[0m     indexer \u001b[38;5;241m=\u001b[39m \u001b[38;5;28;43mself\u001b[39;49m\u001b[38;5;241;43m.\u001b[39;49m\u001b[43mcolumns\u001b[49m\u001b[38;5;241;43m.\u001b[39;49m\u001b[43m_get_indexer_strict\u001b[49m\u001b[43m(\u001b[49m\u001b[43mkey\u001b[49m\u001b[43m,\u001b[49m\u001b[43m \u001b[49m\u001b[38;5;124;43m\"\u001b[39;49m\u001b[38;5;124;43mcolumns\u001b[39;49m\u001b[38;5;124;43m\"\u001b[39;49m\u001b[43m)\u001b[49m[\u001b[38;5;241m1\u001b[39m]\n\u001b[0;32m   4110\u001b[0m \u001b[38;5;66;03m# take() does not accept boolean indexers\u001b[39;00m\n\u001b[0;32m   4111\u001b[0m \u001b[38;5;28;01mif\u001b[39;00m \u001b[38;5;28mgetattr\u001b[39m(indexer, \u001b[38;5;124m\"\u001b[39m\u001b[38;5;124mdtype\u001b[39m\u001b[38;5;124m\"\u001b[39m, \u001b[38;5;28;01mNone\u001b[39;00m) \u001b[38;5;241m==\u001b[39m \u001b[38;5;28mbool\u001b[39m:\n",
      "File \u001b[1;32m~\\AppData\\Roaming\\Python\\Python312\\site-packages\\pandas\\core\\indexes\\base.py:6200\u001b[0m, in \u001b[0;36mIndex._get_indexer_strict\u001b[1;34m(self, key, axis_name)\u001b[0m\n\u001b[0;32m   6197\u001b[0m \u001b[38;5;28;01melse\u001b[39;00m:\n\u001b[0;32m   6198\u001b[0m     keyarr, indexer, new_indexer \u001b[38;5;241m=\u001b[39m \u001b[38;5;28mself\u001b[39m\u001b[38;5;241m.\u001b[39m_reindex_non_unique(keyarr)\n\u001b[1;32m-> 6200\u001b[0m \u001b[38;5;28;43mself\u001b[39;49m\u001b[38;5;241;43m.\u001b[39;49m\u001b[43m_raise_if_missing\u001b[49m\u001b[43m(\u001b[49m\u001b[43mkeyarr\u001b[49m\u001b[43m,\u001b[49m\u001b[43m \u001b[49m\u001b[43mindexer\u001b[49m\u001b[43m,\u001b[49m\u001b[43m \u001b[49m\u001b[43maxis_name\u001b[49m\u001b[43m)\u001b[49m\n\u001b[0;32m   6202\u001b[0m keyarr \u001b[38;5;241m=\u001b[39m \u001b[38;5;28mself\u001b[39m\u001b[38;5;241m.\u001b[39mtake(indexer)\n\u001b[0;32m   6203\u001b[0m \u001b[38;5;28;01mif\u001b[39;00m \u001b[38;5;28misinstance\u001b[39m(key, Index):\n\u001b[0;32m   6204\u001b[0m     \u001b[38;5;66;03m# GH 42790 - Preserve name from an Index\u001b[39;00m\n",
      "File \u001b[1;32m~\\AppData\\Roaming\\Python\\Python312\\site-packages\\pandas\\core\\indexes\\base.py:6249\u001b[0m, in \u001b[0;36mIndex._raise_if_missing\u001b[1;34m(self, key, indexer, axis_name)\u001b[0m\n\u001b[0;32m   6247\u001b[0m \u001b[38;5;28;01mif\u001b[39;00m nmissing:\n\u001b[0;32m   6248\u001b[0m     \u001b[38;5;28;01mif\u001b[39;00m nmissing \u001b[38;5;241m==\u001b[39m \u001b[38;5;28mlen\u001b[39m(indexer):\n\u001b[1;32m-> 6249\u001b[0m         \u001b[38;5;28;01mraise\u001b[39;00m \u001b[38;5;167;01mKeyError\u001b[39;00m(\u001b[38;5;124mf\u001b[39m\u001b[38;5;124m\"\u001b[39m\u001b[38;5;124mNone of [\u001b[39m\u001b[38;5;132;01m{\u001b[39;00mkey\u001b[38;5;132;01m}\u001b[39;00m\u001b[38;5;124m] are in the [\u001b[39m\u001b[38;5;132;01m{\u001b[39;00maxis_name\u001b[38;5;132;01m}\u001b[39;00m\u001b[38;5;124m]\u001b[39m\u001b[38;5;124m\"\u001b[39m)\n\u001b[0;32m   6251\u001b[0m     not_found \u001b[38;5;241m=\u001b[39m \u001b[38;5;28mlist\u001b[39m(ensure_index(key)[missing_mask\u001b[38;5;241m.\u001b[39mnonzero()[\u001b[38;5;241m0\u001b[39m]]\u001b[38;5;241m.\u001b[39munique())\n\u001b[0;32m   6252\u001b[0m     \u001b[38;5;28;01mraise\u001b[39;00m \u001b[38;5;167;01mKeyError\u001b[39;00m(\u001b[38;5;124mf\u001b[39m\u001b[38;5;124m\"\u001b[39m\u001b[38;5;132;01m{\u001b[39;00mnot_found\u001b[38;5;132;01m}\u001b[39;00m\u001b[38;5;124m not in index\u001b[39m\u001b[38;5;124m\"\u001b[39m)\n",
      "\u001b[1;31mKeyError\u001b[0m: \"None of [Index(['Transaction_Type', 'Payment_Gateway', 'Merchant_Category'], dtype='object')] are in the [columns]\""
     ]
    }
   ],
   "source": [
    "#perfrom one hot encoding on non-oridinal varriables\n",
    "data = pd.get_dummies(data, columns=non_oridinal, drop_first=True)\n",
    "\n",
    "#convert boolean columns to interger\n",
    "data = data.astype(int)"
   ]
  },
  {
   "cell_type": "code",
   "execution_count": null,
   "id": "4c8df163",
   "metadata": {},
   "outputs": [],
   "source": []
  }
 ],
 "metadata": {
  "kernelspec": {
   "display_name": "base",
   "language": "python",
   "name": "python3"
  },
  "language_info": {
   "codemirror_mode": {
    "name": "ipython",
    "version": 3
   },
   "file_extension": ".py",
   "mimetype": "text/x-python",
   "name": "python",
   "nbconvert_exporter": "python",
   "pygments_lexer": "ipython3",
   "version": "3.12.4"
  }
 },
 "nbformat": 4,
 "nbformat_minor": 5
}
